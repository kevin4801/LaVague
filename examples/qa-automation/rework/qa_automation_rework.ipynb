{
 "cells": [
  {
   "cell_type": "markdown",
   "metadata": {},
   "source": [
    "# Using LaVague for QA Automation\n",
    "\n",
    "In this notebook, we'll show how LaVague can be used to automatically generate pytest files from a Gherkin test definition\n",
    "\n",
    "We will use LaVague to autonomously run the test and record xpath and actions. We'll then use an LLM to generate assert statements and the final reusable test file. "
   ]
  },
  {
   "cell_type": "markdown",
   "metadata": {},
   "source": [
    "# Test cases\n",
    "**There are currently two examples test cases, only run the cell you want to test**"
   ]
  },
  {
   "cell_type": "markdown",
   "metadata": {},
   "source": [
    "## Test case 1: Amazon Cart\n",
    "- Accept cookies\n",
    "- Perform a search\n",
    "- Click on a product\n",
    "- Add it to cart\n",
    "- Access the cart page\n",
    "- Remove the item from cart\n",
    "- Verify that the cart is empty"
   ]
  },
  {
   "cell_type": "code",
   "execution_count": 2,
   "metadata": {},
   "outputs": [],
   "source": [
    "URL = \"https://www.amazon.fr/\"\n",
    "\n",
    "GHERKIN = \"\"\"Feature: Amazon Cart\n",
    "\n",
    "  Scenario: Add and remove a single product from cart\n",
    "    Given I am on the homepage\n",
    "    When I click \"Accepter\" to accept cookies\n",
    "    And I enter \"Harry Potter et la Chambre des Secrets poche\" into the search bar and press Enter\n",
    "    And I click on the first book in the search results\n",
    "    And I click on the \"Ajouter au panier\" button\n",
    "    And I click on \"Aller au panier\" under \"Passer la commande\"\n",
    "    And I click on \"Supprimer\" from the cart page\n",
    "    Then the cart should be empty\n",
    "\"\"\"\n",
    "\n",
    "FEATURE_FILE_NAME = \"demo_amazon.feature\"\n",
    "TEST_FILE_NAME = \"demo_amazon.py\""
   ]
  },
  {
   "cell_type": "markdown",
   "metadata": {},
   "source": [
    "## Test case 2: LaPoste Shipping Calculator\n",
    "- Accept cookies\n",
    "- Navigate to the shipping calculator\n",
    "- Select values for package size and weight\n",
    "- Verify the price is as expected"
   ]
  },
  {
   "cell_type": "code",
   "execution_count": 2,
   "metadata": {},
   "outputs": [],
   "source": [
    "URL = \"https://www.laposte.fr/\"\n",
    "\n",
    "GHERKIN = \"\"\"Feature: Shipping cost calculator\n",
    "\n",
    "  Scenario: Estimate shipping costs for a large package\n",
    "    Given I am on the homepage\n",
    "    When I click on \"J'accepte\" to accept cookies\n",
    "    And I click on \"Envoyer un colis\"\n",
    "    And I click on the \"Format du colis\" dropdown under \"Dimension\"\n",
    "    And I click on \"Volumineux & tube\" from the dropdown results\n",
    "    And I enter 15 in the \"Poids\" field\n",
    "    And I wait for the cost to update\n",
    "    Then the cost should be \"34,70 €\"\n",
    "\"\"\"\n",
    "\n",
    "FEATURE_FILE_NAME = \"demo_laposte.feature\"\n",
    "TEST_FILE_NAME = \"demo_laposte.py\""
   ]
  },
  {
   "cell_type": "markdown",
   "metadata": {},
   "source": [
    "# Running a test case with LaVague"
   ]
  },
  {
   "cell_type": "markdown",
   "metadata": {},
   "source": [
    "## Parsing the Gherkin\n",
    "We parse the Gherkin file to extract the assert statement, this will be usefull when we want to generate the assert code"
   ]
  },
  {
   "cell_type": "code",
   "execution_count": 3,
   "metadata": {},
   "outputs": [
    {
     "name": "stdout",
     "output_type": "stream",
     "text": [
      "Then the cart should be empty\n"
     ]
    }
   ],
   "source": [
    "scenarios = GHERKIN.split(\"Scenario:\")\n",
    "parsed_scenarios = []\n",
    "for scenario in scenarios[1:]:\n",
    "    scenario_name, *scenario_steps = scenario.strip().split(\"\\n\")\n",
    "    parsed_scenarios.append(\n",
    "        {\n",
    "            \"name\": scenario_name.strip(),\n",
    "            \"steps\": [step.strip() for step in scenario_steps],\n",
    "        }\n",
    "    )\n",
    "\n",
    "def prepare_scenario(scenario):\n",
    "    return \"\\n\".join(scenario[\"steps\"]), scenario[\"steps\"][-1]\n",
    "\n",
    "\n",
    "steps, assert_statement = prepare_scenario(parsed_scenarios[0])\n",
    "\n",
    "print(assert_statement)\n"
   ]
  },
  {
   "cell_type": "code",
   "execution_count": 4,
   "metadata": {},
   "outputs": [
    {
     "name": "stdout",
     "output_type": "stream",
     "text": [
      "Given I am on the homepage\n",
      "When I click \"Accepter\" to accept cookies\n",
      "And I enter \"Harry Potter et la Chambre des Secrets poche\" into the search bar and press Enter\n",
      "And I click on the first item in the search results\n",
      "And I click on the \"Ajouter au panier\" button\n",
      "And I click on \"Aller au panier\"  under \"Passer la commande\"\n",
      "And I click on \"Supprimer\" from the cart page\n",
      "Then the cart should be empty\n"
     ]
    }
   ],
   "source": [
    "print(steps)"
   ]
  },
  {
   "cell_type": "markdown",
   "metadata": {},
   "source": [
    "## Init LaVague\n",
    "\n",
    "We create a standard LaVague agent and open the URL"
   ]
  },
  {
   "cell_type": "code",
   "execution_count": 4,
   "metadata": {},
   "outputs": [
    {
     "name": "stderr",
     "output_type": "stream",
     "text": [
      "2024-07-29 17:26:03,665 - INFO - Screenshot folder cleared\n"
     ]
    }
   ],
   "source": [
    "from lavague.core import  WorldModel, ActionEngine\n",
    "from lavague.core.agents import WebAgent\n",
    "from lavague.drivers.selenium import SeleniumDriver\n",
    "from lavague.core.retrievers import SemanticRetriever\n",
    "from selenium.webdriver.chrome.options import Options\n",
    "\n",
    "from llama_index.llms.openai import OpenAI\n",
    "from llama_index.multi_modal_llms.openai import OpenAIMultiModal\n",
    "from llama_index.legacy.readers.file.base import SimpleDirectoryReader\n",
    "\n",
    "selenium_driver = SeleniumDriver(headless=False)\n",
    "world_model = WorldModel()\n",
    "action_engine = ActionEngine(selenium_driver)\n",
    "agent = WebAgent(world_model, action_engine)\n",
    "\n",
    "agent.get(URL)"
   ]
  },
  {
   "cell_type": "markdown",
   "metadata": {},
   "source": [
    "## Start the agent\n",
    "We start the agent and record the steps taken as a `pandas` dataframe"
   ]
  },
  {
   "cell_type": "code",
   "execution_count": 5,
   "metadata": {},
   "outputs": [
    {
     "name": "stderr",
     "output_type": "stream",
     "text": [
      "2024-07-29 17:26:08,924 - INFO - Thoughts:\n",
      "- The current screenshot shows the homepage of Amazon.fr.\n",
      "- The first step in the test case is to click \"Accepter\" to accept cookies.\n",
      "- The \"Accepter\" button is visible in the cookie consent banner.\n",
      "- The next step should involve clicking on the \"Accepter\" button to proceed.\n",
      "\n",
      "Next engine: Navigation Engine\n",
      "Instruction: Click on the \"Accepter\" button in the cookie consent banner.\n",
      "2024-07-29 17:26:22,294 - INFO - Thoughts:\n",
      "- The current screenshot shows the homepage of Amazon.fr.\n",
      "- The objective is to perform a series of actions step by step, starting with accepting cookies, which has already been done.\n",
      "- The next step is to enter \"Harry Potter et la Chambre des Secrets poche\" into the search bar and press Enter.\n",
      "- The search bar is likely to be an interactable element on the homepage.\n",
      "\n",
      "Next engine: Navigation Engine\n",
      "Instruction: Enter \"Harry Potter et la Chambre des Secrets poche\" into the search bar and press Enter.\n",
      "2024-07-29 17:26:35,000 - INFO - Thoughts:\n",
      "- The current screenshot shows the search results page for \"Harry Potter et la Chambre des Secrets poche\" on Amazon.fr.\n",
      "- The objective is to click on the first book in the search results.\n",
      "- The first book in the search results is clearly visible and clickable.\n",
      "- The next step should involve clicking on the first book to proceed with the test case.\n",
      "\n",
      "Next engine: Navigation Engine\n",
      "Instruction: Click on the first book in the search results with the title \"Harry Potter et la Chambre des Secrets\".\n",
      "2024-07-29 17:26:58,455 - INFO - Thoughts:\n",
      "- The current screenshot shows the product page for \"Harry Potter et la Chambre des Secrets\" on Amazon.fr.\n",
      "- The next step in the test case is to click on the \"Ajouter au panier\" button to add the book to the cart.\n",
      "- The \"Ajouter au panier\" button is visible on the page and can be interacted with.\n",
      "\n",
      "Next engine: Navigation Engine\n",
      "Instruction: Click on the \"Ajouter au panier\" button.\n",
      "2024-07-29 17:27:15,681 - INFO - Thoughts:\n",
      "- The current screenshot shows the cart page on Amazon.fr after adding \"Harry Potter et la Chambre des Secrets poche\" to the cart.\n",
      "- The objective is to proceed to the cart and remove the item to ensure the cart is empty.\n",
      "- The next step is to click on the \"Aller au panier\" button under \"Passer la commande\" to navigate to the cart page.\n",
      "\n",
      "Next engine: Navigation Engine\n",
      "Instruction: Click on the \"Aller au panier\" button under \"Passer la commande\".\n",
      "2024-07-29 17:27:30,044 - INFO - Thoughts:\n",
      "- The current screenshot shows the cart page on Amazon.fr with the book \"Harry Potter et la Chambre des Secrets\" added to the cart.\n",
      "- The objective is to click on the \"Supprimer\" button to remove the book from the cart.\n",
      "- The next step should involve locating and clicking the \"Supprimer\" button to proceed with emptying the cart.\n",
      "\n",
      "Next engine: Navigation Engine\n",
      "Instruction: Click on the \"Supprimer\" button to remove the book from the cart.\n",
      "2024-07-29 17:27:43,407 - INFO - Thoughts:\n",
      "- The current screenshot shows the cart page on Amazon.fr.\n",
      "- The objective is to verify that the cart is empty after removing the book.\n",
      "- The screenshot indicates that the cart is indeed empty with the message \"Votre panier Amazon est vide.\"\n",
      "- The objective has been achieved as the cart is confirmed to be empty.\n",
      "\n",
      "Next engine: COMPLETE\n",
      "Instruction: The cart is empty as indicated by the message \"Votre panier Amazon est vide.\"\n",
      "2024-07-29 17:27:43,408 - INFO - Objective reached. Stopping...\n"
     ]
    },
    {
     "name": "stdout",
     "output_type": "stream",
     "text": [
      "Connected to SQLite\n",
      "Table created or altered successfully\n",
      "Log insert complete\n"
     ]
    }
   ],
   "source": [
    "agent.run(f\"Run this test case step by step: {steps[:-1]}\", log_to_db=True)\n",
    "\n",
    "logs = agent.logger.return_pandas()"
   ]
  },
  {
   "cell_type": "markdown",
   "metadata": {},
   "source": [
    "# Processing a test case\n",
    "\n",
    "## Extract run steps and code\n",
    "After the agent has finished running, we extract instructions and actions taken from the logs. \n",
    "We also get the screenshot of the last page visited. "
   ]
  },
  {
   "cell_type": "code",
   "execution_count": 6,
   "metadata": {},
   "outputs": [
    {
     "name": "stdout",
     "output_type": "stream",
     "text": [
      "Click on the \"Accepter\" button in the cookie consent banner. \n",
      "- actions:\n",
      "    - action:\n",
      "        args:\n",
      "            xpath: \"/html/body/div/span/form/div[2]/span/span/input\"\n",
      "        name: \"click\"\n",
      "\n",
      "Enter \"Harry Potter et la Chambre des Secrets poche\" into the search bar and press Enter. \n",
      "- actions:\n",
      "    - action:\n",
      "        args:\n",
      "            xpath: \"/html/body/div/header/div/div/div[2]/div/form/div[3]/div/input\"\n",
      "            value: \"Harry Potter et la Chambre des Secrets poche\"\n",
      "        name: \"setValueAndEnter\"\n",
      "\n",
      "Click on the first book in the search results with the title \"Harry Potter et la Chambre des Secrets\". \n",
      "- actions:\n",
      "    - action:\n",
      "        args:\n",
      "            xpath: \"/html/body/div/div/div/div/div/span/div/div[4]/div/div/span/div/div/div/span/a/div\"\n",
      "        name: \"click\"\n",
      "\n",
      "Click on the \"Ajouter au panier\" button. \n",
      "- actions:\n",
      "    - action:\n",
      "        args:\n",
      "            xpath: \"/html/body/div[2]/div/div[4]/div/div[5]/div[4]/div[4]/div/div/div/div/div/div/div/div/div/div/div/div/div[2]/div/form/div/div/div[23]/div/span/span/span/input\"\n",
      "        name: \"click\"\n",
      "\n",
      "Click on the \"Aller au panier\" button under \"Passer la commande\". \n",
      "- actions:\n",
      "    - action:\n",
      "        args:\n",
      "            xpath: \"/html/body/div/div/div/div/div[2]/div/div[3]/div/div/span/span/a\"\n",
      "        name: \"click\"\n",
      "\n",
      "Click on the \"Supprimer\" button to remove the book from the cart. \n",
      "- actions:\n",
      "    - action:\n",
      "        args:\n",
      "            xpath: \"/html/body/div/div/div[3]/div[5]/div/div[2]/div/div/form/div[2]/div[3]/div[4]/div/div[2]/div/span[2]/span/input\"\n",
      "        name: \"click\"\n",
      "\n",
      " \n"
     ]
    }
   ],
   "source": [
    "# we will remove chain of thought comments to only keep the actions\n",
    "def remove_comments(code):\n",
    "    return '\\n'.join([line for line in code.split('\\n') if not line.strip().startswith('#')])\n",
    "\n",
    "# get all actions\n",
    "actions = \"\\n\".join(logs[\"code\"].dropna())\n",
    "\n",
    "# clean data\n",
    "logs['action'] = logs['code'].dropna().apply(remove_comments)\n",
    "cleaned_logs = logs[['instruction', 'action']].fillna('')\n",
    "actions = '\\n\\n'.join(cleaned_logs['instruction'] + ' ' + cleaned_logs['action'])\n",
    "\n",
    "# get last page screenshot\n",
    "last_page_screenshot = SimpleDirectoryReader(logs.iloc[-1][\"screenshots_path\"]).load_data() # load last screenshot taken\n",
    "\n",
    "print(actions)"
   ]
  },
  {
   "cell_type": "markdown",
   "metadata": {},
   "source": [
    "## Retrieve nodes for assert\n",
    "Using the `SemanticRetriever`, we fetch nodes that could be relevant to generate the assert statement"
   ]
  },
  {
   "cell_type": "code",
   "execution_count": 7,
   "metadata": {},
   "outputs": [],
   "source": [
    "retriever = SemanticRetriever(embedding=action_engine.python_engine.embedding, xpathed_only=True)\n",
    "html = selenium_driver.get_html()\n",
    "nodes = retriever.retrieve(f\"{assert_statement}\" , html.splitlines())"
   ]
  },
  {
   "cell_type": "code",
   "execution_count": null,
   "metadata": {},
   "outputs": [],
   "source": [
    "# you can run this cell to display all nodes returned by the retriever\n",
    "from IPython.display import HTML\n",
    "\n",
    "for e in nodes: \n",
    "    display(HTML(e))"
   ]
  },
  {
   "cell_type": "markdown",
   "metadata": {},
   "source": [
    "# Generate the `pytest` file\n",
    "Use recorded data about the site to generate a pytest-bdd file\n",
    "\n",
    "We use a multi modal LLM (`gpt-4o`) to generate the final code file"
   ]
  },
  {
   "cell_type": "code",
   "execution_count": 8,
   "metadata": {},
   "outputs": [],
   "source": [
    "gpt4o = OpenAIMultiModal(\"gpt-4o\")\n",
    "gpt4o.max_new_tokens = 2000 # 300 by default, we increase it to make sure our pytest file doesn't get trucated\n",
    "\n",
    "# we'll clean the triple quoted answers from the LLM\n",
    "def clean_output(markdown_code_block):\n",
    "    return markdown_code_block.replace(\"```python\", \"\").replace(\"```\", \"\").replace(\"```\\n\", \"\")"
   ]
  },
  {
   "cell_type": "markdown",
   "metadata": {},
   "source": [
    "## Building the prompt\n",
    "\n",
    "We use a prompt that combines general instructions, examples and the recorded run data to generate the pytest file"
   ]
  },
  {
   "cell_type": "code",
   "execution_count": 9,
   "metadata": {},
   "outputs": [],
   "source": [
    "SYSTEM_PROMPT = f\"\"\"\n",
    "You are an expert in software testing frameworks and Python code generation. You answer in python markdown only and nothing else, don't include anything after the last backticks. Your task is to:\n",
    "1. Process a test case, existing actions (with their associated xpath) that was ran during the test by an agent, relevant HTML nodes, and the screenshot of the last state of the page.\n",
    "2. Generate an assert statement for the last condition of the test case. THis is the most important, you need to generate one assert statement based on the provided `Then` step. \n",
    "3. Package everything in a pytest-bdd file following best practices. \n",
    "Requirements:\n",
    "- Use descriptive function names and name the scenario appropriately.\n",
    "- Always use time.sleep(3) if waiting is required\n",
    "- Include fixtures, scenario, Gherkin-style definitions, etc.\n",
    "- Use try-except blocks to catch exceptions and raise pytest.fail for assert condition steps as needed.\n",
    "- Do not generate asserts for 'Given', 'When', or 'And' steps; only generate asserts for 'Then' steps.\n",
    "- Always use provided selenium code that was already executed to find valid selectors for the final pytestfile. \n",
    "- You answer in python code only and nothing else.\n",
    "\"\"\"\n",
    "\n",
    "EXAMPLES = \"\"\"import pytest\n",
    "from pytest_bdd import scenarios, given, when, then, parsers\n",
    "from selenium import webdriver\n",
    "from selenium.webdriver.common.by import By\n",
    "from selenium.webdriver.support.ui import WebDriverWait\n",
    "from selenium.webdriver.support import expected_conditions as EC\n",
    "from selenium.common.exceptions import ElementClickInterceptedException\n",
    "import time\n",
    "import random\n",
    "\n",
    "# Constants\n",
    "BASE_URL = 'https://example.com'\n",
    "\n",
    "# Scenarios\n",
    "scenarios('example.feature')\n",
    "\n",
    "# Fixtures\n",
    "@pytest.fixture\n",
    "def browser():\n",
    "   driver = webdriver.Chrome()\n",
    "   driver.implicitly_wait(10)\n",
    "   yield driver\n",
    "   driver.quit()\n",
    "\n",
    "# Steps\n",
    "@given('I am on the example website')\n",
    "def go_to_homepage(browser):\n",
    "   browser.get(BASE_URL)\n",
    "   WebDriverWait(browser, 10).until(\n",
    "       EC.presence_of_element_located((By.TAG_NAME, \"body\"))\n",
    "   )\n",
    "\n",
    "@when(parsers.parse('I click the \"{button_text}\" button'))\n",
    "def click_button(browser, button_text):\n",
    "   button = WebDriverWait(browser, 10).until(\n",
    "       EC.element_to_be_clickable((By.XPATH, f\"//button[contains(text(), '{button_text}')]\"))\n",
    "   )\n",
    "   try:\n",
    "       browser.execute_script(\"arguments[0].click();\", button)\n",
    "   except ElementClickInterceptedException:\n",
    "       pytest.fail(f\"Failed to click the '{button_text}' button\")\n",
    "\n",
    "@when(parsers.parse('I enter \"{text}\" in the \"{field_name}\" field'))\n",
    "def enter_text(browser, text, field_name):\n",
    "   input_field = WebDriverWait(browser, 10).until(\n",
    "       EC.presence_of_element_located((By.XPATH, f\"//input[@placeholder='{field_name}' or @name='{field_name}']\"))\n",
    "   )\n",
    "   input_field.clear()\n",
    "   input_field.send_keys(text)\n",
    "\n",
    "@when('I select a random option from the dropdown')\n",
    "def select_random_option(browser):\n",
    "   dropdown = WebDriverWait(browser, 10).until(\n",
    "       EC.presence_of_element_located((By.TAG_NAME, \"select\"))\n",
    "   )\n",
    "   options = dropdown.find_elements(By.TAG_NAME, \"option\")\n",
    "   random_option = random.choice(options)\n",
    "   random_option.click()\n",
    "\n",
    "@when('I wait for the page to load')\n",
    "def wait_for_page_load(browser):\n",
    "   time.sleep(5)\n",
    "   WebDriverWait(browser, 10).until(\n",
    "       EC.presence_of_element_located((By.TAG_NAME, \"body\"))\n",
    "   )\n",
    "   time.sleep(2)  # Additional wait to ensure page is fully loaded\n",
    "\n",
    "@then(parsers.parse('I should see the text \"{expected_text}\" on the page'))\n",
    "def verify_text_presence(browser, expected_text):\n",
    "   try:\n",
    "       WebDriverWait(browser, 10).until(\n",
    "           EC.presence_of_element_located((By.XPATH, f\"//*[contains(text(), '{expected_text}')]\"))\n",
    "       )\n",
    "   except Exception as e:\n",
    "       pytest.fail(f\"Failed to find the text '{expected_text}' on the page: {str(e)}\")\n",
    "\n",
    "@then(parsers.parse('the \"{element_name}\" should be visible'))\n",
    "def verify_element_visibility(browser, element_name):\n",
    "   try:\n",
    "       element = WebDriverWait(browser, 10).until(\n",
    "           EC.visibility_of_element_located((By.XPATH, f\"//*[@id='{element_name}' or @name='{element_name}' or contains(@class, '{element_name}')]\"))\n",
    "       )\n",
    "       assert element.is_displayed(), f\"The element '{element_name}' is not visible\"\n",
    "   except Exception as e:\n",
    "       pytest.fail(f\"Failed to verify visibility of '{element_name}': {str(e)}\")\n",
    "\n",
    "@then(parsers.parse('the page title should be \"{expected_title}\"'))\n",
    "def verify_page_title(browser, expected_title):\n",
    "   try:\n",
    "       time.sleep(3)\n",
    "       WebDriverWait(browser, 10).until(EC.title_is(expected_title))\n",
    "   except Exception as e:\n",
    "       pytest.fail(f\"Page title does not match '{expected_title}': {str(e)}\")\n",
    "\"\"\"\n",
    "\n",
    "\n",
    "\n",
    "PROMPT = f\"\"\"{SYSTEM_PROMPT}\n",
    "\n",
    "Generate a valid pytest-bdd file with the following inputs and examples to guide you:\n",
    "Feature file name: {FEATURE_FILE_NAME}\\n\n",
    "URL: {URL}\\n\n",
    "Full feature to be tested: \\n{GHERKIN}\\n\n",
    "Already executed (instruction + actions):\\n{actions}\\n\n",
    "Assert statement (Then) to test: {assert_statement}\n",
    "Chunk of HTML that may be usefull to generate the assert statement. Generate a general statement that checks for the assert using these nodes: {nodes}\\n\n",
    "Examples:\\n\\n{EXAMPLES}\n",
    "\"\"\""
   ]
  },
  {
   "cell_type": "markdown",
   "metadata": {},
   "source": [
    "## Generate the test\n",
    "Call the LLM with the final prompt then clean the ouput"
   ]
  },
  {
   "cell_type": "code",
   "execution_count": 10,
   "metadata": {},
   "outputs": [],
   "source": [
    "generated_pytest = gpt4o.complete(PROMPT, image_documents=last_page_screenshot).text\n",
    "generated_pytest = clean_output(generated_pytest)"
   ]
  },
  {
   "cell_type": "code",
   "execution_count": 11,
   "metadata": {},
   "outputs": [
    {
     "name": "stdout",
     "output_type": "stream",
     "text": [
      "\n",
      "import pytest\n",
      "from pytest_bdd import scenarios, given, when, then, parsers\n",
      "from selenium import webdriver\n",
      "from selenium.webdriver.common.by import By\n",
      "from selenium.webdriver.support.ui import WebDriverWait\n",
      "from selenium.webdriver.support import expected_conditions as EC\n",
      "from selenium.common.exceptions import ElementClickInterceptedException\n",
      "import time\n",
      "\n",
      "# Constants\n",
      "BASE_URL = 'https://www.amazon.fr/'\n",
      "\n",
      "# Scenarios\n",
      "scenarios('demo_amazon.feature')\n",
      "\n",
      "# Fixtures\n",
      "@pytest.fixture\n",
      "def browser():\n",
      "    driver = webdriver.Chrome()\n",
      "    driver.implicitly_wait(10)\n",
      "    yield driver\n",
      "    driver.quit()\n",
      "\n",
      "# Steps\n",
      "@given('I am on the homepage')\n",
      "def go_to_homepage(browser):\n",
      "    browser.get(BASE_URL)\n",
      "    WebDriverWait(browser, 10).until(\n",
      "        EC.presence_of_element_located((By.TAG_NAME, \"body\"))\n",
      "    )\n",
      "\n",
      "@when('I click \"Accepter\" to accept cookies')\n",
      "def click_accept_cookies(browser):\n",
      "    button = WebDriverWait(browser, 10).until(\n",
      "        EC.element_to_be_clickable((By.XPATH, \"/html/body/div/span/form/div[2]/span/span/input\"))\n",
      "    )\n",
      "    try:\n",
      "        browser.execute_script(\"arguments[0].click();\", button)\n",
      "    except ElementClickInterceptedException:\n",
      "        pytest.fail(\"Failed to click the 'Accepter' button\")\n",
      "\n",
      "@when(parsers.parse('I enter \"{search_text}\" into the search bar and press Enter'))\n",
      "def enter_search_text(browser, search_text):\n",
      "    search_bar = WebDriverWait(browser, 10).until(\n",
      "        EC.presence_of_element_located((By.XPATH, \"/html/body/div/header/div/div/div[2]/div/form/div[3]/div/input\"))\n",
      "    )\n",
      "    search_bar.clear()\n",
      "    search_bar.send_keys(search_text)\n",
      "    search_bar.submit()\n",
      "\n",
      "@when('I click on the first book in the search results')\n",
      "def click_first_book(browser):\n",
      "    first_book = WebDriverWait(browser, 10).until(\n",
      "        EC.element_to_be_clickable((By.XPATH, \"/html/body/div/div/div/div/div/span/div/div[4]/div/div/span/div/div/div/span/a/div\"))\n",
      "    )\n",
      "    try:\n",
      "        browser.execute_script(\"arguments[0].click();\", first_book)\n",
      "    except ElementClickInterceptedException:\n",
      "        pytest.fail(\"Failed to click the first book in the search results\")\n",
      "\n",
      "@when('I click on the \"Ajouter au panier\" button')\n",
      "def click_add_to_cart(browser):\n",
      "    add_to_cart_button = WebDriverWait(browser, 10).until(\n",
      "        EC.element_to_be_clickable((By.XPATH, \"/html/body/div[2]/div/div[4]/div/div[5]/div[4]/div[4]/div/div/div/div/div/div/div/div/div/div/div/div/div[2]/div/form/div/div/div[23]/div/span/span/span/input\"))\n",
      "    )\n",
      "    try:\n",
      "        browser.execute_script(\"arguments[0].click();\", add_to_cart_button)\n",
      "    except ElementClickInterceptedException:\n",
      "        pytest.fail(\"Failed to click the 'Ajouter au panier' button\")\n",
      "\n",
      "@when('I click on \"Aller au panier\" under \"Passer la commande\"')\n",
      "def click_go_to_cart(browser):\n",
      "    go_to_cart_button = WebDriverWait(browser, 10).until(\n",
      "        EC.element_to_be_clickable((By.XPATH, \"/html/body/div/div/div/div/div[2]/div/div[3]/div/div/span/span/a\"))\n",
      "    )\n",
      "    try:\n",
      "        browser.execute_script(\"arguments[0].click();\", go_to_cart_button)\n",
      "    except ElementClickInterceptedException:\n",
      "        pytest.fail(\"Failed to click the 'Aller au panier' button\")\n",
      "\n",
      "@when('I click on \"Supprimer\" from the cart page')\n",
      "def click_remove_from_cart(browser):\n",
      "    remove_button = WebDriverWait(browser, 10).until(\n",
      "        EC.element_to_be_clickable((By.XPATH, \"/html/body/div/div/div[3]/div[5]/div/div[2]/div/div/form/div[2]/div[3]/div[4]/div/div[2]/div/span[2]/span/input\"))\n",
      "    )\n",
      "    try:\n",
      "        browser.execute_script(\"arguments[0].click();\", remove_button)\n",
      "    except ElementClickInterceptedException:\n",
      "        pytest.fail(\"Failed to click the 'Supprimer' button\")\n",
      "\n",
      "@then('the cart should be empty')\n",
      "def verify_cart_is_empty(browser):\n",
      "    try:\n",
      "        time.sleep(3)\n",
      "        empty_cart_message = WebDriverWait(browser, 10).until(\n",
      "            EC.presence_of_element_located((By.XPATH, \"//*[contains(text(), 'Votre panier Amazon est vide.')]\"))\n",
      "        )\n",
      "        assert empty_cart_message.is_displayed(), \"The cart is not empty\"\n",
      "    except Exception as e:\n",
      "        pytest.fail(f\"Failed to verify that the cart is empty: {str(e)}\")\n",
      "\n"
     ]
    }
   ],
   "source": [
    "print(generated_pytest)"
   ]
  },
  {
   "cell_type": "markdown",
   "metadata": {},
   "source": [
    "## Write test to file\n",
    "\n",
    "We'll write two generated files to disk: \n",
    "- `.feature` contains the test scenarios written in the Gherkin syntax\n",
    "- `.py` the actual automated test that we'll run with pytest"
   ]
  },
  {
   "cell_type": "code",
   "execution_count": 12,
   "metadata": {},
   "outputs": [
    {
     "name": "stdout",
     "output_type": "stream",
     "text": [
      "WRITING FILE\n"
     ]
    }
   ],
   "source": [
    "import os\n",
    "with open(FEATURE_FILE_NAME, \"w\") as file:\n",
    "        file.write(GHERKIN)\n",
    "        \n",
    "with open(TEST_FILE_NAME, \"w\") as file:\n",
    "        print(\"WRITING FILE\")\n",
    "        file.write(generated_pytest)"
   ]
  },
  {
   "cell_type": "markdown",
   "metadata": {},
   "source": [
    "# Run tests\n",
    "\n",
    "We can finally run our generated test to see it in action"
   ]
  },
  {
   "cell_type": "code",
   "execution_count": 15,
   "metadata": {},
   "outputs": [
    {
     "name": "stdout",
     "output_type": "stream",
     "text": [
      "\u001b[1m============================= test session starts ==============================\u001b[0m\n",
      "platform darwin -- Python 3.10.14, pytest-8.2.1, pluggy-1.5.0\n",
      "rootdir: /Users/palmi/work/repos/fix-token-counter-name-lookup/LaVague\n",
      "configfile: pyproject.toml\n",
      "plugins: anyio-4.3.0, bdd-7.1.2\n",
      "collected 1 item                                                               \u001b[0m\n",
      "\n",
      "demo_amazon.py \u001b[32m.\u001b[0m\u001b[32m                                                         [100%]\u001b[0m\n",
      "\n",
      "\u001b[32m============================== \u001b[32m\u001b[1m1 passed\u001b[0m\u001b[32m in 10.96s\u001b[0m\u001b[32m ==============================\u001b[0m\n"
     ]
    }
   ],
   "source": [
    "!pytest demo_amazon.py"
   ]
  },
  {
   "cell_type": "code",
   "execution_count": 16,
   "metadata": {},
   "outputs": [
    {
     "name": "stdout",
     "output_type": "stream",
     "text": [
      "\u001b[1m============================= test session starts ==============================\u001b[0m\n",
      "platform darwin -- Python 3.10.14, pytest-8.2.1, pluggy-1.5.0\n",
      "rootdir: /Users/palmi/work/repos/fix-token-counter-name-lookup/LaVague\n",
      "configfile: pyproject.toml\n",
      "plugins: anyio-4.3.0, bdd-7.1.2\n",
      "collected 1 item                                                               \u001b[0m\n",
      "\n",
      "demo_laposte.py ^C\n"
     ]
    }
   ],
   "source": [
    "!pytest demo_laposte.py"
   ]
  },
  {
   "cell_type": "code",
   "execution_count": null,
   "metadata": {},
   "outputs": [],
   "source": []
  }
 ],
 "metadata": {
  "kernelspec": {
   "display_name": "lavague-Oj4z07SL-py3.11",
   "language": "python",
   "name": "python3"
  },
  "language_info": {
   "codemirror_mode": {
    "name": "ipython",
    "version": 3
   },
   "file_extension": ".py",
   "mimetype": "text/x-python",
   "name": "python",
   "nbconvert_exporter": "python",
   "pygments_lexer": "ipython3",
   "version": "3.11.2"
  }
 },
 "nbformat": 4,
 "nbformat_minor": 2
}
