{
 "cells": [
  {
   "cell_type": "markdown",
   "metadata": {},
   "source": [
    "# Using LaVague for QA Automation\n",
    "\n",
    "In this notebook, we'll show how LaVague can be used to automatically generate pytest files from a Gherkin test definition\n",
    "\n",
    "We will use LaVague to autonomously run the test and record xpath and actions. We'll then use an LLM to generate assert statements and the final reusable test file. "
   ]
  },
  {
   "cell_type": "markdown",
   "metadata": {},
   "source": [
    "# Test cases\n",
    "**There are currently two examples test cases, only run the cell you want to test**"
   ]
  },
  {
   "cell_type": "markdown",
   "metadata": {},
   "source": [
    "## Test case 1: Amazon Cart\n",
    "- Accept cookies\n",
    "- Perform a search\n",
    "- Click on a product\n",
    "- Add it to cart\n",
    "- Access the cart page\n",
    "- Remove the item from cart\n",
    "- Verify that the cart is empty"
   ]
  },
  {
   "cell_type": "code",
   "execution_count": 1,
   "metadata": {},
   "outputs": [],
   "source": [
    "URL = \"https://www.amazon.fr/\"\n",
    "\n",
    "GHERKIN = \"\"\"Feature: Amazon Cart\n",
    "\n",
    "  Scenario: Add and remove a single product from cart\n",
    "    Given I am on the homepage\n",
    "    When I click \"Accepter\" to accept cookies\n",
    "    And I enter \"Harry Potter et la Chambre des Secrets\" into the search bar and press Enter\n",
    "    And I click on \"Harry Potter et la Chambre des Secrets\" in the search results\n",
    "    And I am on the product details page\n",
    "    And I click on the \"Ajouter au panier\" button\n",
    "    And I am taken to a confirmation page\n",
    "    And I click on \"Aller au panier\"\n",
    "    And I am taken to the cart page\n",
    "    And I remove the product from the cart by clicking on \"Supprimer\"\n",
    "    Then the cart should be empty\n",
    "\"\"\""
   ]
  },
  {
   "cell_type": "markdown",
   "metadata": {},
   "source": [
    "## Test case 2: LaPoste Shipping Calculator\n",
    "- Accept cookies\n",
    "- Navigate to the shipping calculator\n",
    "- Select values for package size and weight\n",
    "- Verify the price is as expected"
   ]
  },
  {
   "cell_type": "code",
   "execution_count": 2,
   "metadata": {},
   "outputs": [],
   "source": [
    "URL = \"https://www.laposte.fr/\"\n",
    "\n",
    "GHERKIN = \"\"\"Feature: Shipping cost calculator\n",
    "\n",
    "  Scenario: Estimate shipping costs for a large package\n",
    "    Given I am on the homepage\n",
    "    When I click on \"J'accepte\" to accept cookies\n",
    "    And I click on \"Envoyer un colis\"\n",
    "    And I click on the \"Format du colis\" dropdown under \"Dimension\"\n",
    "    And I click on \"Volumineux & tube\" from the dropdown results\n",
    "    And I enter 15 in the \"Poids\" field\n",
    "    And I wait for the cost to update\n",
    "    Then the cost should be \"34,70 €\"\n",
    "\"\"\""
   ]
  },
  {
   "cell_type": "markdown",
   "metadata": {},
   "source": [
    "# Running a test case with LaVague"
   ]
  },
  {
   "cell_type": "markdown",
   "metadata": {},
   "source": [
    "## Parsing the Gherkin\n",
    "We parse the Gherkin file to extract the assert statement, this will be usefull when we want to generate the assert code"
   ]
  },
  {
   "cell_type": "code",
   "execution_count": 11,
   "metadata": {},
   "outputs": [
    {
     "name": "stdout",
     "output_type": "stream",
     "text": [
      "Then the cost should be \"34,70 €\"\n"
     ]
    }
   ],
   "source": [
    "FEATURE_FILE_NAME = \"demo.feature\"\n",
    "TEST_FILE_NAME = \"demo_test.py\"\n",
    "scenarios = GHERKIN.split(\"Scenario:\")\n",
    "parsed_scenarios = []\n",
    "for scenario in scenarios[1:]:\n",
    "    scenario_name, *scenario_steps = scenario.strip().split(\"\\n\")\n",
    "    parsed_scenarios.append(\n",
    "        {\n",
    "            \"name\": scenario_name.strip(),\n",
    "            \"steps\": [step.strip() for step in scenario_steps],\n",
    "        }\n",
    "    )\n",
    "\n",
    "def prepare_scenario(scenario):\n",
    "    return \"\\n\".join(scenario[\"steps\"]), scenario[\"steps\"][-1]\n",
    "\n",
    "\n",
    "steps, assert_statement = prepare_scenario(parsed_scenarios[0])\n",
    "\n",
    "print(assert_statement)\n"
   ]
  },
  {
   "cell_type": "markdown",
   "metadata": {},
   "source": [
    "## Init LaVague\n",
    "\n",
    "We create a standard LaVague agent and open the URL"
   ]
  },
  {
   "cell_type": "code",
   "execution_count": 4,
   "metadata": {},
   "outputs": [
    {
     "name": "stderr",
     "output_type": "stream",
     "text": [
      "2024-07-29 16:54:58,668 - INFO - Screenshot folder cleared\n"
     ]
    }
   ],
   "source": [
    "from lavague.core import  WorldModel, ActionEngine\n",
    "from lavague.core.agents import WebAgent\n",
    "from lavague.drivers.selenium import SeleniumDriver\n",
    "from lavague.core.retrievers import SemanticRetriever\n",
    "from selenium.webdriver.chrome.options import Options\n",
    "\n",
    "from llama_index.llms.openai import OpenAI\n",
    "from llama_index.multi_modal_llms.openai import OpenAIMultiModal\n",
    "from llama_index.legacy.readers.file.base import SimpleDirectoryReader\n",
    "\n",
    "selenium_driver = SeleniumDriver(headless=False)\n",
    "world_model = WorldModel()\n",
    "action_engine = ActionEngine(selenium_driver)\n",
    "agent = WebAgent(world_model, action_engine)\n",
    "\n",
    "agent.get(URL)"
   ]
  },
  {
   "cell_type": "markdown",
   "metadata": {},
   "source": [
    "## Start the agent\n",
    "We start the agent and record the steps taken as a `pandas` dataframe"
   ]
  },
  {
   "cell_type": "code",
   "execution_count": 5,
   "metadata": {},
   "outputs": [
    {
     "name": "stderr",
     "output_type": "stream",
     "text": [
      "2024-07-29 16:55:04,686 - INFO - Thoughts:\n",
      "- The current screenshot shows the homepage of La Poste.\n",
      "- The first step in the test case is to click on \"J'accepte\" to accept cookies.\n",
      "- The \"J'accepte\" button is likely to be present on the homepage, possibly in a cookie consent banner.\n",
      "- The next step should involve locating and clicking on the \"J'accepte\" button to proceed.\n",
      "\n",
      "Next engine: Navigation Engine\n",
      "Instruction: Click on the \"J'accepte\" button to accept cookies.\n",
      "2024-07-29 16:55:17,133 - INFO - Thoughts:\n",
      "- The current screenshot shows the homepage of La Poste.\n",
      "- The objective is to follow a series of steps to calculate the cost of sending a package.\n",
      "- The first step, accepting cookies, has been completed.\n",
      "- The next step is to click on \"Envoyer un colis\" to proceed with the package sending process.\n",
      "\n",
      "Next engine: Navigation Engine\n",
      "Instruction: Click on \"Envoyer un colis\".\n",
      "2024-07-29 16:55:30,069 - INFO - Thoughts:\n",
      "- The current screenshot shows the page for sending a package (\"Envoyer un colis\") on the La Poste website.\n",
      "- The next step in the test case is to click on the \"Format du colis\" dropdown under \"Dimension\".\n",
      "- This dropdown is likely to be located somewhere on the current page.\n",
      "- The best next step is to locate and click on the \"Format du colis\" dropdown.\n",
      "\n",
      "Next engine: Navigation Engine\n",
      "Instruction: Click on the \"Format du colis\" dropdown under \"Dimension\".\n",
      "2024-07-29 16:55:43,753 - INFO - Thoughts:\n",
      "- The current screenshot shows the \"Envoyer un colis\" page with the \"Format du colis\" dropdown under \"Dimension\" already opened.\n",
      "- The next step in the test case is to select \"Volumineux & tube\" from the dropdown results.\n",
      "- After selecting the correct option, the next step will involve entering the weight in the \"Poids\" field.\n",
      "\n",
      "Next engine: Navigation Engine\n",
      "Instruction: Click on \"Volumineux & tube\" from the dropdown results.\n",
      "2024-07-29 16:55:56,971 - INFO - Thoughts:\n",
      "- The current screenshot shows the \"Envoyer un colis\" page with the \"Format du colis\" dropdown already set to \"Volumineux & Tube\".\n",
      "- The next step in the test case is to enter \"15\" in the \"Poids\" field.\n",
      "- The \"Poids\" field is visible and ready for interaction.\n",
      "- After entering the weight, we need to wait for the cost to update.\n",
      "\n",
      "Next engine: Navigation Engine\n",
      "Instruction: Enter \"15\" in the \"Poids\" field.\n",
      "2024-07-29 16:56:11,852 - INFO - Thoughts:\n",
      "- The current screenshot shows the page for sending a package with Colissimo on La Poste's website.\n",
      "- The \"Poids\" field has been filled with \"15\".\n",
      "- The objective is to wait for the cost to update and verify that the cost is \"34,70 €\".\n",
      "- The cost is already displayed as \"34,70 €\" in the screenshot.\n",
      "- The objective has been achieved as the cost is correctly displayed.\n",
      "\n",
      "Next engine: COMPLETE\n",
      "Instruction: The cost is \"34,70 €\".\n",
      "2024-07-29 16:56:11,854 - INFO - Objective reached. Stopping...\n"
     ]
    },
    {
     "name": "stdout",
     "output_type": "stream",
     "text": [
      "Connected to SQLite\n",
      "Table created or altered successfully\n",
      "Log insert complete\n"
     ]
    }
   ],
   "source": [
    "agent.run(f\"Run this test case step by step: {steps}\", log_to_db=True)\n",
    "\n",
    "logs = agent.logger.return_pandas()"
   ]
  },
  {
   "cell_type": "markdown",
   "metadata": {},
   "source": [
    "# Processing a test case\n",
    "\n",
    "## Extract run steps and code\n",
    "After the agent has finished running, we extract instructions and actions taken from the logs. \n",
    "We also get the screenshot of the last page visited. "
   ]
  },
  {
   "cell_type": "code",
   "execution_count": 6,
   "metadata": {},
   "outputs": [
    {
     "name": "stdout",
     "output_type": "stream",
     "text": [
      "Click on the \"J'accepte\" button to accept cookies. \n",
      "- actions:\n",
      "    - action:\n",
      "        args:\n",
      "            xpath: \"/html/body/div/div[2]/div[2]/button\"\n",
      "        name: \"click\"\n",
      "\n",
      "Click on \"Envoyer un colis\". \n",
      "- actions:\n",
      "    - action:\n",
      "        args:\n",
      "            xpath: \"/html/body/div/div/div/div[2]/div/main/div/div[2]/div[4]/div/div/a[3]\"\n",
      "            value: \"\"\n",
      "        name: \"click\"\n",
      "\n",
      "Click on the \"Format du colis\" dropdown under \"Dimension\". \n",
      "- actions:\n",
      "    - action:\n",
      "        args:\n",
      "            xpath: \"/html/body/div/div/div/div/main/div/div[2]/div[2]/div/div/div/div/div/div/div/div[3]/div[2]/fieldset/div\"\n",
      "            value: \"\"\n",
      "        name: \"click\"\n",
      "\n",
      "Click on \"Volumineux & tube\" from the dropdown results. \n",
      "- actions:\n",
      "    - action:\n",
      "        args:\n",
      "            xpath: \"/html/body/div/div/div/div/main/div/div[2]/div[2]/div/div/div/div/div/div/div/div[3]/div[2]/fieldset/div[2]/div/label[2]\"\n",
      "            value: \"\"\n",
      "        name: \"click\"\n",
      "\n",
      "Enter \"15\" in the \"Poids\" field. \n",
      "- actions:\n",
      "    - action:\n",
      "        args:\n",
      "            xpath: \"/html/body/div/div/div/div/main/div/div[2]/div[2]/div/div/div/div/div/div/div/div[4]/div[2]/div/div/div/div/input\"\n",
      "            value: \"15\"\n",
      "        name: \"setValue\"\n",
      "\n",
      " \n"
     ]
    }
   ],
   "source": [
    "# we will remove chain of thought comments to only keep the actions\n",
    "def remove_comments(code):\n",
    "    return '\\n'.join([line for line in code.split('\\n') if not line.strip().startswith('#')])\n",
    "\n",
    "# get all actions\n",
    "actions = \"\\n\".join(logs[\"code\"].dropna())\n",
    "\n",
    "# clean data\n",
    "logs['action'] = logs['code'].dropna().apply(remove_comments)\n",
    "cleaned_logs = logs[['instruction', 'action']].fillna('')\n",
    "actions = '\\n\\n'.join(cleaned_logs['instruction'] + ' ' + cleaned_logs['action'])\n",
    "\n",
    "# get last page screenshot\n",
    "last_page_screenshot = SimpleDirectoryReader(logs.iloc[-1][\"screenshots_path\"]).load_data() # load last screenshot taken\n",
    "\n",
    "print(actions)"
   ]
  },
  {
   "cell_type": "markdown",
   "metadata": {},
   "source": [
    "## Retrieve nodes for assert\n",
    "Using the `SemanticRetriever`, we fetch nodes that could be relevant to generate the assert statement"
   ]
  },
  {
   "cell_type": "code",
   "execution_count": 7,
   "metadata": {},
   "outputs": [],
   "source": [
    "retriever = SemanticRetriever(embedding=action_engine.python_engine.embedding, xpathed_only=True)\n",
    "html = selenium_driver.get_html()\n",
    "nodes = retriever.retrieve(f\"{assert_statement}\" , html.splitlines())"
   ]
  },
  {
   "cell_type": "code",
   "execution_count": 8,
   "metadata": {},
   "outputs": [
    {
     "data": {
      "text/html": [
       "<div data-v-83c67f22=\"\" id=\"format-lightbox\" role=\"listbox\" aria-multiselectable=\"true\" class=\"dropdown__lightbox\" style=\"height: 88px; display: none;\"><!----><div data-v-83c67f22=\"\" class=\"dropdown__optionsList\"><!----><input data-v-83c67f22=\"\" role=\"option\" tabindex=\"-1\" type=\"radio\" id=\"format-option-0\" data-order=\"00\" name=\"format-option-0\" class=\"dropdown__checker\" value=\"Standard\"><!----><label data-v-83c67f22=\"\" for=\"format-option-0\" class=\"dropdown__item\"><!----><!----><!----><!----><span data-v-83c67f22=\"\" class=\"dropdown__text\">Standard</span></label><input data-v-83c67f22=\"\" role=\"option\" tabindex=\"-1\" type=\"radio\" id=\"format-option-1\" data-order=\"01\" name=\"format-option-1\" class=\"dropdown__checker\" value=\"Volumineux &amp; Tube\" aria-selected=\"true\"><!----><label data-v-83c67f22=\"\" for=\"format-option-1\" class=\"dropdown__item\" style=\"border: 2px solid red;\"><!----><!----><!----><!----><span data-v-83c67f22=\"\" class=\"dropdown__text\">Volumineux &amp; Tube</span></label></div><!----></div></fieldset></div></div> <div data-v-740aad48=\"\" class=\"calculator__form__row\"><div data-v-740aad48=\"\" class=\"calculator__form__label\"><span data-v-740aad48=\"\">Poids</span> <div data-v-4df67d7e=\"\" data-v-740aad48=\"\" class=\"tooltip\" style=\"display: inline-flex;\"><div data-v-4df67d7e=\"\" class=\"tooltip__trigger tooltip__trigger--hover tooltip__trigger--closed undefined\"><i data-v-1028a809=\"\" data-v-740aad48=\"\" class=\"calculator__form__icon icon icon--action-information-warning icon--regular icon--default\" data-v-4df67d7e=\"\"><span data-v-1028a809=\"\" class=\"visually-hidden\"></span></i></div><div data-v-4df67d7e=\"\" class=\"tooltip__popper tooltip__popper--top-end tooltip__popper--long\" style=\"display: block; background: rgb(255, 255, 255); top: inherit; right: 0px; bottom: calc(100% + 12px); left: inherit;\"><i data-v-4df67d7e=\"\" class=\"tooltip__arrow tooltip__arrow--top-end\" style=\"border-width: 8px; border-color: rgb(255, 255, 255) transparent transparent;\"></i><span data-v-740aad48=\"\" data-v-4df67d7e=\"\"><ul>\n",
       "              <li>\n",
       "                  Envois vers la France et l'Union Européenne,\n",
       "                  <b>poids max = 30 kg</b>\n",
       "              </li>\n",
       "              <li>\n",
       "                  Envois vers l'international, <b>poids max = 20 kg</b>\n",
       "              </li>\n",
       "            </ul></span></div></div></div> <div data-v-b66f5d54=\"\" data-v-740aad48=\"\" class=\"weightInput calculator__input--weight\" id=\"weightInput\"><div data-v-b66f5d54=\"\" class=\"weightInput__content\"><div data-v-2050b333=\"\" data-v-b66f5d54=\"\" class=\"input weightInput__content__input input--inside input--small input--filled\"><!----><div data-v-2050b333=\"\" class=\"input__global\"><div data-v-2050b333=\"\" class=\"input__wrapper\"><input data-v-2050b333=\"\" autocomplete=\"on\" id=\"weightInput\" name=\"weight\" type=\"text\" class=\"input__field\" style=\"border: 2px solid red;\"><label data-v-2050b333=\"\" for=\"weightInput\" class=\"input__label input__label--inside input--inside visually-hidden\"> poids </label></div><span data-v-2050b333=\"\" class=\"input__unit\"><span data-v-2050b333=\"\"></span></span><!----><!----><!----><!----></div><!----><!----></div></div> <div data-v-b66f5d54=\"\" class=\"weightInput__details\">\n",
       "    soit 15 000 grammes\n",
       "  </div></div></div></div></div> <div data-v-740aad48=\"\" class=\"calculator__cta\"><span data-v-740aad48=\"\" class=\"calculator__cta__subtitle\">\n",
       "            à partir de\n",
       "            <span data-v-740aad48=\"\" class=\"calculator__cta__price\">34,70 €</span></span> <button data-v-0f15f8d9=\"\" data-v-740aad48=\"\" class=\"button calculator__cta__button button__mobile--regular button__tablet--regular button__desktop--regular button--primary button--supernova\"><span data-v-0f15f8d9=\"\" class=\"button__wrapper\"><!----><span data-v-0f15f8d9=\"\" class=\"button__label\">\n",
       "          Envoyez votre colis\n",
       "        </span><span data-v-0f15f8d9=\"\" class=\"anim\"></span><!----></span></button></div></div></div></div><div class=\"spacing spacing--height-small\" data-v-05789aad=\"\" data-v-128377a7=\"\"></div>"
      ],
      "text/plain": [
       "<IPython.core.display.HTML object>"
      ]
     },
     "metadata": {},
     "output_type": "display_data"
    },
    {
     "data": {
      "text/html": [
       "<div data-v-83c67f22=\"\" data-v-66e41f1b=\"\" data-v-740aad48=\"\" class=\"dropdown__wrapper calculator__input\" name=\"depositMode\" icon=\"arrow-bottom\"><fieldset data-v-83c67f22=\"\" class=\"dropdown dropdown--inside dropdown--small dropdown--filled\"><legend data-v-83c67f22=\"\" for=\"depositMode\" class=\"dropdown__label dropdown__label--inside\"> Mode d'envoi </legend><div data-v-83c67f22=\"\" tabindex=\"0\" class=\"dropdown__element dropdown__element--inside dropdown__element--inside-label\"><span data-v-83c67f22=\"\" class=\"dropdown__container\"><!----><!----><span data-v-83c67f22=\"\" class=\"dropdown__value\"> Depuis un point de contact La Poste </span></span><i data-v-1028a809=\"\" data-v-83c67f22=\"\" class=\"dropdown__picto icon icon--arrow-bottom icon--regular icon--default\"><span data-v-1028a809=\"\" class=\"visually-hidden\"></span></i></div><!----><div data-v-83c67f22=\"\" id=\"depositMode-lightbox\" role=\"listbox\" aria-multiselectable=\"true\" class=\"dropdown__lightbox\" style=\"display: none;\"><!----><div data-v-83c67f22=\"\" class=\"dropdown__optionsList\"><!----><input data-v-83c67f22=\"\" role=\"option\" tabindex=\"-1\" aria-selected=\"true\" type=\"radio\" id=\"depositMode-option-0\" data-order=\"00\" name=\"depositMode-option-0\" class=\"dropdown__checker\" value=\"Depuis un point de contact La Poste\"><!----><label data-v-83c67f22=\"\" for=\"depositMode-option-0\" class=\"dropdown__item\"><!----><!----><!----><!----><span data-v-83c67f22=\"\" class=\"dropdown__text\">Depuis un point de contact La Poste</span></label></div><!----></div></fieldset></div></div> <div data-v-740aad48=\"\" class=\"calculator__form__row\"><div data-v-740aad48=\"\" class=\"calculator__form__label\"><span data-v-740aad48=\"\">Destination</span></div> <div data-v-83c67f22=\"\" data-v-66e41f1b=\"\" data-v-63c6c75a=\"\" data-v-740aad48=\"\" class=\"dropdown__wrapper country calculator__input\" name=\"arrival\" id=\"arrival\" value=\"FR\"><fieldset data-v-83c67f22=\"\" class=\"dropdown dropdown--inside dropdown--small dropdown--filled\"><!----><div data-v-83c67f22=\"\" tabindex=\"0\" class=\"dropdown__element dropdown__element--inside dropdown__element--inside-no-label\"><span data-v-83c67f22=\"\" class=\"dropdown__container\"><!----><!----><span data-v-83c67f22=\"\" class=\"dropdown__value\"> France </span></span><i data-v-1028a809=\"\" data-v-83c67f22=\"\" class=\"dropdown__picto icon icon--arrow-bottom icon--regular icon--default\"><span data-v-1028a809=\"\" class=\"visually-hidden\"></span></i></div><!----><div data-v-83c67f22=\"\" id=\"arrival-lightbox\" role=\"listbox\" aria-multiselectable=\"true\" class=\"dropdown__lightbox\" style=\"display: none;\"><div data-v-2050b333=\"\" data-v-83c67f22=\"\" class=\"input dropdown__search input--inside input--medium input--only\"><!----><div data-v-2050b333=\"\" class=\"input__global input__global--isQuiet\"><div data-v-2050b333=\"\" class=\"input__wrapper\"><input data-v-2050b333=\"\" autocomplete=\"off\" id=\"idSearch\" name=\"nameSearch\" type=\"text\" class=\"input__field\"><label data-v-2050b333=\"\" for=\"idSearch\" class=\"input__label input__label--inside input--inside\"> Rechercher </label></div><!----><i data-v-1028a809=\"\" data-v-2050b333=\"\" class=\"input__icon icon icon--search-loupe icon--regular icon--default\"><span data-v-1028a809=\"\" class=\"visually-hidden\"></span></i><!----><!----><!----></div><!----><!----></div>"
      ],
      "text/plain": [
       "<IPython.core.display.HTML object>"
      ]
     },
     "metadata": {},
     "output_type": "display_data"
    },
    {
     "data": {
      "text/html": [
       "<div data-v-83c67f22=\"\" data-v-66e41f1b=\"\" data-v-740aad48=\"\" class=\"dropdown__wrapper calculator__input\" name=\"deliveryMode\" icon=\"arrow-bottom\"><fieldset data-v-83c67f22=\"\" class=\"dropdown dropdown--inside dropdown--small dropdown--filled\"><legend data-v-83c67f22=\"\" for=\"deliveryMode\" class=\"dropdown__label dropdown__label--inside\"> Mode de livraison </legend><div data-v-83c67f22=\"\" tabindex=\"0\" class=\"dropdown__element dropdown__element--inside dropdown__element--inside-label\"><span data-v-83c67f22=\"\" class=\"dropdown__container\"><!----><!----><span data-v-83c67f22=\"\" class=\"dropdown__value\"> Avec signature </span></span><i data-v-1028a809=\"\" data-v-83c67f22=\"\" class=\"dropdown__picto icon icon--arrow-bottom icon--regular icon--default\"><span data-v-1028a809=\"\" class=\"visually-hidden\"></span></i></div><!----><div data-v-83c67f22=\"\" id=\"deliveryMode-lightbox\" role=\"listbox\" aria-multiselectable=\"true\" class=\"dropdown__lightbox\" style=\"display: none;\"><!----><div data-v-83c67f22=\"\" class=\"dropdown__optionsList\"><!----><input data-v-83c67f22=\"\" role=\"option\" tabindex=\"-1\" type=\"radio\" id=\"deliveryMode-option-0\" data-order=\"00\" name=\"deliveryMode-option-0\" class=\"dropdown__checker\" value=\"Avec signature\" aria-selected=\"true\"><!----><label data-v-83c67f22=\"\" for=\"deliveryMode-option-0\" class=\"dropdown__item\"><!----><!----><!----><!----><span data-v-83c67f22=\"\" class=\"dropdown__text\">Avec signature</span></label></div><!----></div></fieldset></div></div> <div data-v-740aad48=\"\" class=\"calculator__form__row\"><div data-v-740aad48=\"\" class=\"calculator__form__label\"><span data-v-740aad48=\"\">Dimension</span> <div data-v-4df67d7e=\"\" data-v-740aad48=\"\" class=\"tooltip\" style=\"display: inline-flex;\"><div data-v-4df67d7e=\"\" class=\"tooltip__trigger tooltip__trigger--hover tooltip__trigger--closed undefined\"><i data-v-1028a809=\"\" data-v-740aad48=\"\" class=\"calculator__form__icon icon icon--action-information-warning icon--regular icon--default\" data-v-4df67d7e=\"\"><span data-v-1028a809=\"\" class=\"visually-hidden\"></span></i></div><div data-v-4df67d7e=\"\" class=\"tooltip__popper tooltip__popper--top-end tooltip__popper--long\" style=\"display: block; background: rgb(255, 255, 255); top: inherit; right: 0px; bottom: calc(100% + 12px); left: inherit;\"><i data-v-4df67d7e=\"\" class=\"tooltip__arrow tooltip__arrow--top-end\" style=\"border-width: 8px; border-color: rgb(255, 255, 255) transparent transparent;\"></i><span data-v-740aad48=\"\" data-v-4df67d7e=\"\"><ul>\n",
       "              <li>\n",
       "                  <b>Standard :</b><br>\n",
       "                  Longueur + Largeur + Hauteur = 150 cm max <br>\n",
       "                  Côté le plus long = 100 cm max\n",
       "              </li>\n",
       "              <li>\n",
       "                  <b>Volumineux :</b> <br>Longueur + Largeur + Hauteur\n",
       "                  <br>\n",
       "                  entre 150 et 200 cm\n",
       "              </li>\n",
       "            </ul></span></div></div></div> <div data-v-83c67f22=\"\" data-v-66e41f1b=\"\" data-v-740aad48=\"\" class=\"dropdown__wrapper calculator__input\" name=\"format\" icon=\"arrow-bottom\"><fieldset data-v-83c67f22=\"\" class=\"dropdown dropdown--inside dropdown--small dropdown--filled\"><legend data-v-83c67f22=\"\" for=\"format\" class=\"dropdown__label dropdown__label--inside\"> Format du colis </legend><div data-v-83c67f22=\"\" tabindex=\"0\" class=\"dropdown__element dropdown__element--inside dropdown__element--inside-label\" style=\"border: 2px solid red;\"><span data-v-83c67f22=\"\" class=\"dropdown__container\"><!----><!----><span data-v-83c67f22=\"\" class=\"dropdown__value\"> Volumineux &amp; Tube </span></span><i data-v-1028a809=\"\" data-v-83c67f22=\"\" class=\"dropdown__picto icon icon--arrow-bottom icon--regular icon--default\"><span data-v-1028a809=\"\" class=\"visually-hidden\"></span></i></div><!----><div data-v-83c67f22=\"\" id=\"format-lightbox\" role=\"listbox\" aria-multiselectable=\"true\" class=\"dropdown__lightbox\" style=\"height: 88px; display: none;\"><!---->"
      ],
      "text/plain": [
       "<IPython.core.display.HTML object>"
      ]
     },
     "metadata": {},
     "output_type": "display_data"
    },
    {
     "data": {
      "text/html": [
       "<div class=\"container full__middleContent\" data-v-6d0ee6e1=\"\" data-v-88b82444=\"\"><div class=\"component component-LpelHeroListEventComponent_JO_colissimo-en-ligne_Part_080724\" data-v-6d0ee6e1=\"\"><div class=\"heroList\" data-v-117dea12=\"\" data-v-6d0ee6e1=\"\"><picture class=\"heroList__image\" data-v-70bf7d34=\"\" data-v-117dea12=\"\"><source media=\"(min-width: 1280px)\" type=\"image/webp\" srcset=\"/colis/occ/smartedit/medias/sys_master/cms/hcb/h7e/13877384118302/large_webp_heroList_D_REEX-JO_part_080724/large-webp-heroList-D-REEX-JO-part-080724.png\" data-v-70bf7d34=\"\"><source media=\"(min-width: 1280px)\" type=\"image/png\" srcset=\"/colis/occ/smartedit/medias/sys_master/cms/h19/h34/13836876578846/heroList_D_REEX-JO_part_080724/heroList-D-REEX-JO-part-080724.png\" data-v-70bf7d34=\"\"><source media=\"(min-width: 700px)\" type=\"image/webp\" srcset=\"/colis/occ/smartedit/medias/sys_master/cms/h11/h31/13877383987230/medium_webp_heroList_T_REEX-JO_part_080724/medium-webp-heroList-T-REEX-JO-part-080724.png\" data-v-70bf7d34=\"\"><source media=\"(min-width: 700px)\" type=\"image/png\" srcset=\"/colis/occ/smartedit/medias/sys_master/cms/ha2/h2a/13836876808222/heroList_T_REEX-JO_part_080724/heroList-T-REEX-JO-part-080724.png\" data-v-70bf7d34=\"\"><source type=\"image/webp\" srcset=\"/colis/occ/smartedit/medias/sys_master/cms/h52/h2d/13877383856158/small_webp_heroList_M_REEX-JO_part_080724/small-webp-heroList-M-REEX-JO-part-080724.png\" data-v-70bf7d34=\"\"><img width=\"16\" height=\"9\" alt=\" Jeux Olympiques et Paralympiques de Paris 2024\" src=\"/colis/occ/smartedit/medias/sys_master/cms/ha6/h1c/13877370748958/heroList_M_REEX-JO_part_080724/heroList-M-REEX-JO-part-080724.png\" fetchpriority=\"high\" data-v-70bf7d34=\"\"></picture><h1 class=\"heroList__title title title--grey title--heading02 title--center\" data-v-429d1d84=\"\" data-v-117dea12=\"\"> Envoyez votre Colissimo en ligne </h1></div></div><div class=\"component component-ColisLandingPageMaxWidthComponent\" data-v-6d0ee6e1=\"\"><div class=\"containerMaxWidth__wrapper containerMaxWidth__wrapper--center\" data-v-128377a7=\"\" data-v-6d0ee6e1=\"\"><div class=\"containerMaxWidth containerMaxWidth--narrow\" data-v-128377a7=\"\"><div synchronizationblocked=\"false\" parents=\"ColisLandingPageMaxWidthComponent\" class=\"calculator__container\" data-v-740aad48=\"\" data-v-128377a7=\"\"><div class=\"calculator\" data-v-740aad48=\"\"><h2 class=\"calculator__header\" data-v-740aad48=\"\">Caractéristiques de votre colis</h2> <!----> <div data-v-740aad48=\"\" class=\"calculator__content\"><div data-v-740aad48=\"\" class=\"calculator__form\"><div data-v-740aad48=\"\" class=\"calculator__form__left\"><div data-v-740aad48=\"\" class=\"calculator__form__row\"><div data-v-740aad48=\"\" class=\"calculator__form__label\"><span data-v-740aad48=\"\">Départ</span></div> <div data-v-83c67f22=\"\" data-v-66e41f1b=\"\" data-v-63c6c75a=\"\" data-v-740aad48=\"\" class=\"dropdown__wrapper country calculator__input\" name=\"departure\" id=\"departure\" value=\"FR\"><fieldset data-v-83c67f22=\"\" class=\"dropdown dropdown--inside dropdown--small dropdown--filled\"><!----><div data-v-83c67f22=\"\" tabindex=\"0\" class=\"dropdown__element dropdown__element--inside dropdown__element--inside-no-label\"><span data-v-83c67f22=\"\" class=\"dropdown__container\"><!----><!----><span data-v-83c67f22=\"\" class=\"dropdown__value\"> France </span></span><i data-v-1028a809=\"\" data-v-83c67f22=\"\" class=\"dropdown__picto icon icon--arrow-bottom icon--regular icon--default\"><span data-v-1028a809=\"\" class=\"visually-hidden\"></span></i></div><!----><div data-v-83c67f22=\"\" id=\"departure-lightbox\" role=\"listbox\" aria-multiselectable=\"true\" class=\"dropdown__lightbox\" style=\"display: none;\"><div data-v-2050b333=\"\" data-v-83c67f22=\"\" class=\"input dropdown__search input--inside input--medium input--only\"><!----><div data-v-2050b333=\"\" class=\"input__global input__global--isQuiet\">"
      ],
      "text/plain": [
       "<IPython.core.display.HTML object>"
      ]
     },
     "metadata": {},
     "output_type": "display_data"
    },
    {
     "data": {
      "text/html": [
       "tMy43OTRsMy4wOC01LjM0Ni0zNS41MSA5LjYxN3oiIGZpbGw9IiMwMDNEQTUiLz48L3N2Zz4=\" alt=\"La Poste Pro\" width=\"66\" height=\"12\" class=\"logo__image logo__image--horizontal logo__image--pro\" data-v-18686ef4=\"\"></picture></div>"
      ],
      "text/plain": [
       "<IPython.core.display.HTML object>"
      ]
     },
     "metadata": {},
     "output_type": "display_data"
    }
   ],
   "source": [
    "# you can run this cell to display all nodes returned by the retriever\n",
    "from IPython.display import HTML\n",
    "\n",
    "for e in nodes: \n",
    "    display(HTML(e))"
   ]
  },
  {
   "cell_type": "markdown",
   "metadata": {},
   "source": [
    "# Generate the `pytest` file\n",
    "Use recorded data about the site to generate a pytest-bdd file\n",
    "\n",
    "We use a multi modal LLM (`gpt-4o`) to generate the final code file"
   ]
  },
  {
   "cell_type": "code",
   "execution_count": 9,
   "metadata": {},
   "outputs": [],
   "source": [
    "gpt4o = OpenAIMultiModal(\"gpt-4o\")\n",
    "gpt4o.max_new_tokens = 2000 # 300 by default, we increase it to make sure our pytest file doesn't get trucated\n",
    "\n",
    "# we'll clean the triple quoted answers from the LLM\n",
    "def clean_output(markdown_code_block):\n",
    "    return markdown_code_block.replace(\"```python\", \"\").replace(\"```\", \"\").replace(\"```\\n\", \"\")"
   ]
  },
  {
   "cell_type": "markdown",
   "metadata": {},
   "source": [
    "## Building the prompt\n",
    "\n",
    "We use a prompt that combines general instructions, examples and the recorded run data to generate the pytest file"
   ]
  },
  {
   "cell_type": "code",
   "execution_count": 12,
   "metadata": {},
   "outputs": [],
   "source": [
    "SYSTEM_PROMPT = f\"\"\"\n",
    "You are an expert in software testing frameworks and Python code generation. You answer in python markdown only and nothing else, don't include anything after the last backticks. Your task is to:\n",
    "1. Process a test case, existing actions (with their associated xpath) that was ran during the test by an agent, relevant HTML nodes, and the screenshot of the last state of the page.\n",
    "2. Generate an assert statement for the last condition of the test case. THis is the most important, you need to generate one assert statement based on the provided `Then` step. \n",
    "3. Package everything in a pytest-bdd file following best practices. \n",
    "Requirements:\n",
    "- Use descriptive function names and name the scenario appropriately.\n",
    "- Use execute_script to handle potential ElementClickInterceptedException during clicks.\n",
    "- Always use time.sleep(3) if waiting is required\n",
    "- Include fixtures, scenario, Gherkin-style definitions, etc.\n",
    "- Use try-except blocks to catch exceptions and raise pytest.fail for assert condition steps as needed.\n",
    "- Do not generate asserts for 'Given', 'When', or 'And' steps; only generate asserts for 'Then' steps.\n",
    "- Always use provided selenium code that was already executed to find valid selectors for the final pytestfile. \n",
    "- You answer in python code only and nothing else.\n",
    "\"\"\"\n",
    "\n",
    "EXAMPLES = \"\"\"import pytest\n",
    "from pytest_bdd import scenarios, given, when, then, parsers\n",
    "from selenium import webdriver\n",
    "from selenium.webdriver.common.by import By\n",
    "from selenium.webdriver.support.ui import WebDriverWait\n",
    "from selenium.webdriver.support import expected_conditions as EC\n",
    "from selenium.common.exceptions import ElementClickInterceptedException\n",
    "import time\n",
    "import random\n",
    "\n",
    "# Constants\n",
    "BASE_URL = 'https://example.com'\n",
    "\n",
    "# Scenarios\n",
    "scenarios('example.feature')\n",
    "\n",
    "# Fixtures\n",
    "@pytest.fixture\n",
    "def browser():\n",
    "   driver = webdriver.Chrome()\n",
    "   driver.implicitly_wait(10)\n",
    "   yield driver\n",
    "   driver.quit()\n",
    "\n",
    "# Steps\n",
    "@given('I am on the example website')\n",
    "def go_to_homepage(browser):\n",
    "   browser.get(BASE_URL)\n",
    "   WebDriverWait(browser, 10).until(\n",
    "       EC.presence_of_element_located((By.TAG_NAME, \"body\"))\n",
    "   )\n",
    "\n",
    "@when(parsers.parse('I click the \"{button_text}\" button'))\n",
    "def click_button(browser, button_text):\n",
    "   button = WebDriverWait(browser, 10).until(\n",
    "       EC.element_to_be_clickable((By.XPATH, f\"//button[contains(text(), '{button_text}')]\"))\n",
    "   )\n",
    "   try:\n",
    "       browser.execute_script(\"arguments[0].click();\", button)\n",
    "   except ElementClickInterceptedException:\n",
    "       pytest.fail(f\"Failed to click the '{button_text}' button\")\n",
    "\n",
    "@when(parsers.parse('I enter \"{text}\" in the \"{field_name}\" field'))\n",
    "def enter_text(browser, text, field_name):\n",
    "   input_field = WebDriverWait(browser, 10).until(\n",
    "       EC.presence_of_element_located((By.XPATH, f\"//input[@placeholder='{field_name}' or @name='{field_name}']\"))\n",
    "   )\n",
    "   input_field.clear()\n",
    "   input_field.send_keys(text)\n",
    "\n",
    "@when('I select a random option from the dropdown')\n",
    "def select_random_option(browser):\n",
    "   dropdown = WebDriverWait(browser, 10).until(\n",
    "       EC.presence_of_element_located((By.TAG_NAME, \"select\"))\n",
    "   )\n",
    "   options = dropdown.find_elements(By.TAG_NAME, \"option\")\n",
    "   random_option = random.choice(options)\n",
    "   random_option.click()\n",
    "\n",
    "@when('I wait for the page to load')\n",
    "def wait_for_page_load(browser):\n",
    "   time.sleep(5)\n",
    "   WebDriverWait(browser, 10).until(\n",
    "       EC.presence_of_element_located((By.TAG_NAME, \"body\"))\n",
    "   )\n",
    "   time.sleep(2)  # Additional wait to ensure page is fully loaded\n",
    "\n",
    "@then(parsers.parse('I should see the text \"{expected_text}\" on the page'))\n",
    "def verify_text_presence(browser, expected_text):\n",
    "   try:\n",
    "       WebDriverWait(browser, 10).until(\n",
    "           EC.presence_of_element_located((By.XPATH, f\"//*[contains(text(), '{expected_text}')]\"))\n",
    "       )\n",
    "   except Exception as e:\n",
    "       pytest.fail(f\"Failed to find the text '{expected_text}' on the page: {str(e)}\")\n",
    "\n",
    "@then(parsers.parse('the \"{element_name}\" should be visible'))\n",
    "def verify_element_visibility(browser, element_name):\n",
    "   try:\n",
    "       element = WebDriverWait(browser, 10).until(\n",
    "           EC.visibility_of_element_located((By.XPATH, f\"//*[@id='{element_name}' or @name='{element_name}' or contains(@class, '{element_name}')]\"))\n",
    "       )\n",
    "       assert element.is_displayed(), f\"The element '{element_name}' is not visible\"\n",
    "   except Exception as e:\n",
    "       pytest.fail(f\"Failed to verify visibility of '{element_name}': {str(e)}\")\n",
    "\n",
    "@then(parsers.parse('the page title should be \"{expected_title}\"'))\n",
    "def verify_page_title(browser, expected_title):\n",
    "   try:\n",
    "       time.sleep(3)\n",
    "       WebDriverWait(browser, 10).until(EC.title_is(expected_title))\n",
    "   except Exception as e:\n",
    "       pytest.fail(f\"Page title does not match '{expected_title}': {str(e)}\")\n",
    "\"\"\"\n",
    "\n",
    "\n",
    "\n",
    "PROMPT = f\"\"\"{SYSTEM_PROMPT}\n",
    "\n",
    "Generate a valid pytest-bdd file with the following inputs and examples to guide you:\n",
    "Feature file name: {FEATURE_FILE_NAME}\\n\n",
    "URL: {URL}\\n\n",
    "Full feature to be tested: \\n{GHERKIN}\\n\n",
    "Already executed (instruction + actions):\\n{actions}\\n\n",
    "Assert statement (Then) to test: {assert_statement}\n",
    "Chunk of HTML that may be usefull to generate the assert statement. Generate a general statement that checks for the assert using these nodes: {nodes}\\n\n",
    "Examples:\\n\\n{EXAMPLES}\n",
    "\"\"\""
   ]
  },
  {
   "cell_type": "markdown",
   "metadata": {},
   "source": [
    "## Generate the test\n",
    "Call the LLM with the final prompt then clean the ouput"
   ]
  },
  {
   "cell_type": "code",
   "execution_count": 13,
   "metadata": {},
   "outputs": [],
   "source": [
    "generated_pytest = gpt4o.complete(PROMPT, image_documents=last_page_screenshot).text\n",
    "generated_pytest = clean_output(generated_pytest)"
   ]
  },
  {
   "cell_type": "code",
   "execution_count": 14,
   "metadata": {},
   "outputs": [
    {
     "name": "stdout",
     "output_type": "stream",
     "text": [
      "\n",
      "import pytest\n",
      "from pytest_bdd import scenarios, given, when, then, parsers\n",
      "from selenium import webdriver\n",
      "from selenium.webdriver.common.by import By\n",
      "from selenium.webdriver.support.ui import WebDriverWait\n",
      "from selenium.webdriver.support import expected_conditions as EC\n",
      "from selenium.common.exceptions import ElementClickInterceptedException\n",
      "import time\n",
      "\n",
      "# Constants\n",
      "BASE_URL = 'https://www.laposte.fr/'\n",
      "\n",
      "# Scenarios\n",
      "scenarios('demo.feature')\n",
      "\n",
      "# Fixtures\n",
      "@pytest.fixture\n",
      "def browser():\n",
      "    driver = webdriver.Chrome()\n",
      "    driver.implicitly_wait(10)\n",
      "    yield driver\n",
      "    driver.quit()\n",
      "\n",
      "# Steps\n",
      "@given('I am on the homepage')\n",
      "def go_to_homepage(browser):\n",
      "    browser.get(BASE_URL)\n",
      "    WebDriverWait(browser, 10).until(\n",
      "        EC.presence_of_element_located((By.TAG_NAME, \"body\"))\n",
      "    )\n",
      "\n",
      "@when('I click on \"J\\'accepte\" to accept cookies')\n",
      "def click_accept_cookies(browser):\n",
      "    button = WebDriverWait(browser, 10).until(\n",
      "        EC.element_to_be_clickable((By.XPATH, \"/html/body/div/div[2]/div[2]/button\"))\n",
      "    )\n",
      "    try:\n",
      "        browser.execute_script(\"arguments[0].click();\", button)\n",
      "    except ElementClickInterceptedException:\n",
      "        pytest.fail(\"Failed to click the 'J'accepte' button\")\n",
      "\n",
      "@when('I click on \"Envoyer un colis\"')\n",
      "def click_send_package(browser):\n",
      "    button = WebDriverWait(browser, 10).until(\n",
      "        EC.element_to_be_clickable((By.XPATH, \"/html/body/div/div/div/div[2]/div/main/div/div[2]/div[4]/div/div/a[3]\"))\n",
      "    )\n",
      "    try:\n",
      "        browser.execute_script(\"arguments[0].click();\", button)\n",
      "    except ElementClickInterceptedException:\n",
      "        pytest.fail(\"Failed to click the 'Envoyer un colis' button\")\n",
      "\n",
      "@when('I click on the \"Format du colis\" dropdown under \"Dimension\"')\n",
      "def click_format_dropdown(browser):\n",
      "    dropdown = WebDriverWait(browser, 10).until(\n",
      "        EC.element_to_be_clickable((By.XPATH, \"/html/body/div/div/div/div/main/div/div[2]/div[2]/div/div/div/div/div/div/div/div[3]/div[2]/fieldset/div\"))\n",
      "    )\n",
      "    try:\n",
      "        browser.execute_script(\"arguments[0].click();\", dropdown)\n",
      "    except ElementClickInterceptedException:\n",
      "        pytest.fail(\"Failed to click the 'Format du colis' dropdown\")\n",
      "\n",
      "@when('I click on \"Volumineux & tube\" from the dropdown results')\n",
      "def click_voluminous_option(browser):\n",
      "    option = WebDriverWait(browser, 10).until(\n",
      "        EC.element_to_be_clickable((By.XPATH, \"/html/body/div/div/div/div/main/div/div[2]/div[2]/div/div/div/div/div/div/div/div[3]/div[2]/fieldset/div[2]/div/label[2]\"))\n",
      "    )\n",
      "    try:\n",
      "        browser.execute_script(\"arguments[0].click();\", option)\n",
      "    except ElementClickInterceptedException:\n",
      "        pytest.fail(\"Failed to click the 'Volumineux & tube' option\")\n",
      "\n",
      "@when(parsers.parse('I enter {weight} in the \"Poids\" field'))\n",
      "def enter_weight(browser, weight):\n",
      "    weight_field = WebDriverWait(browser, 10).until(\n",
      "        EC.presence_of_element_located((By.XPATH, \"/html/body/div/div/div/div/main/div/div[2]/div[2]/div/div/div/div/div/div/div/div[4]/div[2]/div/div/div/div/input\"))\n",
      "    )\n",
      "    weight_field.clear()\n",
      "    weight_field.send_keys(weight)\n",
      "\n",
      "@when('I wait for the cost to update')\n",
      "def wait_for_cost_update(browser):\n",
      "    time.sleep(3)\n",
      "\n",
      "@then(parsers.parse('the cost should be \"{expected_cost}\"'))\n",
      "def verify_cost(browser, expected_cost):\n",
      "    try:\n",
      "        cost_element = WebDriverWait(browser, 10).until(\n",
      "            EC.presence_of_element_located((By.XPATH, \"//span[contains(@class, 'calculator__cta__price')]\"))\n",
      "        )\n",
      "        assert cost_element.text == expected_cost, f\"Expected cost to be {expected_cost}, but got {cost_element.text}\"\n",
      "    except Exception as e:\n",
      "        pytest.fail(f\"Failed to verify the cost: {str(e)}\")\n",
      "\n"
     ]
    }
   ],
   "source": [
    "print(generated_pytest)"
   ]
  },
  {
   "cell_type": "markdown",
   "metadata": {},
   "source": [
    "## Write test to file\n",
    "\n",
    "We'll write two generated files to disk: \n",
    "- `.feature` contains the test scenarios written in the Gherkin syntax\n",
    "- `.py` the actual automated test that we'll run with pytest"
   ]
  },
  {
   "cell_type": "code",
   "execution_count": 15,
   "metadata": {},
   "outputs": [
    {
     "name": "stdout",
     "output_type": "stream",
     "text": [
      "WRITING FILE\n"
     ]
    }
   ],
   "source": [
    "import os\n",
    "with open(FEATURE_FILE_NAME, \"w\") as file:\n",
    "        file.write(GHERKIN)\n",
    "        \n",
    "with open(TEST_FILE_NAME, \"w\") as file:\n",
    "        print(\"WRITING FILE\")\n",
    "        file.write(generated_pytest)"
   ]
  },
  {
   "cell_type": "markdown",
   "metadata": {},
   "source": [
    "# Run tests\n",
    "\n",
    "We can finally run our generated test to see it in action"
   ]
  },
  {
   "cell_type": "code",
   "execution_count": 16,
   "metadata": {},
   "outputs": [
    {
     "name": "stdout",
     "output_type": "stream",
     "text": [
      "\u001b[1m============================= test session starts ==============================\u001b[0m\n",
      "platform darwin -- Python 3.10.14, pytest-8.2.1, pluggy-1.5.0\n",
      "rootdir: /Users/palmi/work/repos/fix-token-counter-name-lookup/LaVague\n",
      "configfile: pyproject.toml\n",
      "plugins: anyio-4.3.0, bdd-7.1.2\n",
      "collected 1 item                                                               \u001b[0m\n",
      "\n",
      "demo_test.py \u001b[32m.\u001b[0m\u001b[32m                                                           [100%]\u001b[0m\n",
      "\n",
      "\u001b[32m============================== \u001b[32m\u001b[1m1 passed\u001b[0m\u001b[32m in 8.29s\u001b[0m\u001b[32m ===============================\u001b[0m\n"
     ]
    }
   ],
   "source": [
    "!pytest demo_test.py --full-trace"
   ]
  },
  {
   "cell_type": "code",
   "execution_count": null,
   "metadata": {},
   "outputs": [],
   "source": []
  }
 ],
 "metadata": {
  "kernelspec": {
   "display_name": "lavague-Oj4z07SL-py3.11",
   "language": "python",
   "name": "python3"
  },
  "language_info": {
   "codemirror_mode": {
    "name": "ipython",
    "version": 3
   },
   "file_extension": ".py",
   "mimetype": "text/x-python",
   "name": "python",
   "nbconvert_exporter": "python",
   "pygments_lexer": "ipython3",
   "version": "3.11.2"
  }
 },
 "nbformat": 4,
 "nbformat_minor": 2
}
