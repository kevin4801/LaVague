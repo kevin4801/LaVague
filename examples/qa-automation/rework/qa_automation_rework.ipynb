{
 "cells": [
  {
   "cell_type": "markdown",
   "metadata": {},
   "source": [
    "# Using LaVague for QA Automation\n",
    "\n",
    "In this notebook, we'll look at how LaVague can be used to generate automated tests from simple test scenario.\n",
    "\n",
    "We will use LaVague to autonomously run the test and record xpath and actions. We'll then use an LLM to generate assert statements and the final reusable test file. \n",
    "\n",
    "We first define our test with the following variables"
   ]
  },
  {
   "cell_type": "code",
   "execution_count": 1,
   "metadata": {},
   "outputs": [],
   "source": [
    "URL = \"https://www.amazon.fr/\"\n",
    "\n",
    "GHERKIN = \"\"\"Feature: Add and remove a single product from cart\n",
    "\n",
    "  Scenario: Add a product to cart\n",
    "    Given I am on the homepage\n",
    "    When I click \"Accepter\" to accept cookies\n",
    "    And I enter \"Harry Potter et la Chambre des Secrets\" into the search bar and press Enter\n",
    "    And I click on \"Harry Potter et la Chambre des Secrets\" in the search results\n",
    "    And I am on the product details page\n",
    "    And I click on the \"Ajouter au panier\" button\n",
    "    And I am taken to a confirmation page\n",
    "    And I click on \"Aller au panier\"\n",
    "    And I am taken to the cart page\n",
    "    And I remove the product from the cart by clicking on \"Supprimer\"\n",
    "    Then the cart should be empty\n",
    "\"\"\""
   ]
  },
  {
   "cell_type": "code",
   "execution_count": 2,
   "metadata": {},
   "outputs": [],
   "source": [
    "FEATURE_FILE_NAME = \"demo.feature\" # name of the existing feature file\n",
    "PYTEST_FILE_NAME = \"demo_test.py\" # name of the pytest file that will be generated\n",
    "\n",
    "# We could make this framework agnostic by rewriting the prompt and examples passed to the multi-modal LLM\n",
    "# TARGET_FRAMEWORK = \"pytest-bdd\""
   ]
  },
  {
   "cell_type": "markdown",
   "metadata": {},
   "source": [
    "### Parse a Gherkin and extract the last step of each scenarios"
   ]
  },
  {
   "cell_type": "code",
   "execution_count": 3,
   "metadata": {},
   "outputs": [],
   "source": [
    "scenarios = GHERKIN.split(\"Scenario:\")\n",
    "parsed_scenarios = []\n",
    "for scenario in scenarios[1:]:\n",
    "    scenario_name, *scenario_steps = scenario.strip().split(\"\\n\")\n",
    "    parsed_scenarios.append(\n",
    "        {\n",
    "            \"name\": scenario_name.strip(),\n",
    "            \"steps\": [step.strip() for step in scenario_steps],\n",
    "        }\n",
    "    )\n",
    "\n",
    "parsed_scenarios[0]\n",
    "\n",
    "def prepare_scenario(scenario):\n",
    "    return \"\\n\".join(scenario[\"steps\"]), scenario[\"steps\"][-1]\n",
    "\n",
    "\n",
    "steps, assert_statement = prepare_scenario(parsed_scenarios[0])\n"
   ]
  },
  {
   "cell_type": "code",
   "execution_count": 4,
   "metadata": {},
   "outputs": [
    {
     "data": {
      "text/plain": [
       "'Then the cart should be empty'"
      ]
     },
     "execution_count": 4,
     "metadata": {},
     "output_type": "execute_result"
    }
   ],
   "source": [
    "assert_statement"
   ]
  },
  {
   "cell_type": "markdown",
   "metadata": {},
   "source": [
    "## Init LaVague"
   ]
  },
  {
   "cell_type": "code",
   "execution_count": 5,
   "metadata": {},
   "outputs": [],
   "source": [
    "import base64\n",
    "from io import BytesIO\n",
    "\n",
    "from lavague.core import  WorldModel, ActionEngine\n",
    "from lavague.core.agents import WebAgent\n",
    "from lavague.drivers.selenium import SeleniumDriver\n",
    "from lavague.core.retrievers import SemanticRetriever\n",
    "from selenium.webdriver.chrome.options import Options\n",
    "\n",
    "\n",
    "from llama_index.llms.openai import OpenAI\n",
    "from llama_index.multi_modal_llms.openai import OpenAIMultiModal\n",
    "from llama_index.legacy.readers.file.base import SimpleDirectoryReader"
   ]
  },
  {
   "cell_type": "code",
   "execution_count": 6,
   "metadata": {},
   "outputs": [
    {
     "name": "stderr",
     "output_type": "stream",
     "text": [
      "2024-07-26 15:01:44,735 - INFO - Screenshot folder cleared\n"
     ]
    }
   ],
   "source": [
    "# chrome_options = Options()\n",
    "# chrome_options.add_experimental_option(\"debuggerAddress\", \"127.0.0.1:9222\")\n",
    "\n",
    "# selenium_driver = SeleniumDriver(headless=False, options = chrome_options)\n",
    "selenium_driver = SeleniumDriver(headless=False)\n",
    "world_model = WorldModel()\n",
    "action_engine = ActionEngine(selenium_driver)\n",
    "agent = WebAgent(world_model, action_engine)"
   ]
  },
  {
   "cell_type": "markdown",
   "metadata": {},
   "source": [
    "Load the URL"
   ]
  },
  {
   "cell_type": "code",
   "execution_count": 7,
   "metadata": {},
   "outputs": [],
   "source": [
    "agent.get(URL)"
   ]
  },
  {
   "cell_type": "markdown",
   "metadata": {},
   "source": [
    "## Run the agent\n",
    "Run the high level test case once. Get logs as a dataframe. "
   ]
  },
  {
   "cell_type": "code",
   "execution_count": 8,
   "metadata": {},
   "outputs": [
    {
     "name": "stderr",
     "output_type": "stream",
     "text": [
      "2024-07-26 15:02:00,846 - INFO - Thoughts:\n",
      "- The current screenshot shows the homepage of Amazon.fr with a cookie consent banner.\n",
      "- The first step in the test case is to accept cookies by clicking on the \"Accepter\" button.\n",
      "- The \"Accepter\" button is visible and should be clicked to proceed with the test case.\n",
      "\n",
      "Next engine: Navigation Engine\n",
      "Instruction: Click on the \"Accepter\" button to accept cookies.\n",
      "2024-07-26 15:02:23,523 - INFO - ### Thoughts:\n",
      "- The current screenshot shows the homepage of Amazon.fr.\n",
      "- The objective is to perform a series of actions to test the website's functionality, starting with entering \"Harry Potter et la Chambre des Secrets\" into the search bar and pressing Enter.\n",
      "- The search bar is visible in the screenshot, and the next step is to interact with it.\n",
      "\n",
      "### Next Engine:\n",
      "Navigation Engine\n",
      "\n",
      "### Instruction:\n",
      "Enter \"Harry Potter et la Chambre des Secrets\" into the search bar and press Enter.\n",
      "2024-07-26 15:02:54,598 - INFO - Thoughts:\n",
      "- The current screenshot shows the search results page for \"Harry Potter et la Chambre des Secrets\" on Amazon.fr.\n",
      "- The objective is to click on \"Harry Potter et la Chambre des Secrets\" in the search results to navigate to the product details page.\n",
      "- The product \"Harry Potter et la Chambre des Secrets\" is visible in the search results.\n",
      "- The next step is to click on the product to proceed to the product details page.\n",
      "\n",
      "Next engine: Navigation Engine\n",
      "Instruction: Click on \"Harry Potter et la Chambre des Secrets\" in the search results.\n",
      "2024-07-26 15:03:24,102 - INFO - Thoughts:\n",
      "- The current screenshot shows the product details page for \"Harry Potter et la Chambre des Secrets\" on Amazon.fr.\n",
      "- The next step in the test case is to click on the \"Ajouter au panier\" button to add the product to the cart.\n",
      "- The \"Ajouter au panier\" button is visible on the page and should be clicked to proceed.\n",
      "\n",
      "Next engine: Navigation Engine\n",
      "Instruction: Click on the \"Ajouter au panier\" button.\n",
      "2024-07-26 15:03:47,222 - INFO - Thoughts:\n",
      "- The current screenshot shows the Amazon.fr cart page with the book \"Harry Potter et la Chambre des Secrets\" added to the cart.\n",
      "- The objective is to proceed to the cart page and remove the product from the cart.\n",
      "- The next step is to click on the \"Aller au panier\" button to navigate to the cart page.\n",
      "\n",
      "Next engine: Navigation Engine\n",
      "Instruction: Click on the \"Aller au panier\" button.\n",
      "2024-07-26 15:04:03,626 - INFO - Thoughts:\n",
      "- The current screenshot shows the cart page on Amazon.fr with \"Harry Potter et la Chambre des Secrets\" added to the cart.\n",
      "- The objective is to remove the product from the cart by clicking on \"Supprimer\" and verify that the cart is empty.\n",
      "- The next step should involve clicking on the \"Supprimer\" button to remove the product from the cart.\n",
      "\n",
      "Next engine: Navigation Engine\n",
      "Instruction: Click on the \"Supprimer\" button next to \"Harry Potter et la Chambre des Secrets\" in the cart.\n",
      "2024-07-26 15:04:20,826 - INFO - Thoughts:\n",
      "- The current screenshot shows the cart page on Amazon.fr.\n",
      "- The objective is to verify that the cart is empty after removing the product.\n",
      "- The screenshot indicates that the cart is indeed empty, as it states \"Votre panier Amazon est vide.\"\n",
      "- The objective has been achieved, and we can confirm that the cart is empty.\n",
      "\n",
      "Next engine: COMPLETE\n",
      "Instruction: The cart is empty. The message \"Votre panier Amazon est vide\" confirms that there are no items in the cart.\n",
      "2024-07-26 15:04:20,827 - INFO - Objective reached. Stopping...\n"
     ]
    },
    {
     "name": "stdout",
     "output_type": "stream",
     "text": [
      "Connected to SQLite\n",
      "Table created or altered successfully\n",
      "Log insert complete\n"
     ]
    }
   ],
   "source": [
    "agent.run(f\"Run this test case: {steps}\", log_to_db=True)\n",
    "\n",
    "logs = agent.logger.return_pandas()"
   ]
  },
  {
   "cell_type": "markdown",
   "metadata": {},
   "source": [
    "## Extract navigation data from the agent run\n",
    "### Get relevant nodes to generate the assert statement"
   ]
  },
  {
   "cell_type": "markdown",
   "metadata": {},
   "source": []
  },
  {
   "cell_type": "code",
   "execution_count": null,
   "metadata": {},
   "outputs": [],
   "source": [
    "retriever = SemanticRetriever(xpathed_only=True)\n",
    "html = selenium_driver.get_html()\n",
    "\n",
    "nodes = retriever.retrieve(f\"Verify this condition: {assert_statement}\" , html.splitlines())\n",
    "\n",
    "nodes"
   ]
  },
  {
   "cell_type": "code",
   "execution_count": null,
   "metadata": {},
   "outputs": [],
   "source": [
    "from IPython.display import HTML\n",
    "\n",
    "# display(HTML(nodes[0]))\n",
    "for e in nodes: \n",
    "    display(HTML(e))\n",
    "\n",
    "    "
   ]
  },
  {
   "cell_type": "markdown",
   "metadata": {},
   "source": [
    "### Get all actions performed and screenshot of last page state\n",
    "\n",
    "From logs, clean the \"code\" column to remove CoT comments then create a new dataframe that contains each instruction with the associated xpath and action taken"
   ]
  },
  {
   "cell_type": "code",
   "execution_count": 11,
   "metadata": {},
   "outputs": [
    {
     "name": "stdout",
     "output_type": "stream",
     "text": [
      "Click on the \"Accepter\" button to accept cookies. \n",
      "- actions:\n",
      "    - action:\n",
      "        args:\n",
      "            xpath: \"/html/body/div/span/form/div[2]/span/span/input\"\n",
      "        name: \"click\"\n",
      "\n",
      "Enter \"Harry Potter et la Chambre des Secrets\" into the search bar and press Enter. \n",
      "- actions:\n",
      "    - action:\n",
      "        args:\n",
      "            xpath: \"/html/body/div/header/div/div/div[2]/div/form/div[3]/div/input\"\n",
      "            value: \"Harry Potter et la Chambre des Secrets\"\n",
      "        name: \"setValue\"\n",
      "    - action:\n",
      "        args:\n",
      "            xpath: \"/html/body/div/header/div/div/div[2]/div/form/div[3]/div/input\"\n",
      "            value: \"Harry Potter et la Chambre des Secrets\"\n",
      "        name: \"setValueAndEnter\"\n",
      "\n",
      "Click on \"Harry Potter et la Chambre des Secrets\" in the search results. \n",
      "- actions:\n",
      "    - action:\n",
      "        args:\n",
      "            xpath: \"/html/body/div/div/div/div/div/span/div/div[3]/div/div/span/div/div/div/span/a\"\n",
      "            value: \"\"\n",
      "        name: \"click\"\n",
      "\n",
      "Click on the \"Ajouter au panier\" button. \n",
      "- actions:\n",
      "    - action:\n",
      "        args:\n",
      "            xpath: \"/html/body/div[2]/div/div[4]/div/div[5]/div[4]/div[4]/div/div/div/div/div/div/div/div/div/form/div/div/div/div/div[4]/div/div[23]/div/span/span/span/input\"\n",
      "        name: \"click\"\n",
      "\n",
      "Click on the \"Aller au panier\" button. \n",
      "- actions:\n",
      "    - action:\n",
      "        args:\n",
      "            xpath: \"/html/body/div/div/div/div/div[2]/div/div[3]/div/div/span/span/a\"\n",
      "        name: \"click\"\n",
      "\n",
      "Click on the \"Supprimer\" button next to \"Harry Potter et la Chambre des Secrets\" in the cart. \n",
      "- actions:\n",
      "    - action:\n",
      "        args:\n",
      "            xpath: \"/html/body/div/div/div[3]/div[5]/div/div[2]/div/div/form/div[2]/div[3]/div[4]/div/div[2]/div/span[2]/span/input\"\n",
      "        name: \"click\"\n",
      "\n",
      " \n"
     ]
    }
   ],
   "source": [
    "# get all actions and cleaup\n",
    "actions = \"\\n\".join(logs[\"code\"].dropna())\n",
    "\n",
    "def remove_comments(code):\n",
    "    return '\\n'.join([line for line in code.split('\\n') if not line.strip().startswith('#')])\n",
    "\n",
    "logs['action'] = logs['code'].dropna().apply(remove_comments)\n",
    "cleaned_logs = logs[['instruction', 'action']].fillna('')\n",
    "actions = '\\n\\n'.join(cleaned_logs['instruction'] + ' ' + cleaned_logs['action'])\n",
    "\n",
    "instructions = \"\\n\".join(cleaned_logs['instruction'])\n",
    "print(actions)\n",
    "\n",
    "# get last page screenshot\n",
    "last_page_screenshot = SimpleDirectoryReader(logs.iloc[-1][\"screenshots_path\"]).load_data() # load last screenshot taken\n"
   ]
  },
  {
   "cell_type": "markdown",
   "metadata": {},
   "source": [
    "# Output generation\n",
    "Use all gathered data about the site to generate a Gherkin, then a pytest-bdd file\n",
    "\n",
    "We'll first create two LLMs\n",
    "- multi modal LLM `gpt-4o` is used to generate the final code file (we pass a screenshot of the last page state to help with the assert generation)\n",
    "- text only LLM `gpt-4` to generate the feature file"
   ]
  },
  {
   "cell_type": "code",
   "execution_count": 12,
   "metadata": {},
   "outputs": [],
   "source": [
    "gpt4o = OpenAIMultiModal(\"gpt-4o\")\n",
    "gpt4o.max_new_tokens = 2000 # 300 by default, we increase it to make sure our pytest file doesn't get trucated\n",
    "\n",
    "gpt4 = OpenAI(\"gpt-4\")\n",
    "\n",
    "# we'll clean the triple quote answer from the LLMs\n",
    "def clean_output(markdown_code_block):\n",
    "    return markdown_code_block.replace(\"```python\", \"\").replace(\"```\", \"\").replace(\"```\\n\", \"\")"
   ]
  },
  {
   "cell_type": "markdown",
   "metadata": {},
   "source": [
    "### Generate pytest file"
   ]
  },
  {
   "cell_type": "code",
   "execution_count": null,
   "metadata": {},
   "outputs": [],
   "source": [
    "SYSTEM_PROMPT = f\"\"\"\n",
    "You are an expert in software testing frameworks and Python code generation. You answer in python markdown only and nothing else, don't include anything after the last backticks. Your task is to:\n",
    "1. Process a test case, existing actions (with their associated xpath) that was ran during the test by an agent, relevant HTML nodes, and the screenshot of the last state of the page.\n",
    "2. Generate an assert statement for the last condition of the test case. THis is the most important, you need to generate one assert statement based on the provided `Then` step. \n",
    "3. Package everything in a pytest-bdd file following best practices. \n",
    "Requirements:\n",
    "- Use descriptive function names and name the scenario appropriately.\n",
    "- Use execute_script to handle potential ElementClickInterceptedException during clicks.\n",
    "- Include fixtures, scenario, Gherkin-style definitions, etc.\n",
    "- Use try-except blocks to catch exceptions and raise pytest.fail for assert condition steps as needed.\n",
    "- Do not generate asserts for 'Given', 'When', or 'And' steps; only generate asserts for 'Then' steps.\n",
    "- Always use provided selenium code that was already executed to find valid selectors for the final pytestfile. \n",
    "- You answer in python code only and nothing else.\n",
    "\"\"\"\n",
    "\n",
    "EXAMPLES = \"\"\"\n",
    "import pytest\n",
    "from selenium import webdriver\n",
    "from selenium.webdriver.common.by import By\n",
    "from selenium.webdriver.support.ui import WebDriverWait\n",
    "from selenium.webdriver.support import expected_conditions as EC\n",
    "from pytest_bdd import scenarios, given, when, then\n",
    "# Constants\n",
    "BASE_URL = 'https://form.jotform.com/241472287797370'\n",
    "# Scenarios\n",
    "scenarios('test_form_submission.feature')\n",
    "# Fixtures\n",
    "@pytest.fixture\n",
    "def browser():\n",
    "    driver = webdriver.Chrome()\n",
    "    driver.implicitly_wait(10)\n",
    "    driver.get(BASE_URL)\n",
    "    yield driver\n",
    "    driver.quit()\n",
    "# Steps\n",
    "@given('I am on the job application page')\n",
    "def i_am_on_the_job_application_page(browser):\n",
    "    pass\n",
    "@when('I enter \"John\" in the \"First Name\" field')\n",
    "def i_enter_first_name(browser):\n",
    "    first_name_field = browser.find_element(By.XPATH, \"/html/body/form/div[1]/ul/li[2]/div/div/span[1]/input\")\n",
    "    first_name_field.send_keys(\"John\")\n",
    "@when('I enter \"Doe\" in the \"Last Name\" field')\n",
    "def i_enter_last_name(browser):\n",
    "    last_name_field = browser.find_element(By.XPATH, \"/html/body/form/div[1]/ul/li[2]/div/div/span[2]/input\")\n",
    "    last_name_field.send_keys(\"Doe\")\n",
    "@when('I enter \"john.doe@example.com\" in the \"Email Address\" field')\n",
    "def i_enter_email_address(browser):\n",
    "    email_field = browser.find_element(By.XPATH, \"/html/body/form/div[1]/ul/li[3]/div/span/input\")\n",
    "    email_field.send_keys(\"john.doe@example.com\")\n",
    "@when('I enter \"(123) 456-7890\" in the \"Phone Number\" field')\n",
    "def i_enter_phone_number(browser):\n",
    "    phone_number_field = browser.find_element(By.XPATH, \"/html/body/form/div[1]/ul/li[4]/div/span/input\")\n",
    "    phone_number_field.send_keys(\"(123) 456-7890\")\n",
    "@when('I leave the \"Cover Letter\" field empty')\n",
    "def i_leave_cover_letter_empty():\n",
    "    # No action needed as the field should remain empty\n",
    "    pass\n",
    "@when('I click the \"Apply\" button')\n",
    "def i_click_apply_button(browser):\n",
    "    apply_button = WebDriverWait(browser, 10).until(\n",
    "        EC.element_to_be_clickable((By.XPATH, \"/html/body/form/div[1]/ul/li[6]/div/div/button\"))\n",
    "    )\n",
    "    browser.execute_script(\"arguments[0].scrollIntoView(true);\", apply_button)\n",
    "    apply_button.click()\n",
    "@then('I should see an error message for the \"Cover Letter\" field')\n",
    "def i_should_see_error_message(browser):\n",
    "    try:\n",
    "        error_message = browser.find_element(By.XPATH, \"/html/body/form/div[1]/ul/li[5]/div/div/span\")\n",
    "        assert error_message.is_displayed()\n",
    "    except Exception as e:\n",
    "        pytest.fail(f\"Error message not displayed: {e}\")\n",
    "\"\"\"\n",
    "\n",
    "\n",
    "\n",
    "PROMPT = f\"\"\"{SYSTEM_PROMPT}\n",
    "\n",
    "Generate a valid pytest-bdd file with the following inputs and examples to guide you:\n",
    "Feature file name: {FEATURE_FILE_NAME}\\n\n",
    "URL: {URL}\\n\n",
    "Full feature to be tested: {GHERKIN}\\n\n",
    "Already executed (instruction + actions):\\n{actions}\\n\n",
    "Assert statement (Then) to test: {assert_statement}\n",
    "Chunk of HTML that may be usefull to generate the assert statement. Generate a general statement that checks for the assert using these nodes: {nodes}\\n\n",
    "Examples:\\n\\n{EXAMPLES}\n",
    "\"\"\"\n",
    "\n",
    "print(PROMPT)"
   ]
  },
  {
   "cell_type": "markdown",
   "metadata": {},
   "source": [
    "### Generate the automated test"
   ]
  },
  {
   "cell_type": "code",
   "execution_count": 15,
   "metadata": {},
   "outputs": [
    {
     "name": "stdout",
     "output_type": "stream",
     "text": [
      "\n",
      "import pytest\n",
      "from selenium import webdriver\n",
      "from selenium.webdriver.common.by import By\n",
      "from selenium.webdriver.support.ui import WebDriverWait\n",
      "from selenium.webdriver.support import expected_conditions as EC\n",
      "from pytest_bdd import scenarios, given, when, then\n",
      "\n",
      "# Constants\n",
      "BASE_URL = 'https://www.amazon.fr/'\n",
      "\n",
      "# Scenarios\n",
      "scenarios('demo.feature')\n",
      "\n",
      "# Fixtures\n",
      "@pytest.fixture\n",
      "def browser():\n",
      "    driver = webdriver.Chrome()\n",
      "    driver.implicitly_wait(10)\n",
      "    driver.get(BASE_URL)\n",
      "    yield driver\n",
      "    driver.quit()\n",
      "\n",
      "# Steps\n",
      "@given('I am on the homepage')\n",
      "def i_am_on_the_homepage(browser):\n",
      "    pass\n",
      "\n",
      "@when('I click \"Accepter\" to accept cookies')\n",
      "def i_click_accept_cookies(browser):\n",
      "    try:\n",
      "        accept_button = WebDriverWait(browser, 10).until(\n",
      "            EC.element_to_be_clickable((By.XPATH, \"/html/body/div/span/form/div[2]/span/span/input\"))\n",
      "        )\n",
      "        browser.execute_script(\"arguments[0].scrollIntoView(true);\", accept_button)\n",
      "        accept_button.click()\n",
      "    except Exception as e:\n",
      "        pytest.fail(f\"Failed to click accept cookies button: {e}\")\n",
      "\n",
      "@when('I enter \"Harry Potter et la Chambre des Secrets\" into the search bar and press Enter')\n",
      "def i_enter_search_query(browser):\n",
      "    try:\n",
      "        search_bar = browser.find_element(By.XPATH, \"/html/body/div/header/div/div/div[2]/div/form/div[3]/div/input\")\n",
      "        search_bar.send_keys(\"Harry Potter et la Chambre des Secrets\")\n",
      "        search_bar.send_keys(u'\\ue007')  # Press Enter key\n",
      "    except Exception as e:\n",
      "        pytest.fail(f\"Failed to enter search query: {e}\")\n",
      "\n",
      "@when('I click on \"Harry Potter et la Chambre des Secrets\" in the search results')\n",
      "def i_click_search_result(browser):\n",
      "    try:\n",
      "        search_result = WebDriverWait(browser, 10).until(\n",
      "            EC.element_to_be_clickable((By.XPATH, \"/html/body/div/div/div/div/div/span/div/div[3]/div/div/span/div/div/div/span/a\"))\n",
      "        )\n",
      "        browser.execute_script(\"arguments[0].scrollIntoView(true);\", search_result)\n",
      "        search_result.click()\n",
      "    except Exception as e:\n",
      "        pytest.fail(f\"Failed to click search result: {e}\")\n",
      "\n",
      "@when('I am on the product details page')\n",
      "def i_am_on_product_details_page(browser):\n",
      "    pass\n",
      "\n",
      "@when('I click on the \"Ajouter au panier\" button')\n",
      "def i_click_add_to_cart(browser):\n",
      "    try:\n",
      "        add_to_cart_button = WebDriverWait(browser, 10).until(\n",
      "            EC.element_to_be_clickable((By.XPATH, \"/html/body/div[2]/div/div[4]/div/div[5]/div[4]/div[4]/div/div/div/div/div/div/div/div/div/form/div/div/div/div/div[4]/div/div[23]/div/span/span/span/input\"))\n",
      "        )\n",
      "        browser.execute_script(\"arguments[0].scrollIntoView(true);\", add_to_cart_button)\n",
      "        add_to_cart_button.click()\n",
      "    except Exception as e:\n",
      "        pytest.fail(f\"Failed to click add to cart button: {e}\")\n",
      "\n",
      "@when('I am taken to a confirmation page')\n",
      "def i_am_taken_to_confirmation_page(browser):\n",
      "    pass\n",
      "\n",
      "@when('I click on \"Aller au panier\"')\n",
      "def i_click_go_to_cart(browser):\n",
      "    try:\n",
      "        go_to_cart_button = WebDriverWait(browser, 10).until(\n",
      "            EC.element_to_be_clickable((By.XPATH, \"/html/body/div/div/div/div/div[2]/div/div[3]/div/div/span/span/a\"))\n",
      "        )\n",
      "        browser.execute_script(\"arguments[0].scrollIntoView(true);\", go_to_cart_button)\n",
      "        go_to_cart_button.click()\n",
      "    except Exception as e:\n",
      "        pytest.fail(f\"Failed to click go to cart button: {e}\")\n",
      "\n",
      "@when('I am taken to the cart page')\n",
      "def i_am_taken_to_cart_page(browser):\n",
      "    pass\n",
      "\n",
      "@when('I remove the product from the cart by clicking on \"Supprimer\"')\n",
      "def i_remove_product_from_cart(browser):\n",
      "    try:\n",
      "        remove_button = WebDriverWait(browser, 10).until(\n",
      "            EC.element_to_be_clickable((By.XPATH, \"/html/body/div/div/div[3]/div[5]/div/div[2]/div/div/form/div[2]/div[3]/div[4]/div/div[2]/div/span[2]/span/input\"))\n",
      "        )\n",
      "        browser.execute_script(\"arguments[0].scrollIntoView(true);\", remove_button)\n",
      "        remove_button.click()\n",
      "    except Exception as e:\n",
      "        pytest.fail(f\"Failed to click remove button: {e}\")\n",
      "\n",
      "@then('the cart should be empty')\n",
      "def the_cart_should_be_empty(browser):\n",
      "    try:\n",
      "        empty_cart_message = WebDriverWait(browser, 10).until(\n",
      "            EC.presence_of_element_located((By.XPATH, \"//h1[contains(text(), 'Votre panier Amazon est vide.')]\"))\n",
      "        )\n",
      "        assert empty_cart_message.is_displayed()\n",
      "    except Exception as e:\n",
      "        pytest.fail(f\"Cart is not empty: {e}\")\n",
      "\n"
     ]
    }
   ],
   "source": [
    "generated_pytest = gpt4o.complete(PROMPT, image_documents=last_page_screenshot).text\n",
    "generated_pytest = clean_output(generated_pytest)\n",
    "print(generated_pytest)"
   ]
  },
  {
   "cell_type": "markdown",
   "metadata": {},
   "source": [
    "### Cleanup and write test to file\n",
    "\n",
    "We'll cleanup and write two generated files to disk: \n",
    "- `.feature` contains the test scenarios written in the Gherkin syntax\n",
    "- `.py` the actual automated test that we'll run with pytest"
   ]
  },
  {
   "cell_type": "code",
   "execution_count": 16,
   "metadata": {},
   "outputs": [
    {
     "name": "stdout",
     "output_type": "stream",
     "text": [
      "WRITING FILE\n"
     ]
    }
   ],
   "source": [
    "import os\n",
    "with open(FEATURE_FILE_NAME, \"w\") as file:\n",
    "        file.write(GHERKIN)\n",
    "        \n",
    "with open(PYTEST_FILE_NAME, \"w\") as file:\n",
    "        print(\"WRITING FILE\")\n",
    "        file.write(generated_pytest)"
   ]
  },
  {
   "cell_type": "markdown",
   "metadata": {},
   "source": [
    "## Run tests\n"
   ]
  },
  {
   "cell_type": "code",
   "execution_count": 17,
   "metadata": {},
   "outputs": [
    {
     "name": "stdout",
     "output_type": "stream",
     "text": [
      "\u001b[1m============================= test session starts ==============================\u001b[0m\n",
      "platform darwin -- Python 3.10.14, pytest-8.2.1, pluggy-1.5.0\n",
      "rootdir: /Users/palmi/work/repos/rework-qa-automation/LaVague\n",
      "configfile: pyproject.toml\n",
      "plugins: anyio-4.3.0, bdd-7.1.2\n",
      "collected 1 item                                                               \u001b[0m\n",
      "\n",
      "demo_test.py \u001b[32m.\u001b[0m\u001b[32m                                                           [100%]\u001b[0m\n",
      "\n",
      "\u001b[32m============================== \u001b[32m\u001b[1m1 passed\u001b[0m\u001b[32m in 33.72s\u001b[0m\u001b[32m ==============================\u001b[0m\n"
     ]
    }
   ],
   "source": [
    "!pytest demo_test.py"
   ]
  },
  {
   "cell_type": "markdown",
   "metadata": {},
   "source": [
    "Notes: \n",
    "- When loading the URL, I sometimes get a mobile version, sometimes a responsive desktop version. It can go both ways: 1st load for agent is the desktop, 2nd run with pytest is the mobile version: this breaks the test. No idea why. Can't reproduce. \n",
    "- gener"
   ]
  }
 ],
 "metadata": {
  "kernelspec": {
   "display_name": "lavague-Oj4z07SL-py3.11",
   "language": "python",
   "name": "python3"
  },
  "language_info": {
   "codemirror_mode": {
    "name": "ipython",
    "version": 3
   },
   "file_extension": ".py",
   "mimetype": "text/x-python",
   "name": "python",
   "nbconvert_exporter": "python",
   "pygments_lexer": "ipython3",
   "version": "3.11.2"
  }
 },
 "nbformat": 4,
 "nbformat_minor": 2
}
