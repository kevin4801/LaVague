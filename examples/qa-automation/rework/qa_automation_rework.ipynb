{
 "cells": [
  {
   "cell_type": "markdown",
   "metadata": {},
   "source": [
    "# Using LaVague for QA Automation\n",
    "\n",
    "In this notebook, we'll look at how LaVague can be used to generate automated tests from simple test scenario.\n",
    "\n",
    "We will use LaVague to autonomously run the test and record xpath and actions. We'll then use an LLM to generate assert statements and the final reusable test file. \n",
    "\n",
    "We first define our test with the following variables"
   ]
  },
  {
   "cell_type": "code",
   "execution_count": 1,
   "metadata": {},
   "outputs": [],
   "source": [
    "URL = \"https://www.amazon.fr/\"\n",
    "\n",
    "GHERKIN = \"\"\"Feature: Add and remove a single product from cart\n",
    "\n",
    "  Scenario: Add a product to cart\n",
    "    Given I am on the homepage\n",
    "    When I click \"Accepter\" to accept cookies\n",
    "    And I enter \"Harry Potter et la Chambre des Secrets\" into the search bar and press Enter\n",
    "    And I click on \"Harry Potter et la Chambre des Secrets\" in the search results\n",
    "    And I am on the product details page\n",
    "    And I click on the \"Ajouter au panier\" button\n",
    "    And I am taken to a confirmation page\n",
    "    And I click on \"Aller au panier\"\n",
    "    And I am taken to the cart page\n",
    "    And I remove the product from the cart by clicking on \"Supprimer\"\n",
    "    Then the cart should be empty\n",
    "\"\"\""
   ]
  },
  {
   "cell_type": "code",
   "execution_count": 2,
   "metadata": {},
   "outputs": [],
   "source": [
    "FEATURE_FILE_NAME = \"demo.feature\" # name of the existing feature file\n",
    "PYTEST_FILE_NAME = \"demo_test.py\" # name of the pytest file that will be generated\n",
    "\n",
    "# We could make this framework agnostic by rewriting the prompt and examples passed to the multi-modal LLM\n",
    "# TARGET_FRAMEWORK = \"pytest-bdd\""
   ]
  },
  {
   "cell_type": "markdown",
   "metadata": {},
   "source": [
    "### Parse a Gherkin and extract the last step of each scenarios"
   ]
  },
  {
   "cell_type": "code",
   "execution_count": 3,
   "metadata": {},
   "outputs": [],
   "source": [
    "scenarios = GHERKIN.split(\"Scenario:\")\n",
    "parsed_scenarios = []\n",
    "for scenario in scenarios[1:]:\n",
    "    scenario_name, *scenario_steps = scenario.strip().split(\"\\n\")\n",
    "    parsed_scenarios.append(\n",
    "        {\n",
    "            \"name\": scenario_name.strip(),\n",
    "            \"steps\": [step.strip() for step in scenario_steps],\n",
    "        }\n",
    "    )\n",
    "\n",
    "parsed_scenarios[0]\n",
    "\n",
    "def prepare_scenario(scenario):\n",
    "    return \"\\n\".join(scenario[\"steps\"]), scenario[\"steps\"][-1]\n",
    "\n",
    "\n",
    "steps, assert_statement = prepare_scenario(parsed_scenarios[0])\n"
   ]
  },
  {
   "cell_type": "code",
   "execution_count": 4,
   "metadata": {},
   "outputs": [
    {
     "data": {
      "text/plain": [
       "'Then the cart should be empty'"
      ]
     },
     "execution_count": 4,
     "metadata": {},
     "output_type": "execute_result"
    }
   ],
   "source": [
    "assert_statement"
   ]
  },
  {
   "cell_type": "markdown",
   "metadata": {},
   "source": [
    "## Init LaVague"
   ]
  },
  {
   "cell_type": "code",
   "execution_count": 5,
   "metadata": {},
   "outputs": [],
   "source": [
    "import base64\n",
    "from io import BytesIO\n",
    "\n",
    "from lavague.core import  WorldModel, ActionEngine\n",
    "from lavague.core.agents import WebAgent\n",
    "from lavague.drivers.selenium import SeleniumDriver\n",
    "from lavague.core.retrievers import SemanticRetriever\n",
    "from selenium.webdriver.chrome.options import Options\n",
    "\n",
    "\n",
    "from llama_index.llms.openai import OpenAI\n",
    "from llama_index.multi_modal_llms.openai import OpenAIMultiModal\n",
    "from llama_index.legacy.readers.file.base import SimpleDirectoryReader"
   ]
  },
  {
   "cell_type": "code",
   "execution_count": 6,
   "metadata": {},
   "outputs": [
    {
     "name": "stderr",
     "output_type": "stream",
     "text": [
      "2024-07-26 15:01:44,735 - INFO - Screenshot folder cleared\n"
     ]
    }
   ],
   "source": [
    "# chrome_options = Options()\n",
    "# chrome_options.add_experimental_option(\"debuggerAddress\", \"127.0.0.1:9222\")\n",
    "\n",
    "# selenium_driver = SeleniumDriver(headless=False, options = chrome_options)\n",
    "selenium_driver = SeleniumDriver(headless=False)\n",
    "world_model = WorldModel()\n",
    "action_engine = ActionEngine(selenium_driver)\n",
    "agent = WebAgent(world_model, action_engine)"
   ]
  },
  {
   "cell_type": "markdown",
   "metadata": {},
   "source": [
    "Load the URL"
   ]
  },
  {
   "cell_type": "code",
   "execution_count": 7,
   "metadata": {},
   "outputs": [],
   "source": [
    "agent.get(URL)"
   ]
  },
  {
   "cell_type": "markdown",
   "metadata": {},
   "source": [
    "## Run the agent\n",
    "Run the high level test case once. Get logs as a dataframe. "
   ]
  },
  {
   "cell_type": "code",
   "execution_count": 8,
   "metadata": {},
   "outputs": [
    {
     "name": "stderr",
     "output_type": "stream",
     "text": [
      "2024-07-26 15:02:00,846 - INFO - Thoughts:\n",
      "- The current screenshot shows the homepage of Amazon.fr with a cookie consent banner.\n",
      "- The first step in the test case is to accept cookies by clicking on the \"Accepter\" button.\n",
      "- The \"Accepter\" button is visible and should be clicked to proceed with the test case.\n",
      "\n",
      "Next engine: Navigation Engine\n",
      "Instruction: Click on the \"Accepter\" button to accept cookies.\n",
      "2024-07-26 15:02:23,523 - INFO - ### Thoughts:\n",
      "- The current screenshot shows the homepage of Amazon.fr.\n",
      "- The objective is to perform a series of actions to test the website's functionality, starting with entering \"Harry Potter et la Chambre des Secrets\" into the search bar and pressing Enter.\n",
      "- The search bar is visible in the screenshot, and the next step is to interact with it.\n",
      "\n",
      "### Next Engine:\n",
      "Navigation Engine\n",
      "\n",
      "### Instruction:\n",
      "Enter \"Harry Potter et la Chambre des Secrets\" into the search bar and press Enter.\n",
      "2024-07-26 15:02:54,598 - INFO - Thoughts:\n",
      "- The current screenshot shows the search results page for \"Harry Potter et la Chambre des Secrets\" on Amazon.fr.\n",
      "- The objective is to click on \"Harry Potter et la Chambre des Secrets\" in the search results to navigate to the product details page.\n",
      "- The product \"Harry Potter et la Chambre des Secrets\" is visible in the search results.\n",
      "- The next step is to click on the product to proceed to the product details page.\n",
      "\n",
      "Next engine: Navigation Engine\n",
      "Instruction: Click on \"Harry Potter et la Chambre des Secrets\" in the search results.\n",
      "2024-07-26 15:03:24,102 - INFO - Thoughts:\n",
      "- The current screenshot shows the product details page for \"Harry Potter et la Chambre des Secrets\" on Amazon.fr.\n",
      "- The next step in the test case is to click on the \"Ajouter au panier\" button to add the product to the cart.\n",
      "- The \"Ajouter au panier\" button is visible on the page and should be clicked to proceed.\n",
      "\n",
      "Next engine: Navigation Engine\n",
      "Instruction: Click on the \"Ajouter au panier\" button.\n",
      "2024-07-26 15:03:47,222 - INFO - Thoughts:\n",
      "- The current screenshot shows the Amazon.fr cart page with the book \"Harry Potter et la Chambre des Secrets\" added to the cart.\n",
      "- The objective is to proceed to the cart page and remove the product from the cart.\n",
      "- The next step is to click on the \"Aller au panier\" button to navigate to the cart page.\n",
      "\n",
      "Next engine: Navigation Engine\n",
      "Instruction: Click on the \"Aller au panier\" button.\n",
      "2024-07-26 15:04:03,626 - INFO - Thoughts:\n",
      "- The current screenshot shows the cart page on Amazon.fr with \"Harry Potter et la Chambre des Secrets\" added to the cart.\n",
      "- The objective is to remove the product from the cart by clicking on \"Supprimer\" and verify that the cart is empty.\n",
      "- The next step should involve clicking on the \"Supprimer\" button to remove the product from the cart.\n",
      "\n",
      "Next engine: Navigation Engine\n",
      "Instruction: Click on the \"Supprimer\" button next to \"Harry Potter et la Chambre des Secrets\" in the cart.\n",
      "2024-07-26 15:04:20,826 - INFO - Thoughts:\n",
      "- The current screenshot shows the cart page on Amazon.fr.\n",
      "- The objective is to verify that the cart is empty after removing the product.\n",
      "- The screenshot indicates that the cart is indeed empty, as it states \"Votre panier Amazon est vide.\"\n",
      "- The objective has been achieved, and we can confirm that the cart is empty.\n",
      "\n",
      "Next engine: COMPLETE\n",
      "Instruction: The cart is empty. The message \"Votre panier Amazon est vide\" confirms that there are no items in the cart.\n",
      "2024-07-26 15:04:20,827 - INFO - Objective reached. Stopping...\n"
     ]
    },
    {
     "name": "stdout",
     "output_type": "stream",
     "text": [
      "Connected to SQLite\n",
      "Table created or altered successfully\n",
      "Log insert complete\n"
     ]
    }
   ],
   "source": [
    "agent.run(f\"Run this test case: {steps}\", log_to_db=True)\n",
    "\n",
    "logs = agent.logger.return_pandas()"
   ]
  },
  {
   "cell_type": "markdown",
   "metadata": {},
   "source": [
    "## Extract navigation data from the agent run\n",
    "### Get relevant nodes to generate the assert statement"
   ]
  },
  {
   "cell_type": "markdown",
   "metadata": {},
   "source": []
  },
  {
   "cell_type": "code",
   "execution_count": 9,
   "metadata": {},
   "outputs": [
    {
     "data": {
      "text/plain": [
       "['<div class=\"a-row sc-cart-header\">\\n    \\n\\n\\n\\n\\n\\n\\n\\n\\n\\n\\n\\n\\n\\n\\n\\n\\n\\n\\n    \\n    \\n        <div class=\"a-row\">\\n            <h1 class=\"a-spacing-mini a-spacing-top-base\">\\n                Votre panier Amazon est vide.\\n            </h1>\\n        </div>\\n    \\n\\n\\n\\n\\n\\n\\n\\n\\n\\n\\n\\n\\n\\n\\n\\n\\n\\n\\n\\n\\n\\n\\n\\n\\n</div>\\n\\n\\n\\n\\n\\n\\n\\n\\n\\n\\n\\n\\n\\n\\n\\n\\n\\n\\n\\n\\n<form id=\"activeCartViewForm\" method=\"post\" action=\"/cart/ref=ord_cart_shr?app-nav-type=none&amp;dc=df\">\\n    <input type=\"hidden\" name=\"requestID\" value=\"YS26N7CGYKTPWMAKT3A1\">\\n<input type=\"hidden\" name=\"timeStamp\" value=\"1721999033\">\\n<input type=\"hidden\" name=\"token\" value=\"gAVacNP7NQaO0m69A4o9wDGKrokppavuVVIqmkkAAAAMAAAAAGajnrlyYXcAAAAA\">\\n<input type=\"hidden\" name=\"anti-csrftoken-a2z\" value=\"g4ZZNgHZ6xPqcm7HUmo7HeOP/M5PetDsm3wrWAlc2uYrAAAAAQAAAABmo565cmF3AAAAAAOg0Bifa6o/kj8T3F+olA==\">\\n\\n    \\n\\n    \\n        \\n            \\n\\n\\n\\n\\n\\n\\n\\n\\n\\n\\n\\n\\n\\n\\n\\n\\n\\n\\n\\n\\n\\n\\n\\n\\n\\n\\n\\n\\n\\n\\n\\n\\n\\n\\n\\n\\n\\n\\n<div data-name=\"Active Items Header\" class=\"a-section a-spacing-none sc-list-head sc-java-remote-feature\">\\n    <noscript>\\n        <div class=\"a-row\">\\n            <div class=\"a-column a-span10\"></div>\\n            <div class=\"a-column a-span2 a-text-right a-spacing-top-micro sc-update-all-quantity a-span-last\">\\n            </div>\\n        </div>\\n    </noscript>\\n    <div class=\"a-row\">\\n        <div class=\"a-column a-span10\"></div>\\n        <div class=\"a-column a-span2 a-text-right a-spacing-top-micro a-span-last\">\\n            <span class=\"a-color-secondary\">Prix</span>\\n        </div>\\n    </div>\\n</div>\\n\\n\\n<div data-name=\"Active Items\" class=\"a-section a-spacing-mini sc-list-body sc-java-remote-feature\"><div data-asin=\"2075187592\" data-bundleitem=\"absent\" data-csa-c-asin=\"amzn1.asin.2075187592\" data-csa-c-owner=\"CartX\" data-csa-c-posx=\"1\" data-csa-c-type=\"item\" data-encoded-offering=\"6pcE6LiRgZ8Q0qEPXCqEQwlgz4OvsJFFElw5%2BtIVBjsdABSUOGd55FlkOVvlw8S7rQW7kVfgpemQeT54teaiHb69O1Z8KzHj3x1DuJ2Zy2NPpjn89jUasntGCtxBfKTqg8TKgnqAD6w%3D\" data-giftable=\"1\" data-giftwrapped=\"0\" data-incentivizedcartmessage=\"\" data-isprimeasin=\"0\" data-item-index=\"1\" data-itemcategory=\"normal\" data-itemid=\"72608a41-af92-4a30-be19-8d0115b85a09\" data-itemtype=\"active\" data-minquantity=\"1\" data-nesteditemsquantity=\"0\" data-outofstock=\"0\" data-price=\"9.7\" data-quantity=\"1\" data-showlinelevelrecommender=\"0\" data-subtotal=\"{&quot;numberOfItems&quot;:1,&quot;subtotal&quot;:{&quot;code&quot;:&quot;EUR&quot;,&quot;amount&quot;:9.70},&quot;points&quot;:0}\" id=\"sc-active-72608a41-af92-4a30-be19-8d0115b85a09\" class=\"a-row sc-list-item sc-java-remote-feature sc-list-item-optimistic-updates\" data-csa-c-id=\"gpisn1-xiq7fu-7w5w0e-u59p0x\" data-removed=\"true\"><div class=\"sc-list-item-removed-msg\" style=\"\"><div class=\"a-padding-medium\" data-action=\"delete\" style=\"\"><span class=\"a-size-base\"> <a class=\"a-link-normal sc-product-link\" target=\"_blank\" rel=\"noopener\" href=\"/gp/product/2075187592/ref=ox_sc_act_title_delete_1?smid=A1X6FK5RDHNB96&amp;psc=1\"> Harry Potter et la Chambre des Secrets <span class=\"aok-hidden\"> S’ouvre dans un nouvel onglet </span> </a> a été supprimé de Votre panier. </span></div><div class=\"a-padding-medium\" data-action=\"save-for-later\" style=\"display: none;\"><span class=\"a-size-base\"> <a class=\"a-link-normal sc-product-link\" target=\"_blank\" rel=\"noopener\" href=\"/gp/product/2075187592/ref=ox_sc_act_title_1?smid=A1X6FK5RDHNB96&amp;psc=1\"> Harry Potter et la Chambre des Secrets <span class=\"aok-hidden\"> S’ouvre dans un nouvel onglet </span> </a> L\\'élément a été déplacé vers Mis de côté. </span></div><div class=\"a-padding-medium\" data-action=\"move-to-cart\" style=\"display: none;\">',\n",
       " '<div class=\"sc-cart-overwrap\" style=\"display:none;\">\\n</div>',\n",
       " '<div class=\"celwidget pd_rd_w-8ew8g content-id-amzn1.sym.aa4d1af1-606d-4068-88f8-7ef97579576d pf_rd_p-aa4d1af1-606d-4068-88f8-7ef97579576d pf_rd_r-YS26N7CGYKTPWMAKT3A1 pd_rd_wg-eoorO pd_rd_r-7e8646ce-8b92-456e-b22e-d1f50aaa7dcf c-f\" cel_widget_id=\"p13n-desktop-list_cart-page-widgets_0\" data-csa-op-log-render=\"\" data-csa-c-content-id=\"amzn1.sym.aa4d1af1-606d-4068-88f8-7ef97579576d\" data-csa-c-slot-id=\"cart-page-widgets-1\" data-csa-c-type=\"widget\" data-csa-c-painter=\"p13n-desktop-list-cards\" data-csa-c-id=\"lvq2h8-t6qldi-6w6gld-yg2qcl\" data-cel-widget=\"p13n-desktop-list_cart-page-widgets_0\"><script>if(window.mix_csa){window.mix_csa(\\'[cel_widget_id=\"p13n-desktop-list_cart-page-widgets_0\"]\\', \\'#CardInstancealqnfHTDBuqt2vuWMjgWyw\\')(\\'mark\\', \\'bb\\')}</script>\\n<script>if(window.uet){window.uet(\\'bb\\',\\'p13n-desktop-list_cart-page-widgets_0\\',{wb: 1})}</script>',\n",
       " '<div class=\"celwidget pd_rd_w-TbYhS content-id-amzn1.sym.dbc71186-36b0-4419-8352-da940b7e6c07 pf_rd_p-dbc71186-36b0-4419-8352-da940b7e6c07 pf_rd_r-YS26N7CGYKTPWMAKT3A1 pd_rd_wg-eoorO pd_rd_r-7e8646ce-8b92-456e-b22e-d1f50aaa7dcf c-f\" cel_widget_id=\"p13n-desktop-carousel_cart-page-widgets_1\" data-csa-op-log-render=\"\" data-csa-c-content-id=\"amzn1.sym.dbc71186-36b0-4419-8352-da940b7e6c07\" data-csa-c-slot-id=\"cart-page-widgets-2\" data-csa-c-type=\"widget\" data-csa-c-painter=\"p13n-desktop-carousel-cards\" data-csa-c-id=\"6cjoyc-5rc9m1-ohvpe2-46u4qi\" data-cel-widget=\"p13n-desktop-carousel_cart-page-widgets_1\"><script>if(window.mix_csa){window.mix_csa(\\'[cel_widget_id=\"p13n-desktop-carousel_cart-page-widgets_1\"]\\', \\'#CardInstancessoQR1A_mJn1RWYm9U33kA\\')(\\'mark\\', \\'bb\\')}</script>\\n<script>if(window.uet){window.uet(\\'bb\\',\\'p13n-desktop-carousel_cart-page-widgets_1\\',{wb: 1})}</script>',\n",
       " '<div id=\"CardInstancealqnfHTDBuqt2vuWMjgWyw\" data-card-metrics-id=\"p13n-desktop-list_cart-page-widgets_0\" data-acp-tracking=\"{&quot;pd_rd_w&quot;:&quot;8ew8g&quot;,&quot;content-id&quot;:&quot;amzn1.sym.aa4d1af1-606d-4068-88f8-7ef97579576d&quot;,&quot;pf_rd_p&quot;:&quot;aa4d1af1-606d-4068-88f8-7ef97579576d&quot;,&quot;pf_rd_r&quot;:&quot;YS26N7CGYKTPWMAKT3A1&quot;,&quot;pd_rd_wg&quot;:&quot;eoorO&quot;,&quot;pd_rd_r&quot;:&quot;7e8646ce-8b92-456e-b22e-d1f50aaa7dcf&quot;,&quot;ref_&quot;:&quot;pd_cart_crc_cko_cp&quot;}\" data-mix-claimed=\"true\"><div class=\"_cDEzb_your-orders-box-styling_1K33F\"><div><div class=\"a-section\"><h3 class=\"a-spacing-base\">Les clients ayant acheté un article que vous avez consulté récemment ont également acheté :</h3><ul class=\"a-unordered-list a-nostyle a-vertical\"><li class=\"a-spacing-medium\"><span class=\"a-list-item\"><span data-csa-c-type=\"item\" data-csa-c-item-type=\"asin\" data-csa-c-item-id=\"amzn1.asin.2075187649\" data-csa-c-owner=\"p13n\" data-csa-c-posx=\"0\" data-csa-c-id=\"1bs659-67x9o6-p4bnu7-8ysuw\"><div><div class=\"a-fixed-left-grid\"><div class=\"a-fixed-left-grid-inner\" style=\"padding-left:108px\"><div class=\"a-fixed-left-grid-col a-col-left\" style=\"width:108px;margin-left:-108px;float:left\"><a class=\"a-link-normal aok-block\" tabindex=\"-1\" href=\"/Harry-Potter-prisonnier-dAzkaban-2023/dp/2075187649/ref=pd_cart_crc_cko_cp_d_sccl_1_1/260-4517497-4983724?pd_rd_w=8ew8g&amp;content-id=amzn1.sym.aa4d1af1-606d-4068-88f8-7ef97579576d&amp;pf_rd_p=aa4d1af1-606d-4068-88f8-7ef97579576d&amp;pf_rd_r=YS26N7CGYKTPWMAKT3A1&amp;pd_rd_wg=eoorO&amp;pd_rd_r=7e8646ce-8b92-456e-b22e-d1f50aaa7dcf&amp;pd_rd_i=2075187649&amp;psc=1\" role=\"link\"><div class=\"a-section a-spacing-mini _cDEzb_noop_3Xbw5\" style=\"\"><img alt=\"Harry Potter et le prisonnier d\\'Azkaban\" src=\"https://images-eu.ssl-images-amazon.com/images/I/81S6Zlt5x1L._AC_UL300_SR300,300_.jpg\" class=\"a-dynamic-image p13n-sc-dynamic-image p13n-product-image\" height=\"100px\" data-a-dynamic-image=\"{&quot;https://images-eu.ssl-images-amazon.com/images/I/81S6Zlt5x1L._AC_UL100_SR100,100_.jpg&quot;:[100,100],&quot;https://images-eu.ssl-images-amazon.com/images/I/81S6Zlt5x1L._AC_UL200_SR200,200_.jpg&quot;:[200,200],&quot;https://images-eu.ssl-images-amazon.com/images/I/81S6Zlt5x1L._AC_UL300_SR300,300_.jpg&quot;:[300,300]}\" style=\"max-width:100px;max-height:100px\"></div></a></div><div class=\"a-fixed-left-grid-col a-col-right\" style=\"padding-left:0%;float:left\"><div><div><a class=\"a-link-normal\" href=\"/Harry-Potter-prisonnier-dAzkaban-2023/dp/2075187649/ref=pd_cart_crc_cko_cp_d_sccl_1_1/260-4517497-4983724?pd_rd_w=8ew8g&amp;content-id=amzn1.sym.aa4d1af1-606d-4068-88f8-7ef97579576d&amp;pf_rd_p=aa4d1af1-606d-4068-88f8-7ef97579576d&amp;pf_rd_r=YS26N7CGYKTPWMAKT3A1&amp;pd_rd_wg=eoorO&amp;pd_rd_r=7e8646ce-8b92-456e-b22e-d1f50aaa7dcf&amp;pd_rd_i=2075187649&amp;psc=1\" role=\"link\"><span><div class=\"_cDEzb_p13n-sc-css-line-clamp-1_1Fn1y\">Harry Potter et le prisonnier d\\'Azkaban</div></span></a><div class=\"a-row a-size-small\"><span class=\"a-size-small a-color-base\"><div class=\"_cDEzb_p13n-sc-css-line-clamp-1_1Fn1y\">J.K. Rowling</div></span></div><div class=\"a-row\"><div class=\"a-icon-row\"><a class=\"a-link-normal\" title=\"4,8 sur 5&nbsp;étoiles\" href=\"/product-reviews/2075187649/ref=pd_cart_crc_cko_cp_d_sccl_1_1_cr/260-4517497-4983724?pd_rd_w=8ew8g&amp;content-id=amzn1.sym.aa4d1af1-606d-4068-88f8-7ef97579576d&amp;pf_rd_p=aa4d1af1-606d-4068-88f8-7ef97579576d&amp;pf_rd_r=YS26N7CGYKTPWMAKT3A1&amp;pd_rd_wg=eoorO&amp;pd_rd_r=7e8646ce-8b92-456e-b22e-d1f50aaa7dcf&amp;pd_rd_i=2075187649\"><i class=\"a-icon a-icon-star-small a-star-small-5 aok-align-top\"><span class=\"a-icon-alt\">4,8 sur 5&nbsp;étoiles</span></i>\\u2009<span class=\"a-size-small\">48</span></a></div></div><div class=\"a-row a-size-small\"><span class=\"a-size-small a-color-secondary a-text-normal\">Poche</span></div><div class=\"a-row\"><div class=\"a-row\">']"
      ]
     },
     "execution_count": 9,
     "metadata": {},
     "output_type": "execute_result"
    }
   ],
   "source": [
    "retriever = SemanticRetriever(xpathed_only=True)\n",
    "html = selenium_driver.get_html()\n",
    "\n",
    "nodes = retriever.retrieve(f\"Verify this condition: {assert_statement}\" , html.splitlines())\n",
    "\n",
    "nodes"
   ]
  },
  {
   "cell_type": "code",
   "execution_count": 10,
   "metadata": {},
   "outputs": [
    {
     "data": {
      "text/html": [
       "<div class=\"a-row sc-cart-header\">\n",
       "    \n",
       "\n",
       "\n",
       "\n",
       "\n",
       "\n",
       "\n",
       "\n",
       "\n",
       "\n",
       "\n",
       "\n",
       "\n",
       "\n",
       "\n",
       "\n",
       "\n",
       "\n",
       "\n",
       "    \n",
       "    \n",
       "        <div class=\"a-row\">\n",
       "            <h1 class=\"a-spacing-mini a-spacing-top-base\">\n",
       "                Votre panier Amazon est vide.\n",
       "            </h1>\n",
       "        </div>\n",
       "    \n",
       "\n",
       "\n",
       "\n",
       "\n",
       "\n",
       "\n",
       "\n",
       "\n",
       "\n",
       "\n",
       "\n",
       "\n",
       "\n",
       "\n",
       "\n",
       "\n",
       "\n",
       "\n",
       "\n",
       "\n",
       "\n",
       "\n",
       "\n",
       "\n",
       "</div>\n",
       "\n",
       "\n",
       "\n",
       "\n",
       "\n",
       "\n",
       "\n",
       "\n",
       "\n",
       "\n",
       "\n",
       "\n",
       "\n",
       "\n",
       "\n",
       "\n",
       "\n",
       "\n",
       "\n",
       "\n",
       "<form id=\"activeCartViewForm\" method=\"post\" action=\"/cart/ref=ord_cart_shr?app-nav-type=none&amp;dc=df\">\n",
       "    <input type=\"hidden\" name=\"requestID\" value=\"YS26N7CGYKTPWMAKT3A1\">\n",
       "<input type=\"hidden\" name=\"timeStamp\" value=\"1721999033\">\n",
       "<input type=\"hidden\" name=\"token\" value=\"gAVacNP7NQaO0m69A4o9wDGKrokppavuVVIqmkkAAAAMAAAAAGajnrlyYXcAAAAA\">\n",
       "<input type=\"hidden\" name=\"anti-csrftoken-a2z\" value=\"g4ZZNgHZ6xPqcm7HUmo7HeOP/M5PetDsm3wrWAlc2uYrAAAAAQAAAABmo565cmF3AAAAAAOg0Bifa6o/kj8T3F+olA==\">\n",
       "\n",
       "    \n",
       "\n",
       "    \n",
       "        \n",
       "            \n",
       "\n",
       "\n",
       "\n",
       "\n",
       "\n",
       "\n",
       "\n",
       "\n",
       "\n",
       "\n",
       "\n",
       "\n",
       "\n",
       "\n",
       "\n",
       "\n",
       "\n",
       "\n",
       "\n",
       "\n",
       "\n",
       "\n",
       "\n",
       "\n",
       "\n",
       "\n",
       "\n",
       "\n",
       "\n",
       "\n",
       "\n",
       "\n",
       "\n",
       "\n",
       "\n",
       "\n",
       "\n",
       "\n",
       "<div data-name=\"Active Items Header\" class=\"a-section a-spacing-none sc-list-head sc-java-remote-feature\">\n",
       "    <noscript>\n",
       "        <div class=\"a-row\">\n",
       "            <div class=\"a-column a-span10\"></div>\n",
       "            <div class=\"a-column a-span2 a-text-right a-spacing-top-micro sc-update-all-quantity a-span-last\">\n",
       "            </div>\n",
       "        </div>\n",
       "    </noscript>\n",
       "    <div class=\"a-row\">\n",
       "        <div class=\"a-column a-span10\"></div>\n",
       "        <div class=\"a-column a-span2 a-text-right a-spacing-top-micro a-span-last\">\n",
       "            <span class=\"a-color-secondary\">Prix</span>\n",
       "        </div>\n",
       "    </div>\n",
       "</div>\n",
       "\n",
       "\n",
       "<div data-name=\"Active Items\" class=\"a-section a-spacing-mini sc-list-body sc-java-remote-feature\"><div data-asin=\"2075187592\" data-bundleitem=\"absent\" data-csa-c-asin=\"amzn1.asin.2075187592\" data-csa-c-owner=\"CartX\" data-csa-c-posx=\"1\" data-csa-c-type=\"item\" data-encoded-offering=\"6pcE6LiRgZ8Q0qEPXCqEQwlgz4OvsJFFElw5%2BtIVBjsdABSUOGd55FlkOVvlw8S7rQW7kVfgpemQeT54teaiHb69O1Z8KzHj3x1DuJ2Zy2NPpjn89jUasntGCtxBfKTqg8TKgnqAD6w%3D\" data-giftable=\"1\" data-giftwrapped=\"0\" data-incentivizedcartmessage=\"\" data-isprimeasin=\"0\" data-item-index=\"1\" data-itemcategory=\"normal\" data-itemid=\"72608a41-af92-4a30-be19-8d0115b85a09\" data-itemtype=\"active\" data-minquantity=\"1\" data-nesteditemsquantity=\"0\" data-outofstock=\"0\" data-price=\"9.7\" data-quantity=\"1\" data-showlinelevelrecommender=\"0\" data-subtotal=\"{&quot;numberOfItems&quot;:1,&quot;subtotal&quot;:{&quot;code&quot;:&quot;EUR&quot;,&quot;amount&quot;:9.70},&quot;points&quot;:0}\" id=\"sc-active-72608a41-af92-4a30-be19-8d0115b85a09\" class=\"a-row sc-list-item sc-java-remote-feature sc-list-item-optimistic-updates\" data-csa-c-id=\"gpisn1-xiq7fu-7w5w0e-u59p0x\" data-removed=\"true\"><div class=\"sc-list-item-removed-msg\" style=\"\"><div class=\"a-padding-medium\" data-action=\"delete\" style=\"\"><span class=\"a-size-base\"> <a class=\"a-link-normal sc-product-link\" target=\"_blank\" rel=\"noopener\" href=\"/gp/product/2075187592/ref=ox_sc_act_title_delete_1?smid=A1X6FK5RDHNB96&amp;psc=1\"> Harry Potter et la Chambre des Secrets <span class=\"aok-hidden\"> S’ouvre dans un nouvel onglet </span> </a> a été supprimé de Votre panier. </span></div><div class=\"a-padding-medium\" data-action=\"save-for-later\" style=\"display: none;\"><span class=\"a-size-base\"> <a class=\"a-link-normal sc-product-link\" target=\"_blank\" rel=\"noopener\" href=\"/gp/product/2075187592/ref=ox_sc_act_title_1?smid=A1X6FK5RDHNB96&amp;psc=1\"> Harry Potter et la Chambre des Secrets <span class=\"aok-hidden\"> S’ouvre dans un nouvel onglet </span> </a> L'élément a été déplacé vers Mis de côté. </span></div><div class=\"a-padding-medium\" data-action=\"move-to-cart\" style=\"display: none;\">"
      ],
      "text/plain": [
       "<IPython.core.display.HTML object>"
      ]
     },
     "metadata": {},
     "output_type": "display_data"
    },
    {
     "data": {
      "text/html": [
       "<div class=\"sc-cart-overwrap\" style=\"display:none;\">\n",
       "</div>"
      ],
      "text/plain": [
       "<IPython.core.display.HTML object>"
      ]
     },
     "metadata": {},
     "output_type": "display_data"
    },
    {
     "data": {
      "text/html": [
       "<div class=\"celwidget pd_rd_w-8ew8g content-id-amzn1.sym.aa4d1af1-606d-4068-88f8-7ef97579576d pf_rd_p-aa4d1af1-606d-4068-88f8-7ef97579576d pf_rd_r-YS26N7CGYKTPWMAKT3A1 pd_rd_wg-eoorO pd_rd_r-7e8646ce-8b92-456e-b22e-d1f50aaa7dcf c-f\" cel_widget_id=\"p13n-desktop-list_cart-page-widgets_0\" data-csa-op-log-render=\"\" data-csa-c-content-id=\"amzn1.sym.aa4d1af1-606d-4068-88f8-7ef97579576d\" data-csa-c-slot-id=\"cart-page-widgets-1\" data-csa-c-type=\"widget\" data-csa-c-painter=\"p13n-desktop-list-cards\" data-csa-c-id=\"lvq2h8-t6qldi-6w6gld-yg2qcl\" data-cel-widget=\"p13n-desktop-list_cart-page-widgets_0\"><script>if(window.mix_csa){window.mix_csa('[cel_widget_id=\"p13n-desktop-list_cart-page-widgets_0\"]', '#CardInstancealqnfHTDBuqt2vuWMjgWyw')('mark', 'bb')}</script>\n",
       "<script>if(window.uet){window.uet('bb','p13n-desktop-list_cart-page-widgets_0',{wb: 1})}</script>"
      ],
      "text/plain": [
       "<IPython.core.display.HTML object>"
      ]
     },
     "metadata": {},
     "output_type": "display_data"
    },
    {
     "data": {
      "text/html": [
       "<div class=\"celwidget pd_rd_w-TbYhS content-id-amzn1.sym.dbc71186-36b0-4419-8352-da940b7e6c07 pf_rd_p-dbc71186-36b0-4419-8352-da940b7e6c07 pf_rd_r-YS26N7CGYKTPWMAKT3A1 pd_rd_wg-eoorO pd_rd_r-7e8646ce-8b92-456e-b22e-d1f50aaa7dcf c-f\" cel_widget_id=\"p13n-desktop-carousel_cart-page-widgets_1\" data-csa-op-log-render=\"\" data-csa-c-content-id=\"amzn1.sym.dbc71186-36b0-4419-8352-da940b7e6c07\" data-csa-c-slot-id=\"cart-page-widgets-2\" data-csa-c-type=\"widget\" data-csa-c-painter=\"p13n-desktop-carousel-cards\" data-csa-c-id=\"6cjoyc-5rc9m1-ohvpe2-46u4qi\" data-cel-widget=\"p13n-desktop-carousel_cart-page-widgets_1\"><script>if(window.mix_csa){window.mix_csa('[cel_widget_id=\"p13n-desktop-carousel_cart-page-widgets_1\"]', '#CardInstancessoQR1A_mJn1RWYm9U33kA')('mark', 'bb')}</script>\n",
       "<script>if(window.uet){window.uet('bb','p13n-desktop-carousel_cart-page-widgets_1',{wb: 1})}</script>"
      ],
      "text/plain": [
       "<IPython.core.display.HTML object>"
      ]
     },
     "metadata": {},
     "output_type": "display_data"
    },
    {
     "data": {
      "text/html": [
       "<div id=\"CardInstancealqnfHTDBuqt2vuWMjgWyw\" data-card-metrics-id=\"p13n-desktop-list_cart-page-widgets_0\" data-acp-tracking=\"{&quot;pd_rd_w&quot;:&quot;8ew8g&quot;,&quot;content-id&quot;:&quot;amzn1.sym.aa4d1af1-606d-4068-88f8-7ef97579576d&quot;,&quot;pf_rd_p&quot;:&quot;aa4d1af1-606d-4068-88f8-7ef97579576d&quot;,&quot;pf_rd_r&quot;:&quot;YS26N7CGYKTPWMAKT3A1&quot;,&quot;pd_rd_wg&quot;:&quot;eoorO&quot;,&quot;pd_rd_r&quot;:&quot;7e8646ce-8b92-456e-b22e-d1f50aaa7dcf&quot;,&quot;ref_&quot;:&quot;pd_cart_crc_cko_cp&quot;}\" data-mix-claimed=\"true\"><div class=\"_cDEzb_your-orders-box-styling_1K33F\"><div><div class=\"a-section\"><h3 class=\"a-spacing-base\">Les clients ayant acheté un article que vous avez consulté récemment ont également acheté :</h3><ul class=\"a-unordered-list a-nostyle a-vertical\"><li class=\"a-spacing-medium\"><span class=\"a-list-item\"><span data-csa-c-type=\"item\" data-csa-c-item-type=\"asin\" data-csa-c-item-id=\"amzn1.asin.2075187649\" data-csa-c-owner=\"p13n\" data-csa-c-posx=\"0\" data-csa-c-id=\"1bs659-67x9o6-p4bnu7-8ysuw\"><div><div class=\"a-fixed-left-grid\"><div class=\"a-fixed-left-grid-inner\" style=\"padding-left:108px\"><div class=\"a-fixed-left-grid-col a-col-left\" style=\"width:108px;margin-left:-108px;float:left\"><a class=\"a-link-normal aok-block\" tabindex=\"-1\" href=\"/Harry-Potter-prisonnier-dAzkaban-2023/dp/2075187649/ref=pd_cart_crc_cko_cp_d_sccl_1_1/260-4517497-4983724?pd_rd_w=8ew8g&amp;content-id=amzn1.sym.aa4d1af1-606d-4068-88f8-7ef97579576d&amp;pf_rd_p=aa4d1af1-606d-4068-88f8-7ef97579576d&amp;pf_rd_r=YS26N7CGYKTPWMAKT3A1&amp;pd_rd_wg=eoorO&amp;pd_rd_r=7e8646ce-8b92-456e-b22e-d1f50aaa7dcf&amp;pd_rd_i=2075187649&amp;psc=1\" role=\"link\"><div class=\"a-section a-spacing-mini _cDEzb_noop_3Xbw5\" style=\"\"><img alt=\"Harry Potter et le prisonnier d'Azkaban\" src=\"https://images-eu.ssl-images-amazon.com/images/I/81S6Zlt5x1L._AC_UL300_SR300,300_.jpg\" class=\"a-dynamic-image p13n-sc-dynamic-image p13n-product-image\" height=\"100px\" data-a-dynamic-image=\"{&quot;https://images-eu.ssl-images-amazon.com/images/I/81S6Zlt5x1L._AC_UL100_SR100,100_.jpg&quot;:[100,100],&quot;https://images-eu.ssl-images-amazon.com/images/I/81S6Zlt5x1L._AC_UL200_SR200,200_.jpg&quot;:[200,200],&quot;https://images-eu.ssl-images-amazon.com/images/I/81S6Zlt5x1L._AC_UL300_SR300,300_.jpg&quot;:[300,300]}\" style=\"max-width:100px;max-height:100px\"></div></a></div><div class=\"a-fixed-left-grid-col a-col-right\" style=\"padding-left:0%;float:left\"><div><div><a class=\"a-link-normal\" href=\"/Harry-Potter-prisonnier-dAzkaban-2023/dp/2075187649/ref=pd_cart_crc_cko_cp_d_sccl_1_1/260-4517497-4983724?pd_rd_w=8ew8g&amp;content-id=amzn1.sym.aa4d1af1-606d-4068-88f8-7ef97579576d&amp;pf_rd_p=aa4d1af1-606d-4068-88f8-7ef97579576d&amp;pf_rd_r=YS26N7CGYKTPWMAKT3A1&amp;pd_rd_wg=eoorO&amp;pd_rd_r=7e8646ce-8b92-456e-b22e-d1f50aaa7dcf&amp;pd_rd_i=2075187649&amp;psc=1\" role=\"link\"><span><div class=\"_cDEzb_p13n-sc-css-line-clamp-1_1Fn1y\">Harry Potter et le prisonnier d'Azkaban</div></span></a><div class=\"a-row a-size-small\"><span class=\"a-size-small a-color-base\"><div class=\"_cDEzb_p13n-sc-css-line-clamp-1_1Fn1y\">J.K. Rowling</div></span></div><div class=\"a-row\"><div class=\"a-icon-row\"><a class=\"a-link-normal\" title=\"4,8 sur 5&nbsp;étoiles\" href=\"/product-reviews/2075187649/ref=pd_cart_crc_cko_cp_d_sccl_1_1_cr/260-4517497-4983724?pd_rd_w=8ew8g&amp;content-id=amzn1.sym.aa4d1af1-606d-4068-88f8-7ef97579576d&amp;pf_rd_p=aa4d1af1-606d-4068-88f8-7ef97579576d&amp;pf_rd_r=YS26N7CGYKTPWMAKT3A1&amp;pd_rd_wg=eoorO&amp;pd_rd_r=7e8646ce-8b92-456e-b22e-d1f50aaa7dcf&amp;pd_rd_i=2075187649\"><i class=\"a-icon a-icon-star-small a-star-small-5 aok-align-top\"><span class=\"a-icon-alt\">4,8 sur 5&nbsp;étoiles</span></i> <span class=\"a-size-small\">48</span></a></div></div><div class=\"a-row a-size-small\"><span class=\"a-size-small a-color-secondary a-text-normal\">Poche</span></div><div class=\"a-row\"><div class=\"a-row\">"
      ],
      "text/plain": [
       "<IPython.core.display.HTML object>"
      ]
     },
     "metadata": {},
     "output_type": "display_data"
    }
   ],
   "source": [
    "from IPython.display import HTML\n",
    "\n",
    "# display(HTML(nodes[0]))\n",
    "for e in nodes: \n",
    "    display(HTML(e))\n",
    "\n",
    "    "
   ]
  },
  {
   "cell_type": "markdown",
   "metadata": {},
   "source": [
    "### Get all actions performed and screenshot of last page state\n",
    "\n",
    "From logs, clean the \"code\" column to remove CoT comments then create a new dataframe that contains each instruction with the associated xpath and action taken"
   ]
  },
  {
   "cell_type": "code",
   "execution_count": 11,
   "metadata": {},
   "outputs": [
    {
     "name": "stdout",
     "output_type": "stream",
     "text": [
      "Click on the \"Accepter\" button to accept cookies. \n",
      "- actions:\n",
      "    - action:\n",
      "        args:\n",
      "            xpath: \"/html/body/div/span/form/div[2]/span/span/input\"\n",
      "        name: \"click\"\n",
      "\n",
      "Enter \"Harry Potter et la Chambre des Secrets\" into the search bar and press Enter. \n",
      "- actions:\n",
      "    - action:\n",
      "        args:\n",
      "            xpath: \"/html/body/div/header/div/div/div[2]/div/form/div[3]/div/input\"\n",
      "            value: \"Harry Potter et la Chambre des Secrets\"\n",
      "        name: \"setValue\"\n",
      "    - action:\n",
      "        args:\n",
      "            xpath: \"/html/body/div/header/div/div/div[2]/div/form/div[3]/div/input\"\n",
      "            value: \"Harry Potter et la Chambre des Secrets\"\n",
      "        name: \"setValueAndEnter\"\n",
      "\n",
      "Click on \"Harry Potter et la Chambre des Secrets\" in the search results. \n",
      "- actions:\n",
      "    - action:\n",
      "        args:\n",
      "            xpath: \"/html/body/div/div/div/div/div/span/div/div[3]/div/div/span/div/div/div/span/a\"\n",
      "            value: \"\"\n",
      "        name: \"click\"\n",
      "\n",
      "Click on the \"Ajouter au panier\" button. \n",
      "- actions:\n",
      "    - action:\n",
      "        args:\n",
      "            xpath: \"/html/body/div[2]/div/div[4]/div/div[5]/div[4]/div[4]/div/div/div/div/div/div/div/div/div/form/div/div/div/div/div[4]/div/div[23]/div/span/span/span/input\"\n",
      "        name: \"click\"\n",
      "\n",
      "Click on the \"Aller au panier\" button. \n",
      "- actions:\n",
      "    - action:\n",
      "        args:\n",
      "            xpath: \"/html/body/div/div/div/div/div[2]/div/div[3]/div/div/span/span/a\"\n",
      "        name: \"click\"\n",
      "\n",
      "Click on the \"Supprimer\" button next to \"Harry Potter et la Chambre des Secrets\" in the cart. \n",
      "- actions:\n",
      "    - action:\n",
      "        args:\n",
      "            xpath: \"/html/body/div/div/div[3]/div[5]/div/div[2]/div/div/form/div[2]/div[3]/div[4]/div/div[2]/div/span[2]/span/input\"\n",
      "        name: \"click\"\n",
      "\n",
      " \n"
     ]
    }
   ],
   "source": [
    "# get all actions and cleaup\n",
    "actions = \"\\n\".join(logs[\"code\"].dropna())\n",
    "\n",
    "def remove_comments(code):\n",
    "    return '\\n'.join([line for line in code.split('\\n') if not line.strip().startswith('#')])\n",
    "\n",
    "logs['action'] = logs['code'].dropna().apply(remove_comments)\n",
    "cleaned_logs = logs[['instruction', 'action']].fillna('')\n",
    "actions = '\\n\\n'.join(cleaned_logs['instruction'] + ' ' + cleaned_logs['action'])\n",
    "\n",
    "instructions = \"\\n\".join(cleaned_logs['instruction'])\n",
    "print(actions)\n",
    "\n",
    "# get last page screenshot\n",
    "last_page_screenshot = SimpleDirectoryReader(logs.iloc[-1][\"screenshots_path\"]).load_data() # load last screenshot taken\n"
   ]
  },
  {
   "cell_type": "markdown",
   "metadata": {},
   "source": [
    "# Output generation\n",
    "Use all gathered data about the site to generate a Gherkin, then a pytest-bdd file\n",
    "\n",
    "We'll first create two LLMs\n",
    "- multi modal LLM `gpt-4o` is used to generate the final code file (we pass a screenshot of the last page state to help with the assert generation)\n",
    "- text only LLM `gpt-4` to generate the feature file"
   ]
  },
  {
   "cell_type": "code",
   "execution_count": 12,
   "metadata": {},
   "outputs": [],
   "source": [
    "gpt4o = OpenAIMultiModal(\"gpt-4o\")\n",
    "gpt4o.max_new_tokens = 2000 # 300 by default, we increase it to make sure our pytest file doesn't get trucated\n",
    "\n",
    "gpt4 = OpenAI(\"gpt-4\")\n",
    "\n",
    "# we'll clean the triple quote answer from the LLMs\n",
    "def clean_output(markdown_code_block):\n",
    "    return markdown_code_block.replace(\"```python\", \"\").replace(\"```\", \"\").replace(\"```\\n\", \"\")"
   ]
  },
  {
   "cell_type": "markdown",
   "metadata": {},
   "source": [
    "### Generate pytest file"
   ]
  },
  {
   "cell_type": "code",
   "execution_count": 14,
   "metadata": {},
   "outputs": [
    {
     "name": "stdout",
     "output_type": "stream",
     "text": [
      "\n",
      "You are an expert in software testing frameworks and Python code generation. You answer in python markdown only and nothing else, don't include anything after the last backticks. Your task is to:\n",
      "1. Process a test case, existing actions (with their associated xpath) that was ran during the test by an agent, relevant HTML nodes, and the screenshot of the last state of the page.\n",
      "2. Generate an assert statement for the last condition of the test case. THis is the most important, you need to generate one assert statement based on the provided `Then` step. \n",
      "3. Package everything in a pytest-bdd file following best practices. \n",
      "Requirements:\n",
      "- Use descriptive function names and name the scenario appropriately.\n",
      "- Use execute_script to handle potential ElementClickInterceptedException during clicks.\n",
      "- Include fixtures, scenario, Gherkin-style definitions, etc.\n",
      "- Use try-except blocks to catch exceptions and raise pytest.fail for assert condition steps as needed.\n",
      "- Do not generate asserts for 'Given', 'When', or 'And' steps; only generate asserts for 'Then' steps.\n",
      "- Always use provided selenium code that was already executed to find valid selectors for the final pytestfile. \n",
      "- You answer in python code only and nothing else.\n",
      "\n",
      "\n",
      "Generate a valid pytest-bdd file with the following inputs and examples to guide you:\n",
      "Feature file name: demo.feature\n",
      "\n",
      "URL: https://www.amazon.fr/\n",
      "\n",
      "Full feature to be tested: Feature: Add and remove a single product from cart\n",
      "\n",
      "  Scenario: Add a product to cart\n",
      "    Given I am on the homepage\n",
      "    When I click \"Accepter\" to accept cookies\n",
      "    And I enter \"Harry Potter et la Chambre des Secrets\" into the search bar and press Enter\n",
      "    And I click on \"Harry Potter et la Chambre des Secrets\" in the search results\n",
      "    And I am on the product details page\n",
      "    And I click on the \"Ajouter au panier\" button\n",
      "    And I am taken to a confirmation page\n",
      "    And I click on \"Aller au panier\"\n",
      "    And I am taken to the cart page\n",
      "    And I remove the product from the cart by clicking on \"Supprimer\"\n",
      "    Then the cart should be empty\n",
      "\n",
      "\n",
      "Already executed (instruction + actions):\n",
      "Click on the \"Accepter\" button to accept cookies. \n",
      "- actions:\n",
      "    - action:\n",
      "        args:\n",
      "            xpath: \"/html/body/div/span/form/div[2]/span/span/input\"\n",
      "        name: \"click\"\n",
      "\n",
      "Enter \"Harry Potter et la Chambre des Secrets\" into the search bar and press Enter. \n",
      "- actions:\n",
      "    - action:\n",
      "        args:\n",
      "            xpath: \"/html/body/div/header/div/div/div[2]/div/form/div[3]/div/input\"\n",
      "            value: \"Harry Potter et la Chambre des Secrets\"\n",
      "        name: \"setValue\"\n",
      "    - action:\n",
      "        args:\n",
      "            xpath: \"/html/body/div/header/div/div/div[2]/div/form/div[3]/div/input\"\n",
      "            value: \"Harry Potter et la Chambre des Secrets\"\n",
      "        name: \"setValueAndEnter\"\n",
      "\n",
      "Click on \"Harry Potter et la Chambre des Secrets\" in the search results. \n",
      "- actions:\n",
      "    - action:\n",
      "        args:\n",
      "            xpath: \"/html/body/div/div/div/div/div/span/div/div[3]/div/div/span/div/div/div/span/a\"\n",
      "            value: \"\"\n",
      "        name: \"click\"\n",
      "\n",
      "Click on the \"Ajouter au panier\" button. \n",
      "- actions:\n",
      "    - action:\n",
      "        args:\n",
      "            xpath: \"/html/body/div[2]/div/div[4]/div/div[5]/div[4]/div[4]/div/div/div/div/div/div/div/div/div/form/div/div/div/div/div[4]/div/div[23]/div/span/span/span/input\"\n",
      "        name: \"click\"\n",
      "\n",
      "Click on the \"Aller au panier\" button. \n",
      "- actions:\n",
      "    - action:\n",
      "        args:\n",
      "            xpath: \"/html/body/div/div/div/div/div[2]/div/div[3]/div/div/span/span/a\"\n",
      "        name: \"click\"\n",
      "\n",
      "Click on the \"Supprimer\" button next to \"Harry Potter et la Chambre des Secrets\" in the cart. \n",
      "- actions:\n",
      "    - action:\n",
      "        args:\n",
      "            xpath: \"/html/body/div/div/div[3]/div[5]/div/div[2]/div/div/form/div[2]/div[3]/div[4]/div/div[2]/div/span[2]/span/input\"\n",
      "        name: \"click\"\n",
      "\n",
      " \n",
      "\n",
      "Assert statement (Then) to test: Then the cart should be empty\n",
      "Chunk of HTML that may be usefull to generate the assert statement. Generate a general statement that checks for the assert using these nodes: ['<div class=\"a-row sc-cart-header\">\\n    \\n\\n\\n\\n\\n\\n\\n\\n\\n\\n\\n\\n\\n\\n\\n\\n\\n\\n\\n    \\n    \\n        <div class=\"a-row\">\\n            <h1 class=\"a-spacing-mini a-spacing-top-base\">\\n                Votre panier Amazon est vide.\\n            </h1>\\n        </div>\\n    \\n\\n\\n\\n\\n\\n\\n\\n\\n\\n\\n\\n\\n\\n\\n\\n\\n\\n\\n\\n\\n\\n\\n\\n\\n</div>\\n\\n\\n\\n\\n\\n\\n\\n\\n\\n\\n\\n\\n\\n\\n\\n\\n\\n\\n\\n\\n<form id=\"activeCartViewForm\" method=\"post\" action=\"/cart/ref=ord_cart_shr?app-nav-type=none&amp;dc=df\">\\n    <input type=\"hidden\" name=\"requestID\" value=\"YS26N7CGYKTPWMAKT3A1\">\\n<input type=\"hidden\" name=\"timeStamp\" value=\"1721999033\">\\n<input type=\"hidden\" name=\"token\" value=\"gAVacNP7NQaO0m69A4o9wDGKrokppavuVVIqmkkAAAAMAAAAAGajnrlyYXcAAAAA\">\\n<input type=\"hidden\" name=\"anti-csrftoken-a2z\" value=\"g4ZZNgHZ6xPqcm7HUmo7HeOP/M5PetDsm3wrWAlc2uYrAAAAAQAAAABmo565cmF3AAAAAAOg0Bifa6o/kj8T3F+olA==\">\\n\\n    \\n\\n    \\n        \\n            \\n\\n\\n\\n\\n\\n\\n\\n\\n\\n\\n\\n\\n\\n\\n\\n\\n\\n\\n\\n\\n\\n\\n\\n\\n\\n\\n\\n\\n\\n\\n\\n\\n\\n\\n\\n\\n\\n\\n<div data-name=\"Active Items Header\" class=\"a-section a-spacing-none sc-list-head sc-java-remote-feature\">\\n    <noscript>\\n        <div class=\"a-row\">\\n            <div class=\"a-column a-span10\"></div>\\n            <div class=\"a-column a-span2 a-text-right a-spacing-top-micro sc-update-all-quantity a-span-last\">\\n            </div>\\n        </div>\\n    </noscript>\\n    <div class=\"a-row\">\\n        <div class=\"a-column a-span10\"></div>\\n        <div class=\"a-column a-span2 a-text-right a-spacing-top-micro a-span-last\">\\n            <span class=\"a-color-secondary\">Prix</span>\\n        </div>\\n    </div>\\n</div>\\n\\n\\n<div data-name=\"Active Items\" class=\"a-section a-spacing-mini sc-list-body sc-java-remote-feature\"><div data-asin=\"2075187592\" data-bundleitem=\"absent\" data-csa-c-asin=\"amzn1.asin.2075187592\" data-csa-c-owner=\"CartX\" data-csa-c-posx=\"1\" data-csa-c-type=\"item\" data-encoded-offering=\"6pcE6LiRgZ8Q0qEPXCqEQwlgz4OvsJFFElw5%2BtIVBjsdABSUOGd55FlkOVvlw8S7rQW7kVfgpemQeT54teaiHb69O1Z8KzHj3x1DuJ2Zy2NPpjn89jUasntGCtxBfKTqg8TKgnqAD6w%3D\" data-giftable=\"1\" data-giftwrapped=\"0\" data-incentivizedcartmessage=\"\" data-isprimeasin=\"0\" data-item-index=\"1\" data-itemcategory=\"normal\" data-itemid=\"72608a41-af92-4a30-be19-8d0115b85a09\" data-itemtype=\"active\" data-minquantity=\"1\" data-nesteditemsquantity=\"0\" data-outofstock=\"0\" data-price=\"9.7\" data-quantity=\"1\" data-showlinelevelrecommender=\"0\" data-subtotal=\"{&quot;numberOfItems&quot;:1,&quot;subtotal&quot;:{&quot;code&quot;:&quot;EUR&quot;,&quot;amount&quot;:9.70},&quot;points&quot;:0}\" id=\"sc-active-72608a41-af92-4a30-be19-8d0115b85a09\" class=\"a-row sc-list-item sc-java-remote-feature sc-list-item-optimistic-updates\" data-csa-c-id=\"gpisn1-xiq7fu-7w5w0e-u59p0x\" data-removed=\"true\"><div class=\"sc-list-item-removed-msg\" style=\"\"><div class=\"a-padding-medium\" data-action=\"delete\" style=\"\"><span class=\"a-size-base\"> <a class=\"a-link-normal sc-product-link\" target=\"_blank\" rel=\"noopener\" href=\"/gp/product/2075187592/ref=ox_sc_act_title_delete_1?smid=A1X6FK5RDHNB96&amp;psc=1\"> Harry Potter et la Chambre des Secrets <span class=\"aok-hidden\"> S’ouvre dans un nouvel onglet </span> </a> a été supprimé de Votre panier. </span></div><div class=\"a-padding-medium\" data-action=\"save-for-later\" style=\"display: none;\"><span class=\"a-size-base\"> <a class=\"a-link-normal sc-product-link\" target=\"_blank\" rel=\"noopener\" href=\"/gp/product/2075187592/ref=ox_sc_act_title_1?smid=A1X6FK5RDHNB96&amp;psc=1\"> Harry Potter et la Chambre des Secrets <span class=\"aok-hidden\"> S’ouvre dans un nouvel onglet </span> </a> L\\'élément a été déplacé vers Mis de côté. </span></div><div class=\"a-padding-medium\" data-action=\"move-to-cart\" style=\"display: none;\">', '<div class=\"sc-cart-overwrap\" style=\"display:none;\">\\n</div>', '<div class=\"celwidget pd_rd_w-8ew8g content-id-amzn1.sym.aa4d1af1-606d-4068-88f8-7ef97579576d pf_rd_p-aa4d1af1-606d-4068-88f8-7ef97579576d pf_rd_r-YS26N7CGYKTPWMAKT3A1 pd_rd_wg-eoorO pd_rd_r-7e8646ce-8b92-456e-b22e-d1f50aaa7dcf c-f\" cel_widget_id=\"p13n-desktop-list_cart-page-widgets_0\" data-csa-op-log-render=\"\" data-csa-c-content-id=\"amzn1.sym.aa4d1af1-606d-4068-88f8-7ef97579576d\" data-csa-c-slot-id=\"cart-page-widgets-1\" data-csa-c-type=\"widget\" data-csa-c-painter=\"p13n-desktop-list-cards\" data-csa-c-id=\"lvq2h8-t6qldi-6w6gld-yg2qcl\" data-cel-widget=\"p13n-desktop-list_cart-page-widgets_0\"><script>if(window.mix_csa){window.mix_csa(\\'[cel_widget_id=\"p13n-desktop-list_cart-page-widgets_0\"]\\', \\'#CardInstancealqnfHTDBuqt2vuWMjgWyw\\')(\\'mark\\', \\'bb\\')}</script>\\n<script>if(window.uet){window.uet(\\'bb\\',\\'p13n-desktop-list_cart-page-widgets_0\\',{wb: 1})}</script>', '<div class=\"celwidget pd_rd_w-TbYhS content-id-amzn1.sym.dbc71186-36b0-4419-8352-da940b7e6c07 pf_rd_p-dbc71186-36b0-4419-8352-da940b7e6c07 pf_rd_r-YS26N7CGYKTPWMAKT3A1 pd_rd_wg-eoorO pd_rd_r-7e8646ce-8b92-456e-b22e-d1f50aaa7dcf c-f\" cel_widget_id=\"p13n-desktop-carousel_cart-page-widgets_1\" data-csa-op-log-render=\"\" data-csa-c-content-id=\"amzn1.sym.dbc71186-36b0-4419-8352-da940b7e6c07\" data-csa-c-slot-id=\"cart-page-widgets-2\" data-csa-c-type=\"widget\" data-csa-c-painter=\"p13n-desktop-carousel-cards\" data-csa-c-id=\"6cjoyc-5rc9m1-ohvpe2-46u4qi\" data-cel-widget=\"p13n-desktop-carousel_cart-page-widgets_1\"><script>if(window.mix_csa){window.mix_csa(\\'[cel_widget_id=\"p13n-desktop-carousel_cart-page-widgets_1\"]\\', \\'#CardInstancessoQR1A_mJn1RWYm9U33kA\\')(\\'mark\\', \\'bb\\')}</script>\\n<script>if(window.uet){window.uet(\\'bb\\',\\'p13n-desktop-carousel_cart-page-widgets_1\\',{wb: 1})}</script>', '<div id=\"CardInstancealqnfHTDBuqt2vuWMjgWyw\" data-card-metrics-id=\"p13n-desktop-list_cart-page-widgets_0\" data-acp-tracking=\"{&quot;pd_rd_w&quot;:&quot;8ew8g&quot;,&quot;content-id&quot;:&quot;amzn1.sym.aa4d1af1-606d-4068-88f8-7ef97579576d&quot;,&quot;pf_rd_p&quot;:&quot;aa4d1af1-606d-4068-88f8-7ef97579576d&quot;,&quot;pf_rd_r&quot;:&quot;YS26N7CGYKTPWMAKT3A1&quot;,&quot;pd_rd_wg&quot;:&quot;eoorO&quot;,&quot;pd_rd_r&quot;:&quot;7e8646ce-8b92-456e-b22e-d1f50aaa7dcf&quot;,&quot;ref_&quot;:&quot;pd_cart_crc_cko_cp&quot;}\" data-mix-claimed=\"true\"><div class=\"_cDEzb_your-orders-box-styling_1K33F\"><div><div class=\"a-section\"><h3 class=\"a-spacing-base\">Les clients ayant acheté un article que vous avez consulté récemment ont également acheté :</h3><ul class=\"a-unordered-list a-nostyle a-vertical\"><li class=\"a-spacing-medium\"><span class=\"a-list-item\"><span data-csa-c-type=\"item\" data-csa-c-item-type=\"asin\" data-csa-c-item-id=\"amzn1.asin.2075187649\" data-csa-c-owner=\"p13n\" data-csa-c-posx=\"0\" data-csa-c-id=\"1bs659-67x9o6-p4bnu7-8ysuw\"><div><div class=\"a-fixed-left-grid\"><div class=\"a-fixed-left-grid-inner\" style=\"padding-left:108px\"><div class=\"a-fixed-left-grid-col a-col-left\" style=\"width:108px;margin-left:-108px;float:left\"><a class=\"a-link-normal aok-block\" tabindex=\"-1\" href=\"/Harry-Potter-prisonnier-dAzkaban-2023/dp/2075187649/ref=pd_cart_crc_cko_cp_d_sccl_1_1/260-4517497-4983724?pd_rd_w=8ew8g&amp;content-id=amzn1.sym.aa4d1af1-606d-4068-88f8-7ef97579576d&amp;pf_rd_p=aa4d1af1-606d-4068-88f8-7ef97579576d&amp;pf_rd_r=YS26N7CGYKTPWMAKT3A1&amp;pd_rd_wg=eoorO&amp;pd_rd_r=7e8646ce-8b92-456e-b22e-d1f50aaa7dcf&amp;pd_rd_i=2075187649&amp;psc=1\" role=\"link\"><div class=\"a-section a-spacing-mini _cDEzb_noop_3Xbw5\" style=\"\"><img alt=\"Harry Potter et le prisonnier d\\'Azkaban\" src=\"https://images-eu.ssl-images-amazon.com/images/I/81S6Zlt5x1L._AC_UL300_SR300,300_.jpg\" class=\"a-dynamic-image p13n-sc-dynamic-image p13n-product-image\" height=\"100px\" data-a-dynamic-image=\"{&quot;https://images-eu.ssl-images-amazon.com/images/I/81S6Zlt5x1L._AC_UL100_SR100,100_.jpg&quot;:[100,100],&quot;https://images-eu.ssl-images-amazon.com/images/I/81S6Zlt5x1L._AC_UL200_SR200,200_.jpg&quot;:[200,200],&quot;https://images-eu.ssl-images-amazon.com/images/I/81S6Zlt5x1L._AC_UL300_SR300,300_.jpg&quot;:[300,300]}\" style=\"max-width:100px;max-height:100px\"></div></a></div><div class=\"a-fixed-left-grid-col a-col-right\" style=\"padding-left:0%;float:left\"><div><div><a class=\"a-link-normal\" href=\"/Harry-Potter-prisonnier-dAzkaban-2023/dp/2075187649/ref=pd_cart_crc_cko_cp_d_sccl_1_1/260-4517497-4983724?pd_rd_w=8ew8g&amp;content-id=amzn1.sym.aa4d1af1-606d-4068-88f8-7ef97579576d&amp;pf_rd_p=aa4d1af1-606d-4068-88f8-7ef97579576d&amp;pf_rd_r=YS26N7CGYKTPWMAKT3A1&amp;pd_rd_wg=eoorO&amp;pd_rd_r=7e8646ce-8b92-456e-b22e-d1f50aaa7dcf&amp;pd_rd_i=2075187649&amp;psc=1\" role=\"link\"><span><div class=\"_cDEzb_p13n-sc-css-line-clamp-1_1Fn1y\">Harry Potter et le prisonnier d\\'Azkaban</div></span></a><div class=\"a-row a-size-small\"><span class=\"a-size-small a-color-base\"><div class=\"_cDEzb_p13n-sc-css-line-clamp-1_1Fn1y\">J.K. Rowling</div></span></div><div class=\"a-row\"><div class=\"a-icon-row\"><a class=\"a-link-normal\" title=\"4,8 sur 5&nbsp;étoiles\" href=\"/product-reviews/2075187649/ref=pd_cart_crc_cko_cp_d_sccl_1_1_cr/260-4517497-4983724?pd_rd_w=8ew8g&amp;content-id=amzn1.sym.aa4d1af1-606d-4068-88f8-7ef97579576d&amp;pf_rd_p=aa4d1af1-606d-4068-88f8-7ef97579576d&amp;pf_rd_r=YS26N7CGYKTPWMAKT3A1&amp;pd_rd_wg=eoorO&amp;pd_rd_r=7e8646ce-8b92-456e-b22e-d1f50aaa7dcf&amp;pd_rd_i=2075187649\"><i class=\"a-icon a-icon-star-small a-star-small-5 aok-align-top\"><span class=\"a-icon-alt\">4,8 sur 5&nbsp;étoiles</span></i>\\u2009<span class=\"a-size-small\">48</span></a></div></div><div class=\"a-row a-size-small\"><span class=\"a-size-small a-color-secondary a-text-normal\">Poche</span></div><div class=\"a-row\"><div class=\"a-row\">']\n",
      "\n",
      "Examples:\n",
      "\n",
      "\n",
      "import pytest\n",
      "from selenium import webdriver\n",
      "from selenium.webdriver.common.by import By\n",
      "from selenium.webdriver.support.ui import WebDriverWait\n",
      "from selenium.webdriver.support import expected_conditions as EC\n",
      "from pytest_bdd import scenarios, given, when, then\n",
      "# Constants\n",
      "BASE_URL = 'https://form.jotform.com/241472287797370'\n",
      "# Scenarios\n",
      "scenarios('test_form_submission.feature')\n",
      "# Fixtures\n",
      "@pytest.fixture\n",
      "def browser():\n",
      "    driver = webdriver.Chrome()\n",
      "    driver.implicitly_wait(10)\n",
      "    driver.get(BASE_URL)\n",
      "    yield driver\n",
      "    driver.quit()\n",
      "# Steps\n",
      "@given('I am on the job application page')\n",
      "def i_am_on_the_job_application_page(browser):\n",
      "    pass\n",
      "@when('I enter \"John\" in the \"First Name\" field')\n",
      "def i_enter_first_name(browser):\n",
      "    first_name_field = browser.find_element(By.XPATH, \"/html/body/form/div[1]/ul/li[2]/div/div/span[1]/input\")\n",
      "    first_name_field.send_keys(\"John\")\n",
      "@when('I enter \"Doe\" in the \"Last Name\" field')\n",
      "def i_enter_last_name(browser):\n",
      "    last_name_field = browser.find_element(By.XPATH, \"/html/body/form/div[1]/ul/li[2]/div/div/span[2]/input\")\n",
      "    last_name_field.send_keys(\"Doe\")\n",
      "@when('I enter \"john.doe@example.com\" in the \"Email Address\" field')\n",
      "def i_enter_email_address(browser):\n",
      "    email_field = browser.find_element(By.XPATH, \"/html/body/form/div[1]/ul/li[3]/div/span/input\")\n",
      "    email_field.send_keys(\"john.doe@example.com\")\n",
      "@when('I enter \"(123) 456-7890\" in the \"Phone Number\" field')\n",
      "def i_enter_phone_number(browser):\n",
      "    phone_number_field = browser.find_element(By.XPATH, \"/html/body/form/div[1]/ul/li[4]/div/span/input\")\n",
      "    phone_number_field.send_keys(\"(123) 456-7890\")\n",
      "@when('I leave the \"Cover Letter\" field empty')\n",
      "def i_leave_cover_letter_empty():\n",
      "    # No action needed as the field should remain empty\n",
      "    pass\n",
      "@when('I click the \"Apply\" button')\n",
      "def i_click_apply_button(browser):\n",
      "    apply_button = WebDriverWait(browser, 10).until(\n",
      "        EC.element_to_be_clickable((By.XPATH, \"/html/body/form/div[1]/ul/li[6]/div/div/button\"))\n",
      "    )\n",
      "    browser.execute_script(\"arguments[0].scrollIntoView(true);\", apply_button)\n",
      "    apply_button.click()\n",
      "@then('I should see an error message for the \"Cover Letter\" field')\n",
      "def i_should_see_error_message(browser):\n",
      "    try:\n",
      "        error_message = browser.find_element(By.XPATH, \"/html/body/form/div[1]/ul/li[5]/div/div/span\")\n",
      "        assert error_message.is_displayed()\n",
      "    except Exception as e:\n",
      "        pytest.fail(f\"Error message not displayed: {e}\")\n",
      "\n",
      "\n"
     ]
    }
   ],
   "source": [
    "SYSTEM_PROMPT = f\"\"\"\n",
    "You are an expert in software testing frameworks and Python code generation. You answer in python markdown only and nothing else, don't include anything after the last backticks. Your task is to:\n",
    "1. Process a test case, existing actions (with their associated xpath) that was ran during the test by an agent, relevant HTML nodes, and the screenshot of the last state of the page.\n",
    "2. Generate an assert statement for the last condition of the test case. THis is the most important, you need to generate one assert statement based on the provided `Then` step. \n",
    "3. Package everything in a pytest-bdd file following best practices. \n",
    "Requirements:\n",
    "- Use descriptive function names and name the scenario appropriately.\n",
    "- Use execute_script to handle potential ElementClickInterceptedException during clicks.\n",
    "- Include fixtures, scenario, Gherkin-style definitions, etc.\n",
    "- Use try-except blocks to catch exceptions and raise pytest.fail for assert condition steps as needed.\n",
    "- Do not generate asserts for 'Given', 'When', or 'And' steps; only generate asserts for 'Then' steps.\n",
    "- Always use provided selenium code that was already executed to find valid selectors for the final pytestfile. \n",
    "- You answer in python code only and nothing else.\n",
    "\"\"\"\n",
    "\n",
    "EXAMPLES = \"\"\"\n",
    "import pytest\n",
    "from selenium import webdriver\n",
    "from selenium.webdriver.common.by import By\n",
    "from selenium.webdriver.support.ui import WebDriverWait\n",
    "from selenium.webdriver.support import expected_conditions as EC\n",
    "from pytest_bdd import scenarios, given, when, then\n",
    "# Constants\n",
    "BASE_URL = 'https://form.jotform.com/241472287797370'\n",
    "# Scenarios\n",
    "scenarios('test_form_submission.feature')\n",
    "# Fixtures\n",
    "@pytest.fixture\n",
    "def browser():\n",
    "    driver = webdriver.Chrome()\n",
    "    driver.implicitly_wait(10)\n",
    "    driver.get(BASE_URL)\n",
    "    yield driver\n",
    "    driver.quit()\n",
    "# Steps\n",
    "@given('I am on the job application page')\n",
    "def i_am_on_the_job_application_page(browser):\n",
    "    pass\n",
    "@when('I enter \"John\" in the \"First Name\" field')\n",
    "def i_enter_first_name(browser):\n",
    "    first_name_field = browser.find_element(By.XPATH, \"/html/body/form/div[1]/ul/li[2]/div/div/span[1]/input\")\n",
    "    first_name_field.send_keys(\"John\")\n",
    "@when('I enter \"Doe\" in the \"Last Name\" field')\n",
    "def i_enter_last_name(browser):\n",
    "    last_name_field = browser.find_element(By.XPATH, \"/html/body/form/div[1]/ul/li[2]/div/div/span[2]/input\")\n",
    "    last_name_field.send_keys(\"Doe\")\n",
    "@when('I enter \"john.doe@example.com\" in the \"Email Address\" field')\n",
    "def i_enter_email_address(browser):\n",
    "    email_field = browser.find_element(By.XPATH, \"/html/body/form/div[1]/ul/li[3]/div/span/input\")\n",
    "    email_field.send_keys(\"john.doe@example.com\")\n",
    "@when('I enter \"(123) 456-7890\" in the \"Phone Number\" field')\n",
    "def i_enter_phone_number(browser):\n",
    "    phone_number_field = browser.find_element(By.XPATH, \"/html/body/form/div[1]/ul/li[4]/div/span/input\")\n",
    "    phone_number_field.send_keys(\"(123) 456-7890\")\n",
    "@when('I leave the \"Cover Letter\" field empty')\n",
    "def i_leave_cover_letter_empty():\n",
    "    # No action needed as the field should remain empty\n",
    "    pass\n",
    "@when('I click the \"Apply\" button')\n",
    "def i_click_apply_button(browser):\n",
    "    apply_button = WebDriverWait(browser, 10).until(\n",
    "        EC.element_to_be_clickable((By.XPATH, \"/html/body/form/div[1]/ul/li[6]/div/div/button\"))\n",
    "    )\n",
    "    browser.execute_script(\"arguments[0].scrollIntoView(true);\", apply_button)\n",
    "    apply_button.click()\n",
    "@then('I should see an error message for the \"Cover Letter\" field')\n",
    "def i_should_see_error_message(browser):\n",
    "    try:\n",
    "        error_message = browser.find_element(By.XPATH, \"/html/body/form/div[1]/ul/li[5]/div/div/span\")\n",
    "        assert error_message.is_displayed()\n",
    "    except Exception as e:\n",
    "        pytest.fail(f\"Error message not displayed: {e}\")\n",
    "\"\"\"\n",
    "\n",
    "\n",
    "\n",
    "PROMPT = f\"\"\"{SYSTEM_PROMPT}\n",
    "\n",
    "Generate a valid pytest-bdd file with the following inputs and examples to guide you:\n",
    "Feature file name: {FEATURE_FILE_NAME}\\n\n",
    "URL: {URL}\\n\n",
    "Full feature to be tested: {GHERKIN}\\n\n",
    "Already executed (instruction + actions):\\n{actions}\\n\n",
    "Assert statement (Then) to test: {assert_statement}\n",
    "Chunk of HTML that may be usefull to generate the assert statement. Generate a general statement that checks for the assert using these nodes: {nodes}\\n\n",
    "Examples:\\n\\n{EXAMPLES}\n",
    "\"\"\"\n",
    "\n",
    "print(PROMPT)"
   ]
  },
  {
   "cell_type": "markdown",
   "metadata": {},
   "source": [
    "### Generate the automated test"
   ]
  },
  {
   "cell_type": "code",
   "execution_count": 15,
   "metadata": {},
   "outputs": [
    {
     "name": "stdout",
     "output_type": "stream",
     "text": [
      "\n",
      "import pytest\n",
      "from selenium import webdriver\n",
      "from selenium.webdriver.common.by import By\n",
      "from selenium.webdriver.support.ui import WebDriverWait\n",
      "from selenium.webdriver.support import expected_conditions as EC\n",
      "from pytest_bdd import scenarios, given, when, then\n",
      "\n",
      "# Constants\n",
      "BASE_URL = 'https://www.amazon.fr/'\n",
      "\n",
      "# Scenarios\n",
      "scenarios('demo.feature')\n",
      "\n",
      "# Fixtures\n",
      "@pytest.fixture\n",
      "def browser():\n",
      "    driver = webdriver.Chrome()\n",
      "    driver.implicitly_wait(10)\n",
      "    driver.get(BASE_URL)\n",
      "    yield driver\n",
      "    driver.quit()\n",
      "\n",
      "# Steps\n",
      "@given('I am on the homepage')\n",
      "def i_am_on_the_homepage(browser):\n",
      "    pass\n",
      "\n",
      "@when('I click \"Accepter\" to accept cookies')\n",
      "def i_click_accept_cookies(browser):\n",
      "    try:\n",
      "        accept_button = WebDriverWait(browser, 10).until(\n",
      "            EC.element_to_be_clickable((By.XPATH, \"/html/body/div/span/form/div[2]/span/span/input\"))\n",
      "        )\n",
      "        browser.execute_script(\"arguments[0].scrollIntoView(true);\", accept_button)\n",
      "        accept_button.click()\n",
      "    except Exception as e:\n",
      "        pytest.fail(f\"Failed to click accept cookies button: {e}\")\n",
      "\n",
      "@when('I enter \"Harry Potter et la Chambre des Secrets\" into the search bar and press Enter')\n",
      "def i_enter_search_query(browser):\n",
      "    try:\n",
      "        search_bar = browser.find_element(By.XPATH, \"/html/body/div/header/div/div/div[2]/div/form/div[3]/div/input\")\n",
      "        search_bar.send_keys(\"Harry Potter et la Chambre des Secrets\")\n",
      "        search_bar.send_keys(u'\\ue007')  # Press Enter key\n",
      "    except Exception as e:\n",
      "        pytest.fail(f\"Failed to enter search query: {e}\")\n",
      "\n",
      "@when('I click on \"Harry Potter et la Chambre des Secrets\" in the search results')\n",
      "def i_click_search_result(browser):\n",
      "    try:\n",
      "        search_result = WebDriverWait(browser, 10).until(\n",
      "            EC.element_to_be_clickable((By.XPATH, \"/html/body/div/div/div/div/div/span/div/div[3]/div/div/span/div/div/div/span/a\"))\n",
      "        )\n",
      "        browser.execute_script(\"arguments[0].scrollIntoView(true);\", search_result)\n",
      "        search_result.click()\n",
      "    except Exception as e:\n",
      "        pytest.fail(f\"Failed to click search result: {e}\")\n",
      "\n",
      "@when('I am on the product details page')\n",
      "def i_am_on_product_details_page(browser):\n",
      "    pass\n",
      "\n",
      "@when('I click on the \"Ajouter au panier\" button')\n",
      "def i_click_add_to_cart(browser):\n",
      "    try:\n",
      "        add_to_cart_button = WebDriverWait(browser, 10).until(\n",
      "            EC.element_to_be_clickable((By.XPATH, \"/html/body/div[2]/div/div[4]/div/div[5]/div[4]/div[4]/div/div/div/div/div/div/div/div/div/form/div/div/div/div/div[4]/div/div[23]/div/span/span/span/input\"))\n",
      "        )\n",
      "        browser.execute_script(\"arguments[0].scrollIntoView(true);\", add_to_cart_button)\n",
      "        add_to_cart_button.click()\n",
      "    except Exception as e:\n",
      "        pytest.fail(f\"Failed to click add to cart button: {e}\")\n",
      "\n",
      "@when('I am taken to a confirmation page')\n",
      "def i_am_taken_to_confirmation_page(browser):\n",
      "    pass\n",
      "\n",
      "@when('I click on \"Aller au panier\"')\n",
      "def i_click_go_to_cart(browser):\n",
      "    try:\n",
      "        go_to_cart_button = WebDriverWait(browser, 10).until(\n",
      "            EC.element_to_be_clickable((By.XPATH, \"/html/body/div/div/div/div/div[2]/div/div[3]/div/div/span/span/a\"))\n",
      "        )\n",
      "        browser.execute_script(\"arguments[0].scrollIntoView(true);\", go_to_cart_button)\n",
      "        go_to_cart_button.click()\n",
      "    except Exception as e:\n",
      "        pytest.fail(f\"Failed to click go to cart button: {e}\")\n",
      "\n",
      "@when('I am taken to the cart page')\n",
      "def i_am_taken_to_cart_page(browser):\n",
      "    pass\n",
      "\n",
      "@when('I remove the product from the cart by clicking on \"Supprimer\"')\n",
      "def i_remove_product_from_cart(browser):\n",
      "    try:\n",
      "        remove_button = WebDriverWait(browser, 10).until(\n",
      "            EC.element_to_be_clickable((By.XPATH, \"/html/body/div/div/div[3]/div[5]/div/div[2]/div/div/form/div[2]/div[3]/div[4]/div/div[2]/div/span[2]/span/input\"))\n",
      "        )\n",
      "        browser.execute_script(\"arguments[0].scrollIntoView(true);\", remove_button)\n",
      "        remove_button.click()\n",
      "    except Exception as e:\n",
      "        pytest.fail(f\"Failed to click remove button: {e}\")\n",
      "\n",
      "@then('the cart should be empty')\n",
      "def the_cart_should_be_empty(browser):\n",
      "    try:\n",
      "        empty_cart_message = WebDriverWait(browser, 10).until(\n",
      "            EC.presence_of_element_located((By.XPATH, \"//h1[contains(text(), 'Votre panier Amazon est vide.')]\"))\n",
      "        )\n",
      "        assert empty_cart_message.is_displayed()\n",
      "    except Exception as e:\n",
      "        pytest.fail(f\"Cart is not empty: {e}\")\n",
      "\n"
     ]
    }
   ],
   "source": [
    "generated_pytest = gpt4o.complete(PROMPT, image_documents=last_page_screenshot).text\n",
    "generated_pytest = clean_output(generated_pytest)\n",
    "print(generated_pytest)"
   ]
  },
  {
   "cell_type": "markdown",
   "metadata": {},
   "source": [
    "### Cleanup and write test to file\n",
    "\n",
    "We'll cleanup and write two generated files to disk: \n",
    "- `.feature` contains the test scenarios written in the Gherkin syntax\n",
    "- `.py` the actual automated test that we'll run with pytest"
   ]
  },
  {
   "cell_type": "code",
   "execution_count": 16,
   "metadata": {},
   "outputs": [
    {
     "name": "stdout",
     "output_type": "stream",
     "text": [
      "WRITING FILE\n"
     ]
    }
   ],
   "source": [
    "import os\n",
    "with open(FEATURE_FILE_NAME, \"w\") as file:\n",
    "        file.write(GHERKIN)\n",
    "        \n",
    "with open(PYTEST_FILE_NAME, \"w\") as file:\n",
    "        print(\"WRITING FILE\")\n",
    "        file.write(generated_pytest)"
   ]
  },
  {
   "cell_type": "markdown",
   "metadata": {},
   "source": [
    "## Run tests\n"
   ]
  },
  {
   "cell_type": "code",
   "execution_count": 17,
   "metadata": {},
   "outputs": [
    {
     "name": "stdout",
     "output_type": "stream",
     "text": [
      "\u001b[1m============================= test session starts ==============================\u001b[0m\n",
      "platform darwin -- Python 3.10.14, pytest-8.2.1, pluggy-1.5.0\n",
      "rootdir: /Users/palmi/work/repos/rework-qa-automation/LaVague\n",
      "configfile: pyproject.toml\n",
      "plugins: anyio-4.3.0, bdd-7.1.2\n",
      "collected 1 item                                                               \u001b[0m\n",
      "\n",
      "demo_test.py \u001b[32m.\u001b[0m\u001b[32m                                                           [100%]\u001b[0m\n",
      "\n",
      "\u001b[32m============================== \u001b[32m\u001b[1m1 passed\u001b[0m\u001b[32m in 33.72s\u001b[0m\u001b[32m ==============================\u001b[0m\n"
     ]
    }
   ],
   "source": [
    "!pytest demo_test.py"
   ]
  },
  {
   "cell_type": "markdown",
   "metadata": {},
   "source": [
    "Notes: \n",
    "- When loading the URL, I sometimes get a mobile version, sometimes a responsive desktop version. It can go both ways: 1st load for agent is the desktop, 2nd run with pytest is the mobile version: this breaks the test. No idea why. Can't reproduce. \n",
    "- gener"
   ]
  }
 ],
 "metadata": {
  "kernelspec": {
   "display_name": "lavague-Oj4z07SL-py3.11",
   "language": "python",
   "name": "python3"
  },
  "language_info": {
   "codemirror_mode": {
    "name": "ipython",
    "version": 3
   },
   "file_extension": ".py",
   "mimetype": "text/x-python",
   "name": "python",
   "nbconvert_exporter": "python",
   "pygments_lexer": "ipython3",
   "version": "3.11.2"
  }
 },
 "nbformat": 4,
 "nbformat_minor": 2
}
