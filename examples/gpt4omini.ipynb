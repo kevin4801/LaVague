{
 "cells": [
  {
   "cell_type": "code",
   "execution_count": null,
   "metadata": {},
   "outputs": [],
   "source": [
    "%load_ext autoreload"
   ]
  },
  {
   "cell_type": "markdown",
   "metadata": {},
   "source": [
    "## Load custom context"
   ]
  },
  {
   "cell_type": "code",
   "execution_count": null,
   "metadata": {},
   "outputs": [],
   "source": [
    "from lavague.core.token_counter import TokenCounter\n",
    "from lavague.contexts.openai import OpenaiContext\n",
    "from lavague.drivers.selenium import SeleniumDriver\n",
    "from lavague.core import WorldModel, ActionEngine\n",
    "from lavague.core.agents import WebAgent\n",
    "\n",
    "# has to be declared first\n",
    "token_counter = TokenCounter()\n",
    "\n",
    "context = OpenaiContext(llm=\"gpt-4o\", mm_llm=\"gpt-4o\", embedding=\"text-embedding-3-large\")\n",
    "\n",
    "# init from context\n",
    "selenium_driver = SeleniumDriver(headless=False)\n",
    "world_model = WorldModel.from_context(context)\n",
    "action_engine = ActionEngine.from_context(context, selenium_driver)\n",
    "\n",
    "# increase the number of retrieved elements\n",
    "action_engine.navigation_engine.retriever.top_k = 10\n",
    "\n",
    "# Create your agent\n",
    "agent = WebAgent(world_model, action_engine, token_counter=token_counter)\n",
    "\n",
    "\n",
    "print(\"MM_LLM:\", agent.world_model.mm_llm)\n",
    "print(\"LLM:\", agent.action_engine.navigation_engine.llm)\n",
    "\n",
    "agent.get(\"https://amazon.com/\")"
   ]
  },
  {
   "cell_type": "code",
   "execution_count": null,
   "metadata": {},
   "outputs": [],
   "source": [
    "agent.run(\"Add 1984 to my cart\", log_to_db=True)\n",
    "\n",
    "logs_df = agent.logger.return_pandas()"
   ]
  },
  {
   "cell_type": "code",
   "execution_count": null,
   "metadata": {},
   "outputs": [],
   "source": [
    "total_cost = logs_df[\"total_step_cost\"].sum()\n",
    "total_tokens = logs_df[\"total_step_tokens\"].sum()\n",
    "total_steps = len(logs_df)\n",
    "\n",
    "print(\"MM_LLM:\", agent.world_model.mm_llm)\n",
    "print(\"LLM:\", agent.action_engine.navigation_engine.llm)\n",
    "print(\"Total steps:\", total_steps)\n",
    "print(f\"Total tokens: {total_tokens}\")\n",
    "print(f\"Total cost: ${round(total_cost, 3)}\")"
   ]
  }
 ],
 "metadata": {
  "kernelspec": {
   "display_name": "lavague-uq8sFJgi-py3.11",
   "language": "python",
   "name": "python3"
  },
  "language_info": {
   "codemirror_mode": {
    "name": "ipython",
    "version": 3
   },
   "file_extension": ".py",
   "mimetype": "text/x-python",
   "name": "python",
   "nbconvert_exporter": "python",
   "pygments_lexer": "ipython3",
   "version": "3.11.2"
  }
 },
 "nbformat": 4,
 "nbformat_minor": 2
}
