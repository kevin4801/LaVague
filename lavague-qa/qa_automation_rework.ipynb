{
 "cells": [
  {
   "cell_type": "markdown",
   "metadata": {},
   "source": [
    "# Using LaVague for QA Automation\n",
    "\n",
    "In this notebook, we'll show how LaVague can be used to automatically generate pytest files from a Gherkin test definition.\n",
    "\n",
    "We will use the `TestGenerator` class that powers the `lavague-qa` CLI you can use to generate your tests fast. \n",
    "\n",
    "We will use LaVague to autonomously run the test and record xpath and actions. We'll then use an LLM to generate assert statements and the final reusable test file. "
   ]
  },
  {
   "cell_type": "code",
   "execution_count": 16,
   "metadata": {},
   "outputs": [
    {
     "name": "stdout",
     "output_type": "stream",
     "text": [
      "Generating tests on http://google.com/ for ./features/demo_dev.feature Feature: Google Login\n",
      "\n",
      "  Scenario: User logs in successfully\n",
      "    Given the user is on the homepage\n",
      "    When the user Accept cookies\n",
      "    Then the seach bar should be visible\n",
      "\n"
     ]
    }
   ],
   "source": [
    "from lavague.qa.generator import TestGenerator\n",
    "import os\n",
    "\n",
    "example_features = {\n",
    "    \"demo_hsbc\": {\n",
    "        \"path\": \"./features/demo_hsbc.feature\",\n",
    "        \"url\": \"http://hsbc.fr/\"\n",
    "    },\n",
    "    \"demo_dev\": {\n",
    "        \"path\": \"./features/demo_dev.feature\",\n",
    "        \"url\": \"http://google.com/\"\n",
    "    },\n",
    "    \"demo_laposte\": {\n",
    "        \"path\": \"./features/demo_laposte.feature\",\n",
    "        \"url\": \"http://laposte.fr/\"\n",
    "    },\n",
    "    \"demo_amazon\": {\n",
    "        \"path\": \"./features/demo_amazon.feature\",\n",
    "        \"url\": \"http://amazon.com/\"\n",
    "    },\n",
    "    \"demo_wikipedia\": {\n",
    "        \"path\": \"./features/demo_wikipedia.feature\",\n",
    "        \"url\": \"http://en.wikipedia.org\"\n",
    "    }\n",
    "}\n",
    "\n",
    "feature = example_features[\"demo_dev\"]\n",
    "\n",
    "generator = TestGenerator(feature[\"url\"], feature[\"path\"], headless=False, log_to_db=True)\n",
    "\n"
   ]
  },
  {
   "cell_type": "code",
   "execution_count": 17,
   "metadata": {},
   "outputs": [
    {
     "name": "stdout",
     "output_type": "stream",
     "text": [
      "◜ Running agent... (0:00:01.88) "
     ]
    },
    {
     "name": "stderr",
     "output_type": "stream",
     "text": [
      "2024-07-31 12:26:52,880 - INFO - Screenshot folder cleared\n"
     ]
    },
    {
     "name": "stdout",
     "output_type": "stream",
     "text": [
      "◠ Running agent... (0:00:10.77) "
     ]
    },
    {
     "name": "stderr",
     "output_type": "stream",
     "text": [
      "2024-07-31 12:27:01,729 - INFO - Thoughts:\n",
      "- The current screenshot shows the Google login page with a cookie consent prompt.\n",
      "- The first step in the scenario is to accept cookies.\n",
      "- The objective is to ensure the user accepts cookies to proceed with the login process.\n",
      "- The next step should involve clicking on the 'Accept all' button to accept cookies.\n",
      "\n",
      "Next engine: Navigation Engine\n",
      "Instruction: Click on the 'Accept all' button.\n"
     ]
    },
    {
     "name": "stdout",
     "output_type": "stream",
     "text": [
      "◞ Running agent... (0:00:25.74) "
     ]
    },
    {
     "name": "stderr",
     "output_type": "stream",
     "text": [
      "2024-07-31 12:27:16,718 - INFO - Thoughts:\n",
      "- The current screenshot shows the Google homepage.\n",
      "- The objective is to ensure the search bar is visible after accepting cookies.\n",
      "- The previous instruction was to click on the 'Accept all' button, which seems to have been successful as the search bar is visible.\n",
      "- The next step is to confirm that the search bar is indeed visible.\n",
      "\n",
      "Next engine: COMPLETE\n",
      "Instruction: The search bar is visible on the Google homepage.\n",
      "2024-07-31 12:27:16,719 - INFO - Objective reached. Stopping...\n"
     ]
    },
    {
     "name": "stdout",
     "output_type": "stream",
     "text": [
      "Connected to SQLite\n",
      "Table created or altered successfully\n",
      "◝ Running agent... (0:00:26.27) Log insert complete\n",
      "                                \r"
     ]
    },
    {
     "data": {
      "text/html": [
       "<div>\n",
       "<style scoped>\n",
       "    .dataframe tbody tr th:only-of-type {\n",
       "        vertical-align: middle;\n",
       "    }\n",
       "\n",
       "    .dataframe tbody tr th {\n",
       "        vertical-align: top;\n",
       "    }\n",
       "\n",
       "    .dataframe thead th {\n",
       "        text-align: right;\n",
       "    }\n",
       "</style>\n",
       "<table border=\"1\" class=\"dataframe\">\n",
       "  <thead>\n",
       "    <tr style=\"text-align: right;\">\n",
       "      <th></th>\n",
       "      <th>current_state</th>\n",
       "      <th>past</th>\n",
       "      <th>world_model_prompt</th>\n",
       "      <th>world_model_output</th>\n",
       "      <th>world_model_inference_time</th>\n",
       "      <th>screenshots</th>\n",
       "      <th>engine</th>\n",
       "      <th>instruction</th>\n",
       "      <th>engine_log</th>\n",
       "      <th>success</th>\n",
       "      <th>output</th>\n",
       "      <th>code</th>\n",
       "      <th>html</th>\n",
       "      <th>screenshots_path</th>\n",
       "      <th>url</th>\n",
       "      <th>date</th>\n",
       "      <th>tab_info</th>\n",
       "      <th>run_id</th>\n",
       "      <th>step</th>\n",
       "    </tr>\n",
       "  </thead>\n",
       "  <tbody>\n",
       "    <tr>\n",
       "      <th>0</th>\n",
       "      <td>{'external_observations': {'vision': '[SCREENS...</td>\n",
       "      <td>{'previous_instructions': '[NONE]', 'last_engi...</td>\n",
       "      <td>\\nYou are an AI system specialized in high lev...</td>\n",
       "      <td>Thoughts:\\n- The current screenshot shows the ...</td>\n",
       "      <td>4.914179</td>\n",
       "      <td>[&lt;PIL.PngImagePlugin.PngImageFile image mode=R...</td>\n",
       "      <td>Navigation Engine</td>\n",
       "      <td>Click on the 'Accept all' button.</td>\n",
       "      <td>[{'navigation_engine_input': 'Click on the 'Ac...</td>\n",
       "      <td>True</td>\n",
       "      <td>NaN</td>\n",
       "      <td># Let's think step by step\\n# First, we notice...</td>\n",
       "      <td>&lt;html itemscope=\"\" itemtype=\"http://schema.org...</td>\n",
       "      <td>screenshots/597581c21f3a2ce1556ce3b169c9c11a</td>\n",
       "      <td>https://www.google.com/</td>\n",
       "      <td>2024-07-31T12:26:56.791251</td>\n",
       "      <td>Tabs opened:\\n0 - [CURRENT] Google\\n1 -</td>\n",
       "      <td>698777ca-4760-430f-b3c5-290e44bf7d58</td>\n",
       "      <td>0</td>\n",
       "    </tr>\n",
       "    <tr>\n",
       "      <th>1</th>\n",
       "      <td>{'external_observations': {'vision': '[SCREENS...</td>\n",
       "      <td>{'previous_instructions': '\n",
       "- Click on the 'Ac...</td>\n",
       "      <td>\\nYou are an AI system specialized in high lev...</td>\n",
       "      <td>Thoughts:\\n- The current screenshot shows the ...</td>\n",
       "      <td>5.016392</td>\n",
       "      <td>[&lt;PIL.PngImagePlugin.PngImageFile image mode=R...</td>\n",
       "      <td>NaN</td>\n",
       "      <td>NaN</td>\n",
       "      <td>NaN</td>\n",
       "      <td>NaN</td>\n",
       "      <td>NaN</td>\n",
       "      <td>NaN</td>\n",
       "      <td>&lt;html itemscope=\"\" itemtype=\"http://schema.org...</td>\n",
       "      <td>screenshots/597581c21f3a2ce1556ce3b169c9c11a</td>\n",
       "      <td>https://www.google.com/</td>\n",
       "      <td>2024-07-31T12:27:11.693203</td>\n",
       "      <td>Tabs opened:\\n0 - [CURRENT] Google</td>\n",
       "      <td>698777ca-4760-430f-b3c5-290e44bf7d58</td>\n",
       "      <td>1</td>\n",
       "    </tr>\n",
       "  </tbody>\n",
       "</table>\n",
       "</div>"
      ],
      "text/plain": [
       "                                       current_state  \\\n",
       "0  {'external_observations': {'vision': '[SCREENS...   \n",
       "1  {'external_observations': {'vision': '[SCREENS...   \n",
       "\n",
       "                                                past  \\\n",
       "0  {'previous_instructions': '[NONE]', 'last_engi...   \n",
       "1  {'previous_instructions': '\n",
       "- Click on the 'Ac...   \n",
       "\n",
       "                                  world_model_prompt  \\\n",
       "0  \\nYou are an AI system specialized in high lev...   \n",
       "1  \\nYou are an AI system specialized in high lev...   \n",
       "\n",
       "                                  world_model_output  \\\n",
       "0  Thoughts:\\n- The current screenshot shows the ...   \n",
       "1  Thoughts:\\n- The current screenshot shows the ...   \n",
       "\n",
       "   world_model_inference_time  \\\n",
       "0                    4.914179   \n",
       "1                    5.016392   \n",
       "\n",
       "                                         screenshots             engine  \\\n",
       "0  [<PIL.PngImagePlugin.PngImageFile image mode=R...  Navigation Engine   \n",
       "1  [<PIL.PngImagePlugin.PngImageFile image mode=R...                NaN   \n",
       "\n",
       "                         instruction  \\\n",
       "0  Click on the 'Accept all' button.   \n",
       "1                                NaN   \n",
       "\n",
       "                                          engine_log success  output  \\\n",
       "0  [{'navigation_engine_input': 'Click on the 'Ac...    True     NaN   \n",
       "1                                                NaN     NaN     NaN   \n",
       "\n",
       "                                                code  \\\n",
       "0  # Let's think step by step\\n# First, we notice...   \n",
       "1                                                NaN   \n",
       "\n",
       "                                                html  \\\n",
       "0  <html itemscope=\"\" itemtype=\"http://schema.org...   \n",
       "1  <html itemscope=\"\" itemtype=\"http://schema.org...   \n",
       "\n",
       "                               screenshots_path                      url  \\\n",
       "0  screenshots/597581c21f3a2ce1556ce3b169c9c11a  https://www.google.com/   \n",
       "1  screenshots/597581c21f3a2ce1556ce3b169c9c11a  https://www.google.com/   \n",
       "\n",
       "                         date                                  tab_info  \\\n",
       "0  2024-07-31T12:26:56.791251  Tabs opened:\\n0 - [CURRENT] Google\\n1 -    \n",
       "1  2024-07-31T12:27:11.693203        Tabs opened:\\n0 - [CURRENT] Google   \n",
       "\n",
       "                                 run_id  step  \n",
       "0  698777ca-4760-430f-b3c5-290e44bf7d58     0  \n",
       "1  698777ca-4760-430f-b3c5-290e44bf7d58     1  "
      ]
     },
     "execution_count": 17,
     "metadata": {},
     "output_type": "execute_result"
    }
   ],
   "source": [
    "logs, nodes = generator.run_lavague_agent()\n",
    "logs.head()"
   ]
  },
  {
   "cell_type": "code",
   "execution_count": 19,
   "metadata": {},
   "outputs": [
    {
     "name": "stdout",
     "output_type": "stream",
     "text": [
      "Click on the 'Accept all' button. \n",
      "- actions:\n",
      "    - action:\n",
      "        args:\n",
      "            xpath: \"/html/body/div[2]/div[2]/div[3]/span/div/div/div/div[3]/div/button[2]\"\n",
      "        name: \"click\"\n",
      "\n",
      " \n"
     ]
    }
   ],
   "source": [
    "actions, screenshot = generator.process_logs(logs)\n",
    "print(actions)"
   ]
  },
  {
   "cell_type": "code",
   "execution_count": 21,
   "metadata": {},
   "outputs": [
    {
     "name": "stdout",
     "output_type": "stream",
     "text": [
      "                     \n",
      "You are an expert in software testing frameworks and Python code generation. You answer in python markdown only and nothing else.\n",
      "Your only goal is to generate pytest-bdd files based on the provided Gherkin feature, a collection of instructions and actions, and a specific assert statement to test.\n",
      "You will use the provided information to generate a valid assert statement. \n",
      "- Name the scenario appropriately.\n",
      "- Always use time.sleep(3) if waiting is required.\n",
      "- Include all necessary imports and fixtures.\n",
      "- Use provided actions to find valid XPath selectors for the final pytest file. \n",
      "- You answer in python code only and nothing else.\n",
      "\n",
      "I will provide an example below:\n",
      "----------\n",
      "Feature file name: example.feature\n",
      "\n",
      "URL: https://www.example.com\n",
      "\n",
      "Gherkin of the feature to be tested: \n",
      "\n",
      "Feature: E-commerce Website Interaction\n",
      "\n",
      "  Scenario: Browse products and checkout\n",
      "    Given I am on the example website\n",
      "    When I navigate to the product catalog\n",
      "    And I filter products by category\n",
      "    And I sort products by price\n",
      "    And I add a random product to the cart\n",
      "    And I proceed to checkout\n",
      "    Then the cart total should be correct\n",
      "\n",
      "Assert statement Then the cart total should be correct\n",
      "\n",
      "List of already executed instructions and actions:\n",
      "- instruction: Navigate to the product catalog page\n",
      "  actions:\n",
      "    - action:\n",
      "        name: \"click\"\n",
      "        args:\n",
      "          xpath: \"/html/body/div[1]/header/nav/ul/li[3]/a\"\n",
      "          value: \"\"\n",
      "\n",
      "- instruction: Select a category from the dropdown filter\n",
      "  actions:\n",
      "    - action:\n",
      "        name: \"click\"\n",
      "        args:\n",
      "          xpath: \"/html/body/div[2]/main/div/div[1]/aside/div[3]/select/option[3]\"\n",
      "          value: \"\"\n",
      "\n",
      "- instruction: Sort products by price\n",
      "  actions:\n",
      "    - action:\n",
      "        name: \"click\"\n",
      "        args:\n",
      "          xpath: \"/html/body/div[2]/main/div/div[2]/div[1]/div/button[2]\"\n",
      "          value: \"\"\n",
      "\n",
      "- instruction: Add a random product to the cart\n",
      "  actions:\n",
      "    - action:\n",
      "        name: \"click\"\n",
      "        args:\n",
      "          xpath: \"/html/body/div[2]/main/div/div[2]/ul/li[5]/div/button[@data-testid='add-to-cart']\"\n",
      "          value: \"\"\n",
      "\n",
      "- instruction: Proceed to checkout\n",
      "  actions:\n",
      "    - action:\n",
      "        name: \"click\"\n",
      "        args:\n",
      "          xpath: \"/html/body/div[1]/header/div[2]/div/div/a\"\n",
      "          value: \"\"\n",
      "          \n",
      "          \n",
      "Resulting pytest code: \n",
      "import pytest\n",
      "from pytest_bdd import scenarios, given, when, then, parsers\n",
      "from selenium import webdriver\n",
      "from selenium.webdriver.common.by import By\n",
      "from selenium.webdriver.support.ui import WebDriverWait\n",
      "from selenium.webdriver.support import expected_conditions as EC\n",
      "from selenium.common.exceptions import ElementClickInterceptedException\n",
      "import time\n",
      "import random\n",
      "\n",
      "# Constants\n",
      "BASE_URL = 'https://example.com'\n",
      "\n",
      "# Scenarios\n",
      "scenarios('complex_example.feature')\n",
      "\n",
      "# Fixtures\n",
      "@pytest.fixture\n",
      "def browser():\n",
      "    driver = webdriver.Chrome()\n",
      "    driver.implicitly_wait(10)\n",
      "    yield driver\n",
      "    driver.quit()\n",
      "\n",
      "# Steps\n",
      "@given('I am on the example website')\n",
      "def go_to_homepage(browser):\n",
      "    browser.get(BASE_URL)\n",
      "\n",
      "@when('I navigate to the product catalog')\n",
      "def navigate_to_catalog(browser):\n",
      "    catalog_link = WebDriverWait(browser, 10).until(\n",
      "        EC.element_to_be_clickable((By.XPATH, \"/html/body/div[1]/header/nav/ul/li[3]/a\"))\n",
      "    )\n",
      "    try:\n",
      "        browser.execute_script(\"arguments[0].click();\", catalog_link)\n",
      "    except ElementClickInterceptedException:\n",
      "        pytest.fail(\"Failed to navigate to the product catalog\")\n",
      "\n",
      "@when('I filter products by category')\n",
      "def filter_products(browser):\n",
      "    category_dropdown = WebDriverWait(browser, 10).until(\n",
      "        EC.presence_of_element_located((By.XPATH, \"/html/body/div[2]/main/div/div[1]/aside/div[3]/select\"))\n",
      "    )\n",
      "    options = category_dropdown.find_elements(By.TAG_NAME, \"option\")\n",
      "    random_option = random.choice(options[1:])  # Exclude the first option if it's a placeholder\n",
      "    random_option.click()\n",
      "\n",
      "@when('I sort products by price')\n",
      "def sort_products(browser):\n",
      "    sort_button = WebDriverWait(browser, 10).until(\n",
      "        EC.element_to_be_clickable((By.XPATH, \"/html/body/div[2]/main/div/div[2]/div[1]/div/button[2]\"))\n",
      "    )\n",
      "    try:\n",
      "        browser.execute_script(\"arguments[0].click();\", sort_button)\n",
      "    except ElementClickInterceptedException:\n",
      "        pytest.fail(\"Failed to sort products\")\n",
      "\n",
      "@when('I add a random product to the cart')\n",
      "def add_to_cart(browser):\n",
      "    products = browser.find_elements(By.XPATH, \"/html/body/div[2]/main/div/div[2]/ul/li\")\n",
      "    random_product = random.choice(products)\n",
      "    add_to_cart_button = random_product.find_element(By.XPATH, \".//button[@data-testid='add-to-cart']\")\n",
      "    try:\n",
      "        browser.execute_script(\"arguments[0].click();\", add_to_cart_button)\n",
      "    except ElementClickInterceptedException:\n",
      "        pytest.fail(\"Failed to add product to cart\")\n",
      "\n",
      "@when('I proceed to checkout')\n",
      "def proceed_to_checkout(browser):\n",
      "    checkout_button = WebDriverWait(browser, 10).until(\n",
      "        EC.element_to_be_clickable((By.XPATH, \"/html/body/div[1]/header/div[2]/div/div/a\"))\n",
      "    )\n",
      "    try:\n",
      "        browser.execute_script(\"arguments[0].click();\", checkout_button)\n",
      "    except ElementClickInterceptedException:\n",
      "        pytest.fail(\"Failed to proceed to checkout\")\n",
      "\n",
      "@then('I should see the checkout form')\n",
      "def verify_checkout_form(browser):\n",
      "    try:\n",
      "        WebDriverWait(browser, 10).until(\n",
      "            EC.presence_of_element_located((By.ID, \"checkout-form\"))\n",
      "        )\n",
      "    except Exception as e:\n",
      "        pytest.fail(f\"Checkout form not found: {str(e)}\")\n",
      "\n",
      "@then('the cart total should be correct')\n",
      "def verify_cart_total(browser):\n",
      "    try:\n",
      "        total_element = WebDriverWait(browser, 10).until(\n",
      "            EC.presence_of_element_located((By.ID, \"cart-total\"))\n",
      "        )\n",
      "        total_value = float(total_element.text.replace('$', ''))\n",
      "        assert total_value > 0, \"Cart total should be greater than zero\"\n",
      "    except Exception as e:\n",
      "        pytest.fail(f\"Failed to verify cart total: {str(e)}\")\n",
      "\n",
      "@then('the product list should be visible')\n",
      "def verify_product_list(browser):\n",
      "    try:\n",
      "        WebDriverWait(browser, 10).until(\n",
      "            EC.presence_of_element_located((By.CLASS_NAME, \"product-list\"))\n",
      "        )\n",
      "    except Exception as e:\n",
      "        pytest.fail(f\"Product list not found: {str(e)}\")\n",
      "\n",
      "@then('the category filter should be available')\n",
      "def verify_category_filter(browser):\n",
      "    try:\n",
      "        filter_element = WebDriverWait(browser, 10).until(\n",
      "            EC.presence_of_element_located((By.ID, \"category-filter\"))\n",
      "        )\n",
      "        assert filter_element.is_enabled(), \"Category filter should be enabled\"\n",
      "    except Exception as e:\n",
      "        pytest.fail(f\"Category filter not found or not enabled: {str(e)}\")\n",
      "\n",
      "@then('the \"Add to Cart\" button should be present for each product')\n",
      "def verify_add_to_cart_buttons(browser):\n",
      "    try:\n",
      "        add_to_cart_buttons = WebDriverWait(browser, 10).until(\n",
      "            EC.presence_of_all_elements_located((By.CSS_SELECTOR, \"button[data-testid='add-to-cart']\"))\n",
      "        )\n",
      "        assert len(add_to_cart_buttons) > 0, \"No 'Add to Cart' buttons found\"\n",
      "    except Exception as e:\n",
      "        pytest.fail(f\"Failed to verify 'Add to Cart' buttons: {str(e)}\")\n",
      "\n",
      "----------\n",
      "Given this information, generate a valid pytest-bdd file with the following inputs:\n",
      "Feature file name: demo_dev.feature\n",
      "\n",
      "URL: http://google.com/\n",
      "\n",
      "Gherkin of the feature to be tested:\n",
      "Feature: Google Login\n",
      "\n",
      "  Scenario: User logs in successfully\n",
      "    Given the user is on the homepage\n",
      "    When the user Accept cookies\n",
      "    Then the seach bar should be visible\n",
      "\n",
      "\n",
      "Assert statement: ['Then the seach bar should be visible']\n",
      "\n",
      "Potentially relevant nodes that you may use to help you generate the assert code: ['<div class=\"permission-bar-gradient\"></div></div></div></div></dialog><form action=\"/search\" autocomplete=\"off\" method=\"GET\" role=\"search\"> <div jsmodel=\"b5W85 vNzKHd\" jsdata=\"MuIEvd;_;BM6sJk\"> <div jscontroller=\"cnjECf\" jsmodel=\"VYkzu kjkykd EPRt9d LM7wx Qlyryb EtCx8b Ip3Erc L97mud          \" class=\"A8SBwf\" data-alt=\"false\" data-biboe=\"false\" data-efaql=\"false\" data-hp=\"true\" jsdata=\"LVplcb;_;\" jsaction=\"lX6RWd:w3Wsmc;ocDSvd:duwfG;XmGRxb:mVw6nb;DkpM0b:d3sQLd;IQOavd:dFyQEf;XzZZPe:jI3wzf;Aghsf:AVsnlb;iHd9U:Q7Cnrc;f5hEHe:G0jgYd;vmxUb:j3bJnb;XBqW7:ihYaWc;nTzfpf:YPRawb;R2c5O:LuRugf;qiCkJd:ANdidc;Q3vWPd:FtWxqb;htNNz:SNIJTd;NOg9L:HLgh3;uGoIkd:epUokb;zLdLw:eaGBS;H9muVd:J4e6lb;djyPCf:nMeUJf;hBEIVb:nUZ9le;rcuQ6b:npT2md\"><style>.A8SBwf,.IormK{width:640px;}.A8SBwf{margin:0 auto;width:auto;max-width:584px;padding-top:6px;position:relative}.RNNXgb{display:flex;z-index:3;position:relative;min-height:44px;background:#fff;border:1px solid #dfe1e5;box-shadow:none;border-radius:24px;margin:0 auto;width:638px;width:auto;max-width:584px}.emcav .RNNXgb,.BgPPrc .RNNXgb{border-bottom-left-radius:0;border-bottom-right-radius:0;box-shadow:0 1px 6px rgba(32,33,36,.28);border-color:transparent;}.emcav.emcat .RNNXgb{border-bottom-left-radius:24px;border-bottom-right-radius:24px}.RNNXgb:hover,.sbfc .RNNXgb{background:#fff;box-shadow:0 1px 6px rgba(32,33,36,.28);border-color:transparent}.SDkEP{flex:1;display:flex;padding:0 8px 0 0;}.FPdoLc{padding-top:18px}.emcav.A8SBwf.pD4qTd{z-index:989}.iblpc{display:flex;align-items:center;padding-right:13px;padding-left:14px;height:46px}.M8H8pb{position:absolute;top:0;left:0;right:0;padding:inherit;width:inherit}</style><div jsname=\"RNNXgb\" class=\"RNNXgb\"><div class=\"SDkEP\"><div jsname=\"uFMOof\" class=\"iblpc\"><style>.CcAdNb{margin:auto}.QCzoEc{margin-top:3px;color:#9aa0a6}</style><div class=\"CcAdNb\"><span class=\"QCzoEc z1asCe MZy1Rb\" style=\"height:20px;line-height:20px;width:20px\"><svg focusable=\"false\" xmlns=\"http://www.w3.org/2000/svg\" viewBox=\"0 0 24 24\"><path d=\"M15.5 14h-.79l-.28-.27A6.471 6.471 0 0 0 16 9.5 6.5 6.5 0 1 0 9.5 16c1.61 0 3.09-.59 4.23-1.57l.27.28v.79l5 4.99L20.49 19l-4.99-5zm-6 0C7.01 14 5 11.99 5 9.5S7.01 5 9.5 5 14 7.01 14 9.5 11.99 14 9.5 14z\"></path></svg></span></div></div><div jscontroller=\"vZr2rb\" jsname=\"gLFyf\" class=\"a4bIc\" data-hpmde=\"false\" data-mnr=\"10\" jsaction=\"h5M12e;input:d3sQLd;blur:jI3wzf\"><style>.gLFyf,.ql1tMb,.YacQv{line-height:34px;font-size:16px;flex:100%;}textarea.gLFyf,.ql1tMb,.YacQv{font-family:Arial,sans-serif;line-height:22px;border-bottom:8px solid transparent;padding-top:11px;overflow-x:hidden}textarea.gLFyf{}.sbfc textarea.gLFyf{white-space:pre-line;overflow-y:auto}.gLFyf{resize:none;background-color:transparent;border:none;margin:0;padding:0;color:rgba(0,0,0,.87);word-wrap:break-word;outline:none;display:flex;-webkit-tap-highlight-color:transparent}.a4bIc{display:flex;flex-wrap:wrap;flex:1;}.YacQv{color:transparent;white-space:pre;position:absolute;pointer-events:none}.YacQv span{text-decoration:#b3261e dotted underline}</style><div jsname=\"vdLsw\" class=\"YacQv\"></div><textarea class=\"gLFyf\" aria-controls=\"Alh6id\" aria-owns=\"Alh6id\" autofocus=\"\" title=\"Search\" value=\"\" jsaction=\"paste:puy29d;\" aria-label=\"Search\" aria-autocomplete=\"both\" aria-expanded=\"false\" aria-haspopup=\"false\" autocapitalize=\"off\" autocomplete=\"off\" autocorrect=\"off\" id=\"APjFqb\" maxlength=\"2048\" name=\"q\" role=\"combobox\" rows=\"1\" spellcheck=\"false\" data-ved=\"0ahUKEwjH05fDiNGHAxWNVaQEHXkkPLkQ39UDCAU\"></textarea></div>', '<div class=\"spchc\" id=\"spchc\"><div class=\"inner-container\"><div class=\"button-container\"><style>.LgbsSe{background-color:#fff;border:1px solid #f8f9fa;border-radius:100%;bottom:0;box-shadow:0 2px 5px rgba(0,0,0,.1);cursor:pointer;display:inline-block;opacity:0;pointer-events:none;position:absolute;right:0;transition:background-color 0.218s,border 0.218s,box-shadow 0.218s;transition-delay:0;position:absolute;opacity:0;left:0;top:0}.s2fp .LgbsSe{opacity:1;pointer-events:auto;transform:scale(1);}.s2ra .LgbsSe{background-color:#ea4335;border:0;box-shadow:none}.r8s4j{background-color:#dadce0;border-radius:100%;display:inline-block;opacity:1;pointer-events:none;position:absolute;transform:scale(.01);transition:opacity 0.218s;height:301px;left:-69px;top:-69px;width:301px;}.button-container{pointer-events:none;position:relative;transition:transform 0.218s,opacity 0.218s ease-in;transform:scale(.1);height:165px;width:165px;right:-70px;top:-70px;float:right;}.s2fp .button-container{transform:scale(1)}.s2ra .LgbsSe:active{background-color:#c5221f}.LgbsSe:active{background-color:#f8f9fa}</style><span class=\"r8s4j\" id=\"spchl\"></span><span class=\"LgbsSe\" id=\"spchb\"><div class=\"microphone\"><style>.microphone{height:87px;pointer-events:none;position:absolute;width:42px;top:47px;transform:scale(1);left:43px;}.receiver{background-color:#999;border-radius:30px;height:46px;left:25px;pointer-events:none;position:absolute;width:24px}.wrapper{bottom:0;height:53px;left:11px;overflow:hidden;pointer-events:none;position:absolute;width:52px}.stem{background-color:#999;bottom:14px;height:14px;left:22px;pointer-events:none;position:absolute;width:9px;z-index:1}.shell{border:7px solid #999;border-radius:28px;bottom:27px;height:57px;pointer-events:none;position:absolute;width:38px;z-index:0;left:0px}.s2ml .receiver,.s2ml .stem{background-color:#f44}.s2ml .shell{border-color:#f44}.s2ra .receiver,.s2ra .stem{background-color:#fff}.s2ra .shell{border-color:#fff}</style><span class=\"receiver\"></span><div class=\"wrapper\"><span class=\"stem\"></span><span class=\"shell\"></span></div></div></span></div><div class=\"text-container\"><style>.text-container{pointer-events:none;position:absolute;}.spcht{font-weight:normal;line-height:1.2;opacity:0;pointer-events:none;position:absolute;text-align:left;-webkit-font-smoothing:antialiased;transition:opacity .1s ease-in,margin-left .5s ease-in,top 0s linear 0.218s;left:-44px;top:-.2em;margin-left:44px;font-size:32px;width:460px;}.s2fp .spcht{margin-left:0;opacity:1;transition:opacity .5s ease-out,margin-left .5s ease-out}.spchta{color:var(--JKqx2);cursor:pointer;font-size:18px;font-weight:500;pointer-events:auto;text-decoration:underline}.spch-2l.spcht,.spch-3l.spcht,.spch-4l.spcht{transition:top 0.218s ease-out}.spch-2l.spcht{top:-.6em}.spch-3l.spcht{top:-1.3em}.spch-4l.spcht{top:-1.7em}.s2fp .spch-5l.spcht{top:-2.5em;}</style><span class=\"spcht\" style=\"color:#70757a\" id=\"spchi\"></span><span class=\"spcht\" style=\"color:#000\" id=\"spchf\"></span></div><div class=\"google-logo\"></div></div><div class=\"permission-bar\"><style>.permission-bar{margin-top:-100px;opacity:0;pointer-events:none;position:absolute;width:500px;transition:opacity 0.218s ease-in,margin-top .4s ease-in}.s2wfp .permission-bar{margin-top:-300px;opacity:1;transition:opacity .5s ease-out 0.218s,margin-top 0.218s ease-out 0.218s}.permission-bar-gradient{box-shadow:0 1px 0px #4285f4;height:80px;left:0;margin:0;opacity:0;pointer-events:none;position:fixed;right:0;top:-80px;transition:opacity 0.218s,box-shadow 0.218s}.s2wfp .permission-bar-gradient{box-shadow:0 1px 80px #4285f4;opacity:1;pointer-events:none;animation:allow-alert .75s 0 infinite;animation-direction:alternate;animation-timing-function:ease-out;transition:opacity 0.218s,box-shadow 0.218s}@-webkit-keyframes allow-alert {from{opacity:1}to{opacity:.35}}</style><div class=\"permission-bar-gradient\"></div></div></div></div></dialog><form action=\"/search\" autocomplete=\"off\" method=\"GET\" role=\"search\">', '<div class=\"fM33ce dRYYxd\"><style>.dRYYxd{display:flex;flex:0 0 auto;align-items:stretch;flex-direction:row;height:44px}</style> <style>.BKRPef{background:transparent;align-items:center;flex:1 0 auto;flex-direction:row;display:flex;cursor:pointer}.vOY7J{background:transparent;border:0;align-items:center;flex:1 0 auto;cursor:pointer;display:none;height:100%;line-height:44px;outline:none;padding:0 12px}.M2vV3{display:flex}.ExCKkf{height:100%;color:var(--IXoxUe);vertical-align:middle;outline:none}</style> <style>.BKRPef{padding-right:4px}.ACRAdd{border-left:1px solid #dadce0;height:65%}.ACRAdd{display:none}.ACRAdd.M2vV3{display:block}</style> <div jscontroller=\"PymCCe\" jsname=\"RP0xob\" class=\"BKRPef\"> <div class=\"vOY7J\" tabindex=\"0\" jsname=\"pkjasb\" aria-label=\"Clear\" role=\"button\" jsaction=\"AVsnlb;rcuQ6b:npT2md\" data-ved=\"0ahUKEwjH05fDiNGHAxWNVaQEHXkkPLkQ05YFCAY\">  <span jsname=\"itVqKe\" class=\"ExCKkf z1asCe rzyADb\"><svg focusable=\"false\" xmlns=\"http://www.w3.org/2000/svg\" viewBox=\"0 0 24 24\"><path d=\"M19 6.41L17.59 5 12 10.59 6.41 5 5 6.41 10.59 12 5 17.59 6.41 19 12 13.41 17.59 19 19 17.59 13.41 12z\"></path></svg></span>   </div> <span jsname=\"s1VaRe\" class=\"ACRAdd\"></span> </div> <style>.XDyW0e{flex:1 0 auto;display:flex;cursor:pointer;align-items:center;border:0;background:transparent;outline:none;padding:0 8px;width:24px;line-height:44px}.goxjub{height:24px;width:24px;vertical-align:middle}</style><div jscontroller=\"unV4T\" jsname=\"F7uqIe\" class=\"XDyW0e\" aria-label=\"Search by voice\" role=\"button\" tabindex=\"0\" jsaction=\"h5M12e;rcuQ6b:npT2md\" data-ved=\"0ahUKEwjH05fDiNGHAxWNVaQEHXkkPLkQvs8DCAc\"><svg class=\"goxjub\" focusable=\"false\" viewBox=\"0 0 24 24\" xmlns=\"http://www.w3.org/2000/svg\"><path fill=\"#4285f4\" d=\"m12 15c1.66 0 3-1.31 3-2.97v-7.02c0-1.66-1.34-3.01-3-3.01s-3 1.34-3 3.01v7.02c0 1.66 1.34 2.97 3 2.97z\"></path><path fill=\"#34a853\" d=\"m11 18.08h2v3.92h-2z\"></path><path fill=\"#fbbc04\" d=\"m7.05 16.87c-1.27-1.33-2.05-2.83-2.05-4.87h2c0 1.45 0.56 2.42 1.47 3.38v0.32l-1.15 1.18z\"></path><path fill=\"#ea4335\" d=\"m12 16.93a4.97 5.25 0 0 1 -3.54 -1.55l-1.41 1.49c1.26 1.34 3.02 2.13 4.95 2.13 3.87 0 6.99-2.92 6.99-7h-1.99c0 2.92-2.24 4.93-5 4.93z\"></path></svg></div><style>.nDcEnd{flex:1 0 auto;display:flex;cursor:pointer;align-items:center;border:0;background:transparent;outline:none;padding:0 8px;width:24px;line-height:44px}.Gdd5U{height:24px;width:24px;vertical-align:middle}</style><div jscontroller=\"lpsUAf\" jsname=\"R5mgy\" class=\"nDcEnd\" data-base-lens-url=\"https://lens.google.com\" data-image-processor-enabled=\"true\" data-is-images-mode=\"false\" data-preferred-mime-type=\"image/jpeg\" data-propagated-experiment-ids=\"\" aria-label=\"Search by image\" role=\"button\" tabindex=\"0\" jsaction=\"rcuQ6b:npT2md;h5M12e\" data-ved=\"0ahUKEwjH05fDiNGHAxWNVaQEHXkkPLkQhqEICAg\"><svg class=\"Gdd5U\" focusable=\"false\" viewBox=\"0 0 192 192\" xmlns=\"http://www.w3.org/2000/svg\"><rect fill=\"none\" height=\"192\" width=\"192\"></rect><g><circle fill=\"#34a853\" cx=\"144.07\" cy=\"144\" r=\"16\"></circle><circle fill=\"#4285f4\" cx=\"96.07\" cy=\"104\" r=\"24\"></circle><path fill=\"#ea4335\" d=\"M24,135.2c0,18.11,14.69,32.8,32.8,32.8H96v-16l-40.1-0.1c-8.8,0-15.9-8.19-15.9-17.9v-18H24V135.2z\"></path><path fill=\"#fbbc04\" d=\"M168,72.8c0-18.11-14.69-32.8-32.8-32.8H116l20,16c8.8,0,16,8.29,16,18v30h16V72.8z\"></path><path fill=\"#4285f4\" d=\"M112,24l-32,0L68,40H56.8C38.69,40,24,54.69,24,72.8V92h16V74c0-9.71,7.2-18,16-18h80L112,24z\"></path></g></svg></div></div></div></div>', '<div class=\"spch\" style=\"display:none\" id=\"spch\"><style>.spch-dlg{background:transparent;border:none}.spch{background:var(--xhUGwc);height:100%;left:0;opacity:0;overflow:hidden;position:fixed;text-align:left;top:0;visibility:hidden;width:100%;z-index:10000;transition:visibility 0s linear 0.218s,background-color 0.218s;}.s2fp.spch{opacity:1;transition-delay:0s;visibility:visible;}.pz5bj{background:none;border:none;color:var(--IXoxUe);cursor:pointer;font-size:26px;right:0;line-height:15px;opacity:.6;margin:-1px -1px 0 0;padding:0 0 2px 0;height:48px;width:48px;position:absolute;top:0;z-index:10}.pz5bj:hover{opacity:.8}.pz5bj:active{opacity:1}.spchc{display:block;height:42px;pointer-events:none;margin:auto;position:relative;top:0;margin-top:312px;max-width:572px;min-width:534px;padding:0 223px}.inner-container{height:100%;opacity:.1;pointer-events:none;width:100%;transition:opacity .318s ease-in;}.s2ml .inner-container,.s2ra .inner-container,.s2er .inner-container,.OJaju .inner-container{opacity:1;transition:opacity 0s}</style>', \":#ea4335;border:0;box-shadow:none}.r8s4j{background-color:#dadce0;border-radius:100%;display:inline-block;opacity:1;pointer-events:none;position:absolute;transform:scale(.01);transition:opacity 0.218s;height:301px;left:-69px;top:-69px;width:301px;}.button-container{pointer-events:none;position:relative;transition:transform 0.218s,opacity 0.218s ease-in;transform:scale(.1);height:165px;width:165px;right:-70px;top:-70px;float:right;}.s2fp .button-container{transform:scale(1)}.s2ra .LgbsSe:active{background-color:#c5221f}.LgbsSe:active{background-color:#f8f9fa}\\\\x3c/style\\\\x3e\\\\x3cspan class\\\\x3d\\\\x22r8s4j\\\\x22 id\\\\x3d\\\\x22spchl\\\\x22\\\\x3e\\\\x3c/span\\\\x3e\\\\x3cspan class\\\\x3d\\\\x22LgbsSe\\\\x22 id\\\\x3d\\\\x22spchb\\\\x22\\\\x3e\\\\x3cdiv class\\\\x3d\\\\x22microphone\\\\x22\\\\x3e\\\\x3cstyle\\\\x3e.microphone{height:87px;pointer-events:none;position:absolute;width:42px;top:47px;transform:scale(1);left:43px;}.receiver{background-color:#999;border-radius:30px;height:46px;left:25px;pointer-events:none;position:absolute;width:24px}.wrapper{bottom:0;height:53px;left:11px;overflow:hidden;pointer-events:none;position:absolute;width:52px}.stem{background-color:#999;bottom:14px;height:14px;left:22px;pointer-events:none;position:absolute;width:9px;z-index:1}.shell{border:7px solid #999;border-radius:28px;bottom:27px;height:57px;pointer-events:none;position:absolute;width:38px;z-index:0;left:0px}.s2ml .receiver,.s2ml .stem{background-color:#f44}.s2ml .shell{border-color:#f44}.s2ra .receiver,.s2ra .stem{background-color:#fff}.s2ra .shell{border-color:#fff}\\\\x3c/style\\\\x3e\\\\x3cspan class\\\\x3d\\\\x22receiver\\\\x22\\\\x3e\\\\x3c/span\\\\x3e\\\\x3cdiv class\\\\x3d\\\\x22wrapper\\\\x22\\\\x3e\\\\x3cspan class\\\\x3d\\\\x22stem\\\\x22\\\\x3e\\\\x3c/span\\\\x3e\\\\x3cspan class\\\\x3d\\\\x22shell\\\\x22\\\\x3e\\\\x3c/span\\\\x3e\\\\x3c/div\\\\x3e\\\\x3c/div\\\\x3e\\\\x3c/span\\\\x3e\\\\x3c/div\\\\x3e\\\\x3cdiv class\\\\x3d\\\\x22text-container\\\\x22\\\\x3e\\\\x3cstyle\\\\x3e.text-container{pointer-events:none;position:absolute;}.spcht{font-weight:normal;line-height:1.2;opacity:0;pointer-events:none;position:absolute;text-align:left;-webkit-font-smoothing:antialiased;transition:opacity .1s ease-in,margin-left .5s ease-in,top 0s linear 0.218s;left:-44px;top:-.2em;margin-left:44px;font-size:32px;width:460px;}.s2fp .spcht{margin-left:0;opacity:1;transition:opacity .5s ease-out,margin-left .5s ease-out}.spchta{color:var(--JKqx2);cursor:pointer;font-size:18px;font-weight:500;pointer-events:auto;text-decoration:underline}.spch-2l.spcht,.spch-3l.spcht,.spch-4l.spcht{transition:top 0.218s ease-out}.spch-2l.spcht{top:-.6em}.spch-3l.spcht{top:-1.3em}.spch-4l.spcht{top:-1.7em}.s2fp .spch-5l.spcht{top:-2.5em;}\\\\x3c/style\\\\x3e\\\\x3cspan class\\\\x3d\\\\x22spcht\\\\x22 style\\\\x3d\\\\x22color:#70757a\\\\x22 id\\\\x3d\\\\x22spchi\\\\x22\\\\x3e\\\\x3c/span\\\\x3e\\\\x3cspan class\\\\x3d\\\\x22spcht\\\\x22 style\\\\x3d\\\\x22color:#000\\\\x22 id\\\\x3d\\\\x22spchf\\\\x22\\\\x3e\\\\x3c/span\\\\x3e\\\\x3c/div\\\\x3e\\\\x3cdiv class\\\\x3d\\\\x22google-logo\\\\x22\\\\x3e\\\\x3c/div\\\\x3e\\\\x3c/div\\\\x3e\\\\x3cdiv class\\\\x3d\\\\x22permission-bar\\\\x22\\\\x3e\\\\x3cstyle\\\\x3e.permission-bar{margin-top:-100px;opacity:0;pointer-events:none;position:absolute;width:500px;transition:opacity 0.218s ease-in,margin-top .4s ease-in}.s2wfp .permission-bar{margin-top:-300px;opacity:1;transition:opacity .5s ease-out 0.218s,margin-top 0.218s ease-out 0.218s}.permission-bar-gradient{box-shadow:0 1px 0px #4285f4;height:80px;left:0;margin:0;opacity:0;pointer-events:none;position:fixed;right:0;top:-80px;transition:opacity 0.218s,box-shadow 0.218s}.s2wfp .permission-bar-gradient{box-shadow:0 1px 80px #4285f4;opacity:1;pointer-events:none;animation:allow-alert .75s 0 infinite;animation-direction:alternate;animation-timing-function:ease-out;transition:opacity 0.218s,box-shadow 0.218s}@-webkit-keyframes allow-alert {from{opacity:1}to{opacity:.35}}\\\\x3c/style\\\\x3e\\\\x3cdiv class\\\\x3d\\\\x22permission-bar-gradient\\\\x22\\\\x3e\\\\x3c/div\\\\x3e\\\\x3c/div\\\\x3e\\\\x3c/div\\\\x3e');})();(function(){window.jsl.dh('_bRGqZofpAY2rkdUP-cjwyQs_6','\\\\x3cstyle\\\\x3e.YB4h9{background-color:var(--TMYS9);color:var(--EpFNW);padding:18px 60px 18px 12px;position:relative}.C85rO{font-size:20px}.Gtr0ne{padding-top:10px}.zYSLYb{}.YB\"]\n",
      "\n",
      "List of already executed instructions and actions:\n",
      "Click on the 'Accept all' button. \n",
      "- actions:\n",
      "    - action:\n",
      "        args:\n",
      "            xpath: \"/html/body/div[2]/div[2]/div[3]/span/div/div/div/div[3]/div/button[2]\"\n",
      "        name: \"click\"\n",
      "\n",
      " \n",
      "\n"
     ]
    }
   ],
   "source": [
    "\n",
    "prompt = generator.build_prompt(nodes, actions)\n",
    "print(prompt)\n"
   ]
  },
  {
   "cell_type": "code",
   "execution_count": 22,
   "metadata": {},
   "outputs": [
    {
     "name": "stdout",
     "output_type": "stream",
     "text": [
      "◜ Writing files...                       \n",
      "- pytest: ./generated_tests/demo_dev.feature\n",
      "- feature: ./generated_tests/demo_dev.py\n",
      "                   \r"
     ]
    },
    {
     "ename": "NameError",
     "evalue": "name 'self' is not defined",
     "output_type": "error",
     "traceback": [
      "\u001b[0;31m---------------------------------------------------------------------------\u001b[0m",
      "\u001b[0;31mNameError\u001b[0m                                 Traceback (most recent call last)",
      "\u001b[0;32m/var/folders/2j/ngs7f0lj3gxgtyh4s1mv5jm00000gn/T/ipykernel_40736/2122718174.py\u001b[0m in \u001b[0;36m<cell line: 0>\u001b[0;34m()\u001b[0m\n\u001b[1;32m      2\u001b[0m \u001b[0mgenerator\u001b[0m\u001b[0;34m.\u001b[0m\u001b[0mwrite_files\u001b[0m\u001b[0;34m(\u001b[0m\u001b[0mcode\u001b[0m\u001b[0;34m)\u001b[0m\u001b[0;34m\u001b[0m\u001b[0;34m\u001b[0m\u001b[0m\n\u001b[1;32m      3\u001b[0m print(\n\u001b[0;32m----> 4\u001b[0;31m     \u001b[0;34mf\"\\nTests successfully generated\\n - Run `pytest {self.code_file_name}` to run the generated test.\"\u001b[0m\u001b[0;34m\u001b[0m\u001b[0;34m\u001b[0m\u001b[0m\n\u001b[0m\u001b[1;32m      5\u001b[0m )\n",
      "\u001b[0;31mNameError\u001b[0m: name 'self' is not defined"
     ]
    }
   ],
   "source": [
    "code = generator.generate_pytest(prompt, screenshot)\n",
    "generator.write_files(code)\n",
    "print(\n",
    "    f\"\\nTests successfully generated\\n - Run `pytest {generator.code_file_name}` to run the generated test.\"\n",
    ")"
   ]
  },
  {
   "cell_type": "markdown",
   "metadata": {},
   "source": [
    "# Test cases\n",
    "**There are currently two examples test cases, only run the cell you want to test**"
   ]
  },
  {
   "cell_type": "markdown",
   "metadata": {},
   "source": [
    "## Scope packaging CLI\n",
    "\n",
    "\n",
    "copier coller de lavague tests avec \n",
    "\n",
    "/lavague-qa/\n",
    "    examples/\n",
    "        demo_amazon.yaml\n",
    "            URL\n",
    "            GHERKIN\n",
    "    src/\n",
    "\n",
    "```\n",
    "lavague-qa -url https://example.com -feature path/to/feature/file\n",
    "\n",
    "```\n"
   ]
  },
  {
   "cell_type": "markdown",
   "metadata": {},
   "source": [
    "## Test case 1: Amazon - ecommerce cart feature\n",
    "\n",
    "LaVague can help you add test coverage for critical parts of your websites such as a Cart feature for ecommerce. \n",
    "\n",
    "- Accept cookies\n",
    "- Perform a search\n",
    "- Click on a product\n",
    "- Add it to cart\n",
    "- Access the cart page\n",
    "- Remove the item from cart\n",
    "- Verify that the cart is empty"
   ]
  },
  {
   "cell_type": "code",
   "execution_count": null,
   "metadata": {},
   "outputs": [],
   "source": [
    "URL = \"https://www.amazon.fr/\"\n",
    "\n",
    "GHERKIN = \"\"\"Feature: Cart\n",
    "\n",
    "  As a user, \n",
    "  I want, \n",
    "  So that, \n",
    "\n",
    "  Scenario: Add and remove a single product from cart\n",
    "    Given I am on the homepage\n",
    "    When I click \"Accepter\" to accept cookies\n",
    "    And I enter \"Zero to One\" into the search bar and press Enter\n",
    "    And I click on the first product in the search results\n",
    "    And I click on the \"Ajouter au panier\" button\n",
    "    And I the confirmation message has been displayed\n",
    "    And I click on \"Aller au panier\" under \"Passer la commande\"\n",
    "    And I click on \"Supprimer\" from the cart page\n",
    "    Then the cart should be empty\n",
    "\"\"\"\n",
    "\n",
    "FEATURE_FILE_NAME = \"demo_amazon.feature\"\n",
    "TEST_FILE_NAME = \"demo_amazon.py\""
   ]
  },
  {
   "cell_type": "markdown",
   "metadata": {},
   "source": [
    "## Test case 2: La Poste - interactive components\n",
    "\n",
    "LaVague can test the proper behavior of interactive elements on your site\n",
    "\n",
    "- Accept cookies\n",
    "- Navigate to the shipping calculator\n",
    "- Select values for package size and weight\n",
    "- Verify the price is as expected"
   ]
  },
  {
   "cell_type": "code",
   "execution_count": null,
   "metadata": {},
   "outputs": [],
   "source": [
    "URL = \"https://www.laposte.fr/\"\n",
    "\n",
    "GHERKIN = \"\"\"Feature: Shipping cost calculator\n",
    "\n",
    "  Scenario: Estimate shipping costs for a large package\n",
    "    Given I am on the homepage\n",
    "    When I click on \"J'accepte\" to accept cookies\n",
    "    And I click on \"Envoyer un colis\"\n",
    "    And I click on the \"Format du colis\" dropdown under \"Dimension\"\n",
    "    And I click on \"Volumineux & tube\" from the dropdown results\n",
    "    And I enter 15 in the \"Poids\" field\n",
    "    And I wait for the cost to update\n",
    "    Then the cost should be \"34,70 €\"\n",
    "\"\"\"\n",
    "\n",
    "FEATURE_FILE_NAME = \"demo_laposte.feature\"\n",
    "TEST_FILE_NAME = \"demo_laposte.py\""
   ]
  },
  {
   "cell_type": "markdown",
   "metadata": {},
   "source": [
    "## Test case 3: Wikipedia login\n",
    "\n",
    "LaVague can test login features with some provided credentials\n",
    "\n",
    "- Accept cookies\n",
    "- Go to login\n",
    "- Login using credentials\n",
    "- Verifiy that login was successful"
   ]
  },
  {
   "cell_type": "code",
   "execution_count": 1,
   "metadata": {},
   "outputs": [],
   "source": [
    "URL = \"https://en.wikipedia.org/\"\n",
    "\n",
    "GHERKIN = \"\"\"Feature: Wikipedia Login\n",
    "\n",
    "  Scenario: User logs in successfully\n",
    "    Given the user is on the Wikipedia homepage\n",
    "    When the user navigates to the login page\n",
    "    And the user enters Lavague-test in the username field\n",
    "    And the user enters lavaguetest123 in the password field\n",
    "    And the user submits the login form\n",
    "    Then the login should be successful and the user is redirected to the main page\n",
    "\"\"\"\n",
    "\n",
    "FEATURE_FILE_NAME = \"demo_wikipedia.feature\"\n",
    "TEST_FILE_NAME = \"demo_wikipedia.py\""
   ]
  },
  {
   "cell_type": "markdown",
   "metadata": {},
   "source": [
    "## Test case 4: HSBC Navigation\n",
    "\n",
    "LaVague can make sure that links on your sites are not broken by checking multiple tabs if required\n",
    "\n",
    "- Go on homepage\n",
    "- Accept cookies\n",
    "- Click on a redirection link\n",
    "- Accept redirection\n",
    "- Switch to tab \n",
    "- Accept cookies\n",
    "- Navigate to another page\n",
    "- Check if expected page"
   ]
  },
  {
   "cell_type": "code",
   "execution_count": 12,
   "metadata": {},
   "outputs": [],
   "source": [
    "URL = \"https://www.hsbc.fr/\"\n",
    "\n",
    "GHERKIN = \"\"\"Feature: HSBC navigation\n",
    "\n",
    "  Scenario: Multi tab navigation\n",
    "    Given the user is on the HSBC homepage\n",
    "    When the user clicks on \"Tout accepter\" to accept cookies\n",
    "    And the user clicks on \"Global Banking and Markets\"\n",
    "    And the user clicks on \"Je comprends, continuons\"\n",
    "    And the user navigates to the new tab opened\n",
    "    And the user clicks on \"Accept all cookies\"\n",
    "    And the user clicks on \"About us\"\n",
    "    Then the user should be on the \"About us\" page of the \"Global Banking and Markets\" services of HSBC\n",
    "    \n",
    "  Scenario: Multi tab navigation 2\n",
    "    Given the user\n",
    "    When the user clicks on \"Tout accepter\" to accept cookies\n",
    "    And thel Banking and Markets\"\n",
    "    And the user clicks on \"Je comprends, continuons\"\n",
    "    And the usee new tab opened\n",
    "    And the user clicks on \"Accept all cookies\"\n",
    "    And thAbout us\"\n",
    "    Then the user should be on the \"About us\" page of the \"Global Banking and Markets\" services of HSBC\n",
    "\"\"\"\n",
    "\n",
    "FEATURE_FILE_NAME = \"demo_hsbc.feature\"\n",
    "TEST_FILE_NAME = \"demo_hsbc.py\""
   ]
  },
  {
   "cell_type": "markdown",
   "metadata": {},
   "source": [
    "## POC: End to end Gherkin generation\n",
    "\n",
    "We'll give LaVague the task of crawling the site and coming up with test cases in the Gherkin format that we will generate code for. This way we can add coverage from high level instructions. "
   ]
  },
  {
   "cell_type": "code",
   "execution_count": null,
   "metadata": {},
   "outputs": [],
   "source": [
    "URL = \"https://www.axa.fr/\"\n",
    "# OBJECTIVE = \"Output one valid Gherkin file containing three scenarios for one feature to be tested on this site. Test steps should be precise and site specific. Keep the tests simple and make sure \"\n",
    "OBJECTIVE = \"Output one valid Gherkin file containing three scenarios for one feature to be tested on this site. The feature you'll be outputting tests for should require no real world data and should be testable with synthetic data only. The three assert statements should be testable from the same end state for all scenarios. You can navigate to subpages to make sure you output precise site specific test steps.\"\n",
    "\n",
    "FEATURE_FILE_NAME = \"demo_endtoend.feature\"\n",
    "TEST_FILE_NAME = \"demo_endtoend.py\""
   ]
  },
  {
   "cell_type": "code",
   "execution_count": null,
   "metadata": {},
   "outputs": [],
   "source": [
    "from lavague.core import  WorldModel, ActionEngine\n",
    "from lavague.core.agents import WebAgent\n",
    "from lavague.drivers.selenium import SeleniumDriver\n",
    "from lavague.core.retrievers import SemanticRetriever\n",
    "from selenium.webdriver.chrome.options import Options\n",
    "\n",
    "from llama_index.llms.openai import OpenAI\n",
    "from llama_index.multi_modal_llms.openai import OpenAIMultiModal\n",
    "from llama_index.legacy.readers.file.base import SimpleDirectoryReader\n",
    "\n",
    "import time\n",
    "\n",
    "selenium_driver = SeleniumDriver(headless=False)\n",
    "world_model = WorldModel()\n",
    "action_engine = ActionEngine(selenium_driver)\n",
    "agent = WebAgent(world_model, action_engine)\n",
    "\n",
    "agent.get(URL)\n",
    "time.sleep(3)\n",
    "\n",
    "agent_output = agent.run(OBJECTIVE, log_to_db=True)\n",
    "\n",
    "logs = agent.logger.return_pandas()"
   ]
  },
  {
   "cell_type": "code",
   "execution_count": null,
   "metadata": {},
   "outputs": [],
   "source": [
    "print(agent_output)"
   ]
  },
  {
   "cell_type": "code",
   "execution_count": null,
   "metadata": {},
   "outputs": [],
   "source": [
    "\n",
    "def clean_output(markdown_code_block):\n",
    "    return markdown_code_block.replace(\"```gherkin\", \"\").replace(\"```\", \"\").replace(\"```\\n\", \"\").replace(\"gherkin\", \"\")\n",
    "\n",
    "GHERKIN = clean_output(agent_output.output)\n",
    "\n",
    "GHERKIN"
   ]
  },
  {
   "cell_type": "code",
   "execution_count": null,
   "metadata": {},
   "outputs": [],
   "source": [
    "gpt3_5 = OpenAI(\"gpt-3.5-turbo\")\n",
    "output = gpt3_5.complete(\"Output a valid Gherkin file surrounded by triple quotes from this: \" + GHERKIN, max_tokens=500).text\n"
   ]
  },
  {
   "cell_type": "code",
   "execution_count": null,
   "metadata": {},
   "outputs": [],
   "source": [
    "\n",
    "def clean_output(markdown_code_block):\n",
    "    return markdown_code_block.replace(\"```gherkin\", \"\").replace(\"```\", \"\").replace(\"```\\n\", \"\")\n",
    "\n",
    "print(clean_output(output))\n",
    "GHERKIN = clean_output(output)\n"
   ]
  },
  {
   "cell_type": "code",
   "execution_count": null,
   "metadata": {},
   "outputs": [],
   "source": [
    "URL = \"https://temp-mail.org/en/\"\n",
    "\n",
    "GHERKIN = \"\"\"Get a temporary email address from this website then go on https://wwws.airfrance.fr/ and attempt to create an account. Go back to the temp-mail website and verify the email address if needed. \n",
    "\"\"\"\n",
    "\n",
    "FEATURE_FILE_NAME = \"demo_airfrance.feature\"\n",
    "TEST_FILE_NAME = \"demo_airfrance.py\""
   ]
  },
  {
   "cell_type": "markdown",
   "metadata": {},
   "source": [
    "# Running a test case with LaVague"
   ]
  },
  {
   "cell_type": "markdown",
   "metadata": {},
   "source": [
    "## Parsing the Gherkin\n",
    "We parse the Gherkin file to extract the assert statement, this will be usefull when we want to generate the assert code"
   ]
  },
  {
   "cell_type": "code",
   "execution_count": null,
   "metadata": {},
   "outputs": [],
   "source": [
    "# scenarios = GHERKIN.split(\"Scenario:\")\n",
    "# parsed_scenarios = []\n",
    "# for scenario in scenarios[1:]:\n",
    "#     scenario_name, *scenario_steps = scenario.strip().split(\"\\n\")\n",
    "#     parsed_scenarios.append(\n",
    "#         {\n",
    "#             \"name\": scenario_name.strip(),\n",
    "#             \"steps\": [step.strip() for step in scenario_steps],\n",
    "#         }\n",
    "#     )\n",
    "\n",
    "# def prepare_scenario(scenario):\n",
    "#     return scenario[\"steps\"], scenario[\"steps\"][-1]\n",
    "\n",
    "\n",
    "# steps, assert_statement = prepare_scenario(parsed_scenarios[0])\n",
    "\n",
    "# print(assert_statement)\n",
    "# print(steps)"
   ]
  },
  {
   "cell_type": "code",
   "execution_count": 13,
   "metadata": {},
   "outputs": [],
   "source": [
    "scenarios = GHERKIN.split(\"Scenario:\")\n",
    "parsed_scenarios = []\n",
    "for scenario in scenarios[1:]:\n",
    "    scenario_name, *scenario_steps = scenario.strip().split(\"\\n\")\n",
    "    parsed_scenarios.append(\n",
    "        {\n",
    "            \"name\": scenario_name.strip(),\n",
    "            \"steps\": [step.strip() for step in scenario_steps],\n",
    "        }\n",
    "    )\n",
    "\n",
    "def prepare_scenario(scenario):\n",
    "    return scenario[\"steps\"], scenario[\"steps\"][-1]\n",
    "\n",
    "assert_statements = [scenario['steps'][-1] for scenario in parsed_scenarios]\n",
    "all_scenarios_string = \"\\n\".join([f\"Scenario: {scenario['name']}\\n\" + \"\\n\".join(scenario['steps']) for scenario in parsed_scenarios])"
   ]
  },
  {
   "cell_type": "code",
   "execution_count": 15,
   "metadata": {},
   "outputs": [
    {
     "name": "stdout",
     "output_type": "stream",
     "text": [
      "Scenario: Multi tab navigation\n",
      "Given the user is on the HSBC homepage\n",
      "When the user clicks on \"Tout accepter\" to accept cookies\n",
      "And the user clicks on \"Global Banking and Markets\"\n",
      "And the user clicks on \"Je comprends, continuons\"\n",
      "And the user navigates to the new tab opened\n",
      "And the user clicks on \"Accept all cookies\"\n",
      "And the user clicks on \"About us\"\n",
      "Then the user should be on the \"About us\" page of the \"Global Banking and Markets\" services of HSBC\n",
      "Scenario: Multi tab navigation 2\n",
      "Given the user\n",
      "When the user clicks on \"Tout accepter\" to accept cookies\n",
      "And thel Banking and Markets\"\n",
      "And the user clicks on \"Je comprends, continuons\"\n",
      "And the usee new tab opened\n",
      "And the user clicks on \"Accept all cookies\"\n",
      "And thAbout us\"\n",
      "Then the user should be on the \"About us\" page of the \"Global Banking and Markets\" services of HSBC\n"
     ]
    }
   ],
   "source": [
    "print(all_scenarios_string)"
   ]
  },
  {
   "cell_type": "code",
   "execution_count": 8,
   "metadata": {},
   "outputs": [
    {
     "name": "stdout",
     "output_type": "stream",
     "text": [
      "['Then the login should be successful and the user is redirected to the main page']\n",
      "[{'name': 'User logs in successfully', 'steps': ['Given the user is on the Wikipedia homepage', 'When the user navigates to the login page', 'And the user enters Lavague-test in the username field', 'And the user enters lavaguetest123 in the password field', 'And the user submits the login form', 'Then the login should be successful and the user is redirected to the main page']}]\n"
     ]
    }
   ],
   "source": [
    "URL = \"https://www.hsbc.fr/\"\n",
    "\n",
    "GHERKIN = \"\"\"Feature: HSBC navigation\n",
    "\n",
    "  Scenario: Multi tab navigation\n",
    "    Given the user is on the HSBC homepage\n",
    "    When the user clicks on \"Tout accepter\" to accept cookies\n",
    "    And the user clicks on \"Global Banking and Markets\"\n",
    "    And the user clicks on \"Je comprends, continuons\"\n",
    "    And the user navigates to the new tab opened\n",
    "    And the user clicks on \"Accept all cookies\"\n",
    "    And the user clicks on \"About us\"\n",
    "    Then the user should be on the \"About us\" page of the \"Global Banking and Markets\" services of HSBC\n",
    "\"\"\"\n",
    "\n",
    "FEATURE_FILE_NAME = \"demo_hsbc.feature\"\n",
    "TEST_FILE_NAME = \"demo_hsbc.py\""
   ]
  },
  {
   "cell_type": "code",
   "execution_count": 7,
   "metadata": {},
   "outputs": [
    {
     "ename": "TypeError",
     "evalue": "sequence item 0: expected str instance, dict found",
     "output_type": "error",
     "traceback": [
      "\u001b[0;31m---------------------------------------------------------------------------\u001b[0m",
      "\u001b[0;31mTypeError\u001b[0m                                 Traceback (most recent call last)",
      "Cell \u001b[0;32mIn[7], line 1\u001b[0m\n\u001b[0;32m----> 1\u001b[0m \u001b[38;5;28mprint\u001b[39m(\u001b[38;5;124;43m\"\u001b[39;49m\u001b[38;5;124;43m\"\u001b[39;49m\u001b[38;5;241;43m.\u001b[39;49m\u001b[43mjoin\u001b[49m\u001b[43m(\u001b[49m\u001b[43mparsed_scenarios\u001b[49m\u001b[43m)\u001b[49m)\n",
      "\u001b[0;31mTypeError\u001b[0m: sequence item 0: expected str instance, dict found"
     ]
    }
   ],
   "source": [
    "print(\"\".join(parsed_scenarios))"
   ]
  },
  {
   "cell_type": "markdown",
   "metadata": {},
   "source": [
    "## Init LaVague\n",
    "\n",
    "We create a standard LaVague agent and open the URL"
   ]
  },
  {
   "cell_type": "code",
   "execution_count": 3,
   "metadata": {},
   "outputs": [
    {
     "name": "stderr",
     "output_type": "stream",
     "text": [
      "2024-07-30 18:21:49,996 - INFO - Screenshot folder cleared\n"
     ]
    }
   ],
   "source": [
    "from lavague.core import  WorldModel, ActionEngine\n",
    "from lavague.core.agents import WebAgent\n",
    "from lavague.drivers.selenium import SeleniumDriver\n",
    "from lavague.core.retrievers import SemanticRetriever\n",
    "from selenium.webdriver.chrome.options import Options\n",
    "\n",
    "from llama_index.llms.openai import OpenAI\n",
    "from llama_index.multi_modal_llms.openai import OpenAIMultiModal\n",
    "from llama_index.legacy.readers.file.base import SimpleDirectoryReader\n",
    "\n",
    "selenium_driver = SeleniumDriver(headless=False)\n",
    "world_model = WorldModel()\n",
    "action_engine = ActionEngine(selenium_driver)\n",
    "agent = WebAgent(world_model, action_engine)\n",
    "\n",
    "agent.get(URL)"
   ]
  },
  {
   "cell_type": "markdown",
   "metadata": {},
   "source": [
    "## Start the agent\n",
    "We start the agent and record the steps taken as a `pandas` dataframe"
   ]
  },
  {
   "cell_type": "code",
   "execution_count": 4,
   "metadata": {},
   "outputs": [
    {
     "name": "stderr",
     "output_type": "stream",
     "text": [
      "2024-07-30 18:21:57,683 - INFO - Thoughts:\n",
      "- The current screenshot shows the Wikipedia homepage.\n",
      "- The first step in the scenario is to navigate to the login page.\n",
      "- The login link is typically found at the top right corner of the Wikipedia homepage.\n",
      "- The next step should involve clicking on the 'Log in' or 'Connexion' link to navigate to the login page.\n",
      "\n",
      "Next engine: Navigation Engine\n",
      "Instruction: Click on the 'Log in' or 'Connexion' link at the top right corner of the Wikipedia homepage.\n",
      "2024-07-30 18:22:12,151 - INFO - Thoughts:\n",
      "- The current screenshot shows the login page of Wikipedia.\n",
      "- The objective is to log in successfully using the provided credentials.\n",
      "- The next step involves entering the username 'Lavague-test' in the username field.\n",
      "\n",
      "Next engine: Navigation Engine\n",
      "Instruction: Enter 'Lavague-test' in the 'Nom d’utilisateur' (username) field.\n",
      "2024-07-30 18:22:25,216 - INFO - Thoughts:\n",
      "- The current screenshot shows the Wikipedia login page.\n",
      "- The username 'Lavague-test' has already been entered in the 'Nom d’utilisateur' field.\n",
      "- The next step is to enter the password 'lavaguetest123' in the 'Mot de passe' (password) field.\n",
      "- After entering the password, the subsequent step will be to submit the login form.\n",
      "\n",
      "Next engine: Navigation Engine\n",
      "Instruction: Enter 'lavaguetest123' in the 'Mot de passe' (password) field.\n",
      "2024-07-30 18:22:38,121 - INFO - Thoughts:\n",
      "- The current screenshot shows the Wikipedia login page.\n",
      "- The username and password fields have been filled with 'Lavague-test' and 'lavaguetest123' respectively.\n",
      "- The next step is to submit the login form to complete the login process.\n",
      "\n",
      "Next engine: Navigation Engine\n",
      "Instruction: Click on the 'Se connecter' button to submit the login form.\n",
      "2024-07-30 18:22:55,736 - INFO - Thoughts:\n",
      "- The current screenshot shows the Wikipedia homepage after logging in.\n",
      "- The username \"Lavague-test\" is displayed, indicating that the login was successful.\n",
      "- The objective is to ensure that the user is redirected to the main page after a successful login.\n",
      "- The current state confirms that the user is on the main page and logged in successfully.\n",
      "\n",
      "Next engine: COMPLETE\n",
      "Instruction: The login was successful, and the user is redirected to the main page.\n",
      "2024-07-30 18:22:55,737 - INFO - Objective reached. Stopping...\n"
     ]
    },
    {
     "name": "stdout",
     "output_type": "stream",
     "text": [
      "Connected to SQLite\n",
      "Table created or altered successfully\n",
      "Log insert complete\n"
     ]
    }
   ],
   "source": [
    "objective = \"Run these scenarios step by step, make sure you complete each step: \" + GHERKIN\n",
    "# objective = GHERKIN\n",
    "# # agent.get(\"https://wwws.airfrance.fr/\")\n",
    "agent.run(objective, log_to_db=True)\n",
    "\n",
    "logs = agent.logger.return_pandas()"
   ]
  },
  {
   "cell_type": "markdown",
   "metadata": {},
   "source": [
    "# Processing a test case\n",
    "\n",
    "## Extract run steps and code\n",
    "After the agent has finished running, we extract instructions and actions taken from the logs. \n",
    "We also get the screenshot of the last page visited. "
   ]
  },
  {
   "cell_type": "code",
   "execution_count": null,
   "metadata": {},
   "outputs": [],
   "source": []
  },
  {
   "cell_type": "code",
   "execution_count": 6,
   "metadata": {},
   "outputs": [
    {
     "name": "stdout",
     "output_type": "stream",
     "text": [
      "Click on the 'Log in' or 'Connexion' link at the top right corner of the Wikipedia homepage. \n",
      "- actions:\n",
      "    - action:\n",
      "        args:\n",
      "            xpath: \"/html/body/div/header/div[2]/nav/div/div[4]/div/ul/li[2]/a\"\n",
      "            value: \"\"\n",
      "        name: \"click\"\n",
      "\n",
      "Enter 'Lavague-test' in the 'Nom d’utilisateur' (username) field. \n",
      "- actions:\n",
      "    - action:\n",
      "        args:\n",
      "            xpath: \"/html/body/div[2]/div/div[3]/main/div[3]/div[3]/div[3]/div/form/div/div[2]/div/input\"\n",
      "            value: \"Lavague-test\"\n",
      "        name: \"setValue\"\n",
      "\n",
      "Enter 'lavaguetest123' in the 'Mot de passe' (password) field. \n",
      "- actions:\n",
      "    - action:\n",
      "        args:\n",
      "            xpath: \"/html/body/div[2]/div/div[3]/main/div[3]/div[3]/div[3]/div/form/div[2]/div[2]/div/input\"\n",
      "            value: \"lavaguetest123\"\n",
      "        name: \"setValue\"\n",
      "\n",
      "Click on the 'Se connecter' button to submit the login form. \n",
      "- actions:\n",
      "    - action:\n",
      "        args:\n",
      "            xpath: \"/html/body/div[2]/div/div[3]/main/div[3]/div[3]/div[3]/div/form/div[4]/div/button\"\n",
      "        name: \"click\"\n",
      "\n",
      " \n"
     ]
    }
   ],
   "source": [
    "# we will remove chain of thought comments to only keep the actions\n",
    "def remove_comments(code):\n",
    "    return '\\n'.join([line for line in code.split('\\n') if not line.strip().startswith('#')])\n",
    "\n",
    "# get all actions\n",
    "# actions = \"\\n\".join(logs[\"code\"].dropna())\n",
    "\n",
    "# clean data\n",
    "logs['action'] = logs['code'].dropna().apply(remove_comments)\n",
    "cleaned_logs = logs[['instruction', 'action']].fillna('')\n",
    "actions = '\\n\\n'.join(cleaned_logs['instruction'] + ' ' + cleaned_logs['action'])\n",
    "\n",
    "# get last page screenshot\n",
    "last_page_screenshot = SimpleDirectoryReader(logs.iloc[-1][\"screenshots_path\"]).load_data() # load last screenshot taken\n",
    "\n",
    "print(actions)"
   ]
  },
  {
   "cell_type": "markdown",
   "metadata": {},
   "source": [
    "## Retrieve nodes for assert\n",
    "Using the `SemanticRetriever`, we fetch nodes that could be relevant to generate the assert statement"
   ]
  },
  {
   "cell_type": "code",
   "execution_count": null,
   "metadata": {},
   "outputs": [],
   "source": [
    "\n",
    "# tester xpathed_only à false\n",
    "retriever = SemanticRetriever(embedding=action_engine.python_engine.embedding, xpathed_only=False)\n",
    "html = selenium_driver.get_html()\n",
    "nodes = retriever.retrieve(f\"{assert_statements}\" , html.splitlines())\n",
    "\n",
    "# evolution potentielle pour + de robustesse dans la génération d'assert: \n",
    "# - identifier le Xpath de l'element sur lequel faire l'assert (ajouter un autre retriever avant le SemanticRetriever)\n",
    "# - modifier la pipeline retrieval pour tagger chaque element avec un xpath\n",
    "# - passer ca dans un LLM + le assert pour identifier le xpath de l'element sur lequel faire l'assert. \n",
    "\n",
    "\n",
    "# tag all nodes with xpath -> semantic retrieve on the assert statement -> extract xpath from the node that matches the assert statement"
   ]
  },
  {
   "cell_type": "code",
   "execution_count": null,
   "metadata": {},
   "outputs": [],
   "source": [
    "print(nodes)"
   ]
  },
  {
   "cell_type": "code",
   "execution_count": null,
   "metadata": {},
   "outputs": [],
   "source": [
    "# you can run this cell to display all nodes returned by the retriever\n",
    "from IPython.display import HTML\n",
    "\n",
    "for e in nodes: \n",
    "    display(HTML(e))"
   ]
  },
  {
   "cell_type": "markdown",
   "metadata": {},
   "source": [
    "# Generate the `pytest` file\n",
    "Use recorded data about the site to generate a pytest-bdd file\n",
    "\n",
    "We use a multi modal LLM (`gpt-4o`) to generate the final code file"
   ]
  },
  {
   "cell_type": "code",
   "execution_count": null,
   "metadata": {},
   "outputs": [],
   "source": [
    "gpt4o = OpenAIMultiModal(\"gpt-4o\")\n",
    "gpt4o.max_new_tokens = 2000 # 300 by default, we increase it to make sure our pytest file doesn't get trucated\n",
    "\n",
    "# we'll clean the triple quoted answers from the LLM\n",
    "def clean_output(markdown_code_block):\n",
    "    return markdown_code_block.replace(\"```python\", \"\").replace(\"```\", \"\").replace(\"```\\n\", \"\")"
   ]
  },
  {
   "cell_type": "markdown",
   "metadata": {},
   "source": [
    "## Building the prompt\n",
    "\n",
    "We use a prompt that combines general instructions, examples and the recorded run data to generate the pytest file"
   ]
  },
  {
   "cell_type": "code",
   "execution_count": null,
   "metadata": {},
   "outputs": [],
   "source": [
    "EXAMPLE_PYTEST = \"\"\"import pytest\n",
    "from pytest_bdd import scenarios, given, when, then, parsers\n",
    "from selenium import webdriver\n",
    "from selenium.webdriver.common.by import By\n",
    "from selenium.webdriver.support.ui import WebDriverWait\n",
    "from selenium.webdriver.support import expected_conditions as EC\n",
    "from selenium.common.exceptions import ElementClickInterceptedException\n",
    "import time\n",
    "import random\n",
    "\n",
    "# Constants\n",
    "BASE_URL = 'https://example.com'\n",
    "\n",
    "# Scenarios\n",
    "scenarios('complex_example.feature')\n",
    "\n",
    "# Fixtures\n",
    "@pytest.fixture\n",
    "def browser():\n",
    "    driver = webdriver.Chrome()\n",
    "    driver.implicitly_wait(10)\n",
    "    yield driver\n",
    "    driver.quit()\n",
    "\n",
    "# Steps\n",
    "@given('I am on the example website')\n",
    "def go_to_homepage(browser):\n",
    "    browser.get(BASE_URL)\n",
    "\n",
    "@when('I navigate to the product catalog')\n",
    "def navigate_to_catalog(browser):\n",
    "    catalog_link = WebDriverWait(browser, 10).until(\n",
    "        EC.element_to_be_clickable((By.XPATH, \"/html/body/div[1]/header/nav/ul/li[3]/a\"))\n",
    "    )\n",
    "    try:\n",
    "        browser.execute_script(\"arguments[0].click();\", catalog_link)\n",
    "    except ElementClickInterceptedException:\n",
    "        pytest.fail(\"Failed to navigate to the product catalog\")\n",
    "\n",
    "@when('I filter products by category')\n",
    "def filter_products(browser):\n",
    "    category_dropdown = WebDriverWait(browser, 10).until(\n",
    "        EC.presence_of_element_located((By.XPATH, \"/html/body/div[2]/main/div/div[1]/aside/div[3]/select\"))\n",
    "    )\n",
    "    options = category_dropdown.find_elements(By.TAG_NAME, \"option\")\n",
    "    random_option = random.choice(options[1:])  # Exclude the first option if it's a placeholder\n",
    "    random_option.click()\n",
    "\n",
    "@when('I sort products by price')\n",
    "def sort_products(browser):\n",
    "    sort_button = WebDriverWait(browser, 10).until(\n",
    "        EC.element_to_be_clickable((By.XPATH, \"/html/body/div[2]/main/div/div[2]/div[1]/div/button[2]\"))\n",
    "    )\n",
    "    try:\n",
    "        browser.execute_script(\"arguments[0].click();\", sort_button)\n",
    "    except ElementClickInterceptedException:\n",
    "        pytest.fail(\"Failed to sort products\")\n",
    "\n",
    "@when('I add a random product to the cart')\n",
    "def add_to_cart(browser):\n",
    "    products = browser.find_elements(By.XPATH, \"/html/body/div[2]/main/div/div[2]/ul/li\")\n",
    "    random_product = random.choice(products)\n",
    "    add_to_cart_button = random_product.find_element(By.XPATH, \".//button[@data-testid='add-to-cart']\")\n",
    "    try:\n",
    "        browser.execute_script(\"arguments[0].click();\", add_to_cart_button)\n",
    "    except ElementClickInterceptedException:\n",
    "        pytest.fail(\"Failed to add product to cart\")\n",
    "\n",
    "@when('I proceed to checkout')\n",
    "def proceed_to_checkout(browser):\n",
    "    checkout_button = WebDriverWait(browser, 10).until(\n",
    "        EC.element_to_be_clickable((By.XPATH, \"/html/body/div[1]/header/div[2]/div/div/a\"))\n",
    "    )\n",
    "    try:\n",
    "        browser.execute_script(\"arguments[0].click();\", checkout_button)\n",
    "    except ElementClickInterceptedException:\n",
    "        pytest.fail(\"Failed to proceed to checkout\")\n",
    "\n",
    "@then('I should see the checkout form')\n",
    "def verify_checkout_form(browser):\n",
    "    try:\n",
    "        WebDriverWait(browser, 10).until(\n",
    "            EC.presence_of_element_located((By.ID, \"checkout-form\"))\n",
    "        )\n",
    "    except Exception as e:\n",
    "        pytest.fail(f\"Checkout form not found: {str(e)}\")\n",
    "\n",
    "@then('the cart total should be correct')\n",
    "def verify_cart_total(browser):\n",
    "    try:\n",
    "        total_element = WebDriverWait(browser, 10).until(\n",
    "            EC.presence_of_element_located((By.ID, \"cart-total\"))\n",
    "        )\n",
    "        total_value = float(total_element.text.replace('$', ''))\n",
    "        assert total_value > 0, \"Cart total should be greater than zero\"\n",
    "    except Exception as e:\n",
    "        pytest.fail(f\"Failed to verify cart total: {str(e)}\")\n",
    "\n",
    "@then('the product list should be visible')\n",
    "def verify_product_list(browser):\n",
    "    try:\n",
    "        WebDriverWait(browser, 10).until(\n",
    "            EC.presence_of_element_located((By.CLASS_NAME, \"product-list\"))\n",
    "        )\n",
    "    except Exception as e:\n",
    "        pytest.fail(f\"Product list not found: {str(e)}\")\n",
    "\n",
    "@then('the category filter should be available')\n",
    "def verify_category_filter(browser):\n",
    "    try:\n",
    "        filter_element = WebDriverWait(browser, 10).until(\n",
    "            EC.presence_of_element_located((By.ID, \"category-filter\"))\n",
    "        )\n",
    "        assert filter_element.is_enabled(), \"Category filter should be enabled\"\n",
    "    except Exception as e:\n",
    "        pytest.fail(f\"Category filter not found or not enabled: {str(e)}\")\n",
    "\n",
    "@then('the \"Add to Cart\" button should be present for each product')\n",
    "def verify_add_to_cart_buttons(browser):\n",
    "    try:\n",
    "        add_to_cart_buttons = WebDriverWait(browser, 10).until(\n",
    "            EC.presence_of_all_elements_located((By.CSS_SELECTOR, \"button[data-testid='add-to-cart']\"))\n",
    "        )\n",
    "        assert len(add_to_cart_buttons) > 0, \"No 'Add to Cart' buttons found\"\n",
    "    except Exception as e:\n",
    "        pytest.fail(f\"Failed to verify 'Add to Cart' buttons: {str(e)}\")\n",
    "\"\"\"\n",
    "\n",
    "\n",
    "PROMPT = f\"\"\"\n",
    "You are an expert in software testing frameworks and Python code generation. You answer in python markdown only and nothing else.\n",
    "Your only goal is to generate pytest-bdd files based on the provided Gherkin feature, a collection of instructions and actions, and a specific assert statement to test.\n",
    "You will use the provided information to generate a valid assert statement. \n",
    "- Name the scenario appropriately.\n",
    "- Always use time.sleep(3) if waiting is required.\n",
    "- Include all necessary imports and fixtures.\n",
    "- Use provided actions to find valid XPath selectors for the final pytest file. \n",
    "- You answer in python code only and nothing else.\n",
    "\n",
    "I will provide an example below:\n",
    "----------\n",
    "Feature file name: example.feature\n",
    "\n",
    "URL: https://www.example.com\n",
    "\n",
    "Gherkin of the feature to be tested: \n",
    "\n",
    "Feature: E-commerce Website Interaction\n",
    "\n",
    "  Scenario: Browse products and checkout\n",
    "    Given I am on the example website\n",
    "    When I navigate to the product catalog\n",
    "    And I filter products by category\n",
    "    And I sort products by price\n",
    "    And I add a random product to the cart\n",
    "    And I proceed to checkout\n",
    "    Then the cart total should be correct\n",
    "\n",
    "Assert statement Then the cart total should be correct\n",
    "\n",
    "List of already executed instructions and actions:\n",
    "- instruction: Navigate to the product catalog page\n",
    "  actions:\n",
    "    - action:\n",
    "        name: \"click\"\n",
    "        args:\n",
    "          xpath: \"/html/body/div[1]/header/nav/ul/li[3]/a\"\n",
    "          value: \"\"\n",
    "\n",
    "- instruction: Select a category from the dropdown filter\n",
    "  actions:\n",
    "    - action:\n",
    "        name: \"click\"\n",
    "        args:\n",
    "          xpath: \"/html/body/div[2]/main/div/div[1]/aside/div[3]/select/option[3]\"\n",
    "          value: \"\"\n",
    "\n",
    "- instruction: Sort products by price\n",
    "  actions:\n",
    "    - action:\n",
    "        name: \"click\"\n",
    "        args:\n",
    "          xpath: \"/html/body/div[2]/main/div/div[2]/div[1]/div/button[2]\"\n",
    "          value: \"\"\n",
    "\n",
    "- instruction: Add a random product to the cart\n",
    "  actions:\n",
    "    - action:\n",
    "        name: \"click\"\n",
    "        args:\n",
    "          xpath: \"/html/body/div[2]/main/div/div[2]/ul/li[5]/div/button[@data-testid='add-to-cart']\"\n",
    "          value: \"\"\n",
    "\n",
    "- instruction: Proceed to checkout\n",
    "  actions:\n",
    "    - action:\n",
    "        name: \"click\"\n",
    "        args:\n",
    "          xpath: \"/html/body/div[1]/header/div[2]/div/div/a\"\n",
    "          value: \"\"\n",
    "          \n",
    "          \n",
    "Resulting pytest code: \n",
    "{EXAMPLE_PYTEST}\n",
    "\n",
    "----------\n",
    "Given this information, generate a valid pytest-bdd file with the following inputs:\n",
    "Feature file name: {FEATURE_FILE_NAME}\\n\n",
    "URL: {URL}\\n\n",
    "Gherkin of the feature to be tested:\n",
    "{GHERKIN}\\n\n",
    "Assert statement: {assert_statements}\\n\n",
    "Potentially relevant nodes that you may use to help you generate the assert code: {nodes}\\n\n",
    "List of already executed instructions and actions:\n",
    "{actions}\\n\n",
    "\"\"\""
   ]
  },
  {
   "cell_type": "code",
   "execution_count": null,
   "metadata": {},
   "outputs": [],
   "source": [
    "print(PROMPT)"
   ]
  },
  {
   "cell_type": "markdown",
   "metadata": {},
   "source": [
    "## Generate the test\n",
    "Call the LLM with the final prompt then clean the ouput"
   ]
  },
  {
   "cell_type": "code",
   "execution_count": null,
   "metadata": {},
   "outputs": [],
   "source": [
    "generated_pytest = gpt4o.complete(PROMPT, image_documents=last_page_screenshot).text\n",
    "generated_pytest = clean_output(generated_pytest)"
   ]
  },
  {
   "cell_type": "code",
   "execution_count": null,
   "metadata": {},
   "outputs": [],
   "source": [
    "print(generated_pytest)"
   ]
  },
  {
   "cell_type": "markdown",
   "metadata": {},
   "source": [
    "## Write test to file\n",
    "\n",
    "We'll write two generated files to disk: \n",
    "- `.feature` contains the test scenarios written in the Gherkin syntax\n",
    "- `.py` the actual automated test that we'll run with pytest"
   ]
  },
  {
   "cell_type": "code",
   "execution_count": null,
   "metadata": {},
   "outputs": [],
   "source": [
    "import os\n",
    "with open(FEATURE_FILE_NAME, \"w\") as file:\n",
    "        file.write(GHERKIN)\n",
    "        \n",
    "with open(TEST_FILE_NAME, \"w\") as file:\n",
    "        print(\"WRITING FILE\")\n",
    "        file.write(generated_pytest)"
   ]
  },
  {
   "cell_type": "markdown",
   "metadata": {},
   "source": [
    "# Run tests\n",
    "\n",
    "We can finally run our generated test to see it in action"
   ]
  },
  {
   "cell_type": "code",
   "execution_count": null,
   "metadata": {},
   "outputs": [],
   "source": [
    "!pytest demo_amazon.py"
   ]
  },
  {
   "cell_type": "code",
   "execution_count": null,
   "metadata": {},
   "outputs": [],
   "source": [
    "!pytest demo_laposte.py"
   ]
  },
  {
   "cell_type": "code",
   "execution_count": null,
   "metadata": {},
   "outputs": [],
   "source": [
    "!pytest demo_wikipedia.py"
   ]
  },
  {
   "cell_type": "code",
   "execution_count": null,
   "metadata": {},
   "outputs": [],
   "source": [
    "!pytest demo_hsbc.py"
   ]
  },
  {
   "cell_type": "code",
   "execution_count": null,
   "metadata": {},
   "outputs": [],
   "source": [
    "!pytest -v demo_endtoend.py"
   ]
  },
  {
   "cell_type": "code",
   "execution_count": null,
   "metadata": {},
   "outputs": [],
   "source": []
  }
 ],
 "metadata": {
  "kernelspec": {
   "display_name": "lavague-Oj4z07SL-py3.11",
   "language": "python",
   "name": "python3"
  },
  "language_info": {
   "codemirror_mode": {
    "name": "ipython",
    "version": 3
   },
   "file_extension": ".py",
   "mimetype": "text/x-python",
   "name": "python",
   "nbconvert_exporter": "python",
   "pygments_lexer": "ipython3",
   "version": "3.11.2"
  }
 },
 "nbformat": 4,
 "nbformat_minor": 2
}
