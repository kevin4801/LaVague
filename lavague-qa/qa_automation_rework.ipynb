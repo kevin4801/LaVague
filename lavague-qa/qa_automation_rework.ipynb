{
 "cells": [
  {
   "cell_type": "markdown",
   "metadata": {},
   "source": [
    "# Using LaVague for QA Automation\n",
    "\n",
    "In this notebook, we'll show how LaVague can be used to automatically generate pytest files from a Gherkin test definition.\n",
    "\n",
    "We will use the `TestGenerator` class that powers the `lavague-qa` CLI you can use to generate your tests fast. \n",
    "\n",
    "We will use LaVague to autonomously run the test and record xpath and actions. We'll then use an LLM to generate assert statements and the final reusable test file. "
   ]
  },
  {
   "cell_type": "code",
   "execution_count": null,
   "metadata": {},
   "outputs": [],
   "source": [
    "from lavague.qa.generator import TestGenerator\n",
    "import os\n",
    "\n",
    "example_features = {\n",
    "    \"demo_hsbc\": {\n",
    "        \"path\": \"./features/demo_hsbc.feature\",\n",
    "        \"url\": \"http://hsbc.fr/\"\n",
    "    },\n",
    "    \"demo_dev\": {\n",
    "        \"path\": \"./features/demo_dev.feature\",\n",
    "        \"url\": \"http://google.com/\"\n",
    "    },\n",
    "    \"demo_laposte\": {\n",
    "        \"path\": \"./features/demo_laposte.feature\",\n",
    "        \"url\": \"http://laposte.fr/\"\n",
    "    },\n",
    "    \"demo_amazon\": {\n",
    "        \"path\": \"./features/demo_amazon.feature\",\n",
    "        \"url\": \"http://amazon.com/\"\n",
    "    },\n",
    "    \"demo_wikipedia\": {\n",
    "        \"path\": \"./features/demo_wikipedia.feature\",\n",
    "        \"url\": \"http://en.wikipedia.org\"\n",
    "    }\n",
    "}\n",
    "\n",
    "feature = example_features[\"demo_dev\"]\n",
    "\n",
    "generator = TestGenerator(feature[\"url\"], feature[\"path\"], headless=False, log_to_db=True)\n",
    "\n"
   ]
  },
  {
   "cell_type": "code",
   "execution_count": null,
   "metadata": {},
   "outputs": [],
   "source": [
    "logs, nodes = generator.run_lavague_agent()\n",
    "logs.head()"
   ]
  },
  {
   "cell_type": "code",
   "execution_count": null,
   "metadata": {},
   "outputs": [],
   "source": [
    "actions, screenshot = generator.process_logs(logs)\n",
    "print(actions)"
   ]
  },
  {
   "cell_type": "code",
   "execution_count": null,
   "metadata": {},
   "outputs": [],
   "source": [
    "\n",
    "prompt = generator.build_prompt(nodes, actions)\n",
    "print(prompt)\n"
   ]
  },
  {
   "cell_type": "code",
   "execution_count": null,
   "metadata": {},
   "outputs": [],
   "source": [
    "code = generator.generate_pytest(prompt, screenshot)\n",
    "print(code)\n"
   ]
  },
  {
   "cell_type": "code",
   "execution_count": null,
   "metadata": {},
   "outputs": [],
   "source": [
    "generator.write_files(code)\n",
    "print(\n",
    "    f\"\\nTests successfully generated\\n - Run `pytest {generator.code_file_name}` to run the generated test.\"\n",
    ")"
   ]
  },
  {
   "cell_type": "markdown",
   "metadata": {},
   "source": [
    "# Run tests\n",
    "\n",
    "We can finally run our generated test to see it in action"
   ]
  },
  {
   "cell_type": "code",
   "execution_count": null,
   "metadata": {},
   "outputs": [],
   "source": [
    "!pytest demo_amazon.py"
   ]
  },
  {
   "cell_type": "code",
   "execution_count": null,
   "metadata": {},
   "outputs": [],
   "source": [
    "!pytest demo_laposte.py"
   ]
  },
  {
   "cell_type": "code",
   "execution_count": null,
   "metadata": {},
   "outputs": [],
   "source": [
    "!pytest demo_wikipedia.py"
   ]
  },
  {
   "cell_type": "code",
   "execution_count": null,
   "metadata": {},
   "outputs": [],
   "source": [
    "!pytest demo_hsbc.py"
   ]
  },
  {
   "cell_type": "code",
   "execution_count": null,
   "metadata": {},
   "outputs": [],
   "source": [
    "!pytest demo_dev.py"
   ]
  }
 ],
 "metadata": {
  "kernelspec": {
   "display_name": "lavague-Oj4z07SL-py3.11",
   "language": "python",
   "name": "python3"
  },
  "language_info": {
   "codemirror_mode": {
    "name": "ipython",
    "version": 3
   },
   "file_extension": ".py",
   "mimetype": "text/x-python",
   "name": "python",
   "nbconvert_exporter": "python",
   "pygments_lexer": "ipython3",
   "version": "3.11.2"
  }
 },
 "nbformat": 4,
 "nbformat_minor": 2
}
